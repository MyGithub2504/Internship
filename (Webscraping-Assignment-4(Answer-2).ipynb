{
 "cells": [
  {
   "cell_type": "code",
   "execution_count": 69,
   "metadata": {},
   "outputs": [],
   "source": [
    "# lets now import all the required libraries\n",
    "import selenium\n",
    "import pandas as pd\n",
    "from selenium import webdriver\n",
    "import time\n",
    "import warnings\n",
    "from time import sleep\n",
    "warnings.filterwarnings(\"ignore\")\n"
   ]
  },
  {
   "cell_type": "code",
   "execution_count": 70,
   "metadata": {},
   "outputs": [],
   "source": [
    "#Lets first connect to the web driver\n",
    "driver = webdriver.Chrome(r\"C:\\Users\\user\\Downloads\\chromedriver_win32\\chromedriver.exe\")"
   ]
  },
  {
   "cell_type": "code",
   "execution_count": 71,
   "metadata": {},
   "outputs": [],
   "source": [
    "driver.get(\"https://www.bcci.tv/\")\n",
    "driver.maximize_window()"
   ]
  },
  {
   "cell_type": "code",
   "execution_count": 72,
   "metadata": {},
   "outputs": [],
   "source": [
    "btn1=driver.find_element_by_xpath(\"/html[1]/body[1]/div[3]/div[1]/div[2]/div[2]/nav[1]/ul[1]/li[1]/div[2]\")\n",
    "btn1.click()"
   ]
  },
  {
   "cell_type": "code",
   "execution_count": 73,
   "metadata": {},
   "outputs": [],
   "source": [
    "btn2=driver.find_element_by_xpath(\"//body/div[3]/div[1]/div[2]/div[2]/nav[1]/ul[1]/li[1]/div[2]/div[1]/ul[1]/li[1]/a[1]\")\n",
    "btn2.click()"
   ]
  },
  {
   "cell_type": "code",
   "execution_count": 74,
   "metadata": {},
   "outputs": [],
   "source": [
    "Match_Title=[]\n",
    "Series=[]\n",
    "Place=[]\n",
    "Date=[]\n",
    "Time=[]\n",
    "Month=[]"
   ]
  },
  {
   "cell_type": "code",
   "execution_count": 75,
   "metadata": {},
   "outputs": [
    {
     "data": {
      "text/plain": [
       "['INDIA v NAMIBIA',\n",
       " 'INDIA v NEW ZEALAND',\n",
       " 'INDIA v NEW ZEALAND',\n",
       " 'INDIA v NEW ZEALAND',\n",
       " 'INDIA v NEW ZEALAND',\n",
       " 'INDIA v NEW ZEALAND',\n",
       " 'INDIA v WEST INDIES',\n",
       " 'INDIA v WEST INDIES',\n",
       " 'INDIA v WEST INDIES',\n",
       " 'INDIA v WEST INDIES']"
      ]
     },
     "execution_count": 75,
     "metadata": {},
     "output_type": "execute_result"
    }
   ],
   "source": [
    "title=driver.find_elements_by_xpath('//div[@class=\"fixture__teams\"]')\n",
    "for tt in title:\n",
    "    try:\n",
    "        Match_Title.append(tt.text.replace(\"\\n\",\" \"))\n",
    "    except:\n",
    "        Match_Title.append('-')\n",
    "        Match_Title.append('NoSuchElementException')\n",
    "Match_Title[0:]"
   ]
  },
  {
   "cell_type": "code",
   "execution_count": 76,
   "metadata": {},
   "outputs": [
    {
     "data": {
      "text/plain": [
       "['Dubai International Stadium, Dubai',\n",
       " 'Sawai Mansingh Stadium, Jaipur',\n",
       " 'JSCA International Stadium Complex, Ranchi',\n",
       " 'Eden Gardens, Kolkata',\n",
       " 'Green Park, Kanpur',\n",
       " 'Wankhede Stadium, Mumbai',\n",
       " 'Narendra Modi Stadium, Ahmedabad',\n",
       " 'Sawai Mansingh Stadium, Jaipur',\n",
       " 'Eden Gardens, Kolkata',\n",
       " 'Barabati Stadium, Cuttack']"
      ]
     },
     "execution_count": 76,
     "metadata": {},
     "output_type": "execute_result"
    }
   ],
   "source": [
    "place=driver.find_elements_by_xpath('//p[@class=\"fixture__additional-info\"]/span')\n",
    "for sno in place:\n",
    "    try:\n",
    "        Place.append(sno.text)\n",
    "    except:\n",
    "        Place.append('-')\n",
    "        Place.append('NoSuchElementException')\n",
    "Place[0:]"
   ]
  },
  {
   "cell_type": "code",
   "execution_count": 77,
   "metadata": {},
   "outputs": [
    {
     "data": {
      "text/plain": [
       "[\"2021 ICC MEN'S T20 WORLD CUP\",\n",
       " 'INDIA V NEW ZEALAND 2021',\n",
       " 'INDIA V NEW ZEALAND 2021',\n",
       " 'INDIA V NEW ZEALAND 2021',\n",
       " 'INDIA V NEW ZEALAND 2021',\n",
       " 'INDIA V NEW ZEALAND 2021',\n",
       " 'INDIA V WEST INDIES 2022',\n",
       " 'INDIA V WEST INDIES 2022',\n",
       " 'INDIA V WEST INDIES 2022',\n",
       " 'INDIA V WEST INDIES 2022']"
      ]
     },
     "execution_count": 77,
     "metadata": {},
     "output_type": "execute_result"
    }
   ],
   "source": [
    "series=driver.find_elements_by_xpath('//span[@class=\"u-unskewed-text fixture__tournament-label u-truncated\"]')\n",
    "for video in series:\n",
    "    try:\n",
    "        Series.append(video.text)\n",
    "    except:\n",
    "        Series.append('-')\n",
    "        Series.append('NoSuchElementException')\n",
    "Series[0:]"
   ]
  },
  {
   "cell_type": "code",
   "execution_count": 78,
   "metadata": {},
   "outputs": [
    {
     "data": {
      "text/plain": [
       "['08', '17', '19', '21', '25', '03', '06', '09', '12', '15']"
      ]
     },
     "execution_count": 78,
     "metadata": {},
     "output_type": "execute_result"
    }
   ],
   "source": [
    "dates=driver.find_elements_by_xpath('//span[@class=\"fixture__date\"]')\n",
    "for date in dates:\n",
    "    try:\n",
    "        Date.append(date.text)\n",
    "    except NoSuchElementException:\n",
    "        Date.append('-')\n",
    "Date[0:10]"
   ]
  },
  {
   "cell_type": "code",
   "execution_count": 79,
   "metadata": {},
   "outputs": [
    {
     "data": {
      "text/plain": [
       "['NOVEMBER',\n",
       " 'NOVEMBER',\n",
       " 'NOVEMBER',\n",
       " 'NOVEMBER',\n",
       " 'NOVEMBER',\n",
       " 'DECEMBER',\n",
       " 'FEBRUARY',\n",
       " 'FEBRUARY',\n",
       " 'FEBRUARY',\n",
       " 'FEBRUARY']"
      ]
     },
     "execution_count": 79,
     "metadata": {},
     "output_type": "execute_result"
    }
   ],
   "source": [
    "month=driver.find_elements_by_xpath('//span[@class=\"fixture__month\"]')\n",
    "for m in month:\n",
    "    try:\n",
    "        Month.append(m.text)\n",
    "    except NoSuchElementException:\n",
    "        Month.append('-')\n",
    "Month[0:]"
   ]
  },
  {
   "cell_type": "code",
   "execution_count": 80,
   "metadata": {},
   "outputs": [
    {
     "data": {
      "text/plain": [
       "['19:30 IST']"
      ]
     },
     "execution_count": 80,
     "metadata": {},
     "output_type": "execute_result"
    }
   ],
   "source": [
    "time=driver.find_elements_by_xpath('//span[@class=\"fixture__time\"]')\n",
    "for t in time:\n",
    "    try:\n",
    "        Time.append(t.text)\n",
    "    except NoSuchElementException:\n",
    "        Time.append('-')\n",
    "Time[0:10]"
   ]
  },
  {
   "cell_type": "code",
   "execution_count": 81,
   "metadata": {},
   "outputs": [
    {
     "data": {
      "text/html": [
       "<div>\n",
       "<style scoped>\n",
       "    .dataframe tbody tr th:only-of-type {\n",
       "        vertical-align: middle;\n",
       "    }\n",
       "\n",
       "    .dataframe tbody tr th {\n",
       "        vertical-align: top;\n",
       "    }\n",
       "\n",
       "    .dataframe thead th {\n",
       "        text-align: right;\n",
       "    }\n",
       "</style>\n",
       "<table border=\"1\" class=\"dataframe\">\n",
       "  <thead>\n",
       "    <tr style=\"text-align: right;\">\n",
       "      <th></th>\n",
       "      <th>Match_Title</th>\n",
       "      <th>Series</th>\n",
       "      <th>Place</th>\n",
       "      <th>Date</th>\n",
       "      <th>Month</th>\n",
       "    </tr>\n",
       "  </thead>\n",
       "  <tbody>\n",
       "    <tr>\n",
       "      <th>0</th>\n",
       "      <td>INDIA v NAMIBIA</td>\n",
       "      <td>2021 ICC MEN'S T20 WORLD CUP</td>\n",
       "      <td>Dubai International Stadium, Dubai</td>\n",
       "      <td>08</td>\n",
       "      <td>NOVEMBER</td>\n",
       "    </tr>\n",
       "    <tr>\n",
       "      <th>1</th>\n",
       "      <td>INDIA v NEW ZEALAND</td>\n",
       "      <td>INDIA V NEW ZEALAND 2021</td>\n",
       "      <td>Sawai Mansingh Stadium, Jaipur</td>\n",
       "      <td>17</td>\n",
       "      <td>NOVEMBER</td>\n",
       "    </tr>\n",
       "    <tr>\n",
       "      <th>2</th>\n",
       "      <td>INDIA v NEW ZEALAND</td>\n",
       "      <td>INDIA V NEW ZEALAND 2021</td>\n",
       "      <td>JSCA International Stadium Complex, Ranchi</td>\n",
       "      <td>19</td>\n",
       "      <td>NOVEMBER</td>\n",
       "    </tr>\n",
       "    <tr>\n",
       "      <th>3</th>\n",
       "      <td>INDIA v NEW ZEALAND</td>\n",
       "      <td>INDIA V NEW ZEALAND 2021</td>\n",
       "      <td>Eden Gardens, Kolkata</td>\n",
       "      <td>21</td>\n",
       "      <td>NOVEMBER</td>\n",
       "    </tr>\n",
       "    <tr>\n",
       "      <th>4</th>\n",
       "      <td>INDIA v NEW ZEALAND</td>\n",
       "      <td>INDIA V NEW ZEALAND 2021</td>\n",
       "      <td>Green Park, Kanpur</td>\n",
       "      <td>25</td>\n",
       "      <td>NOVEMBER</td>\n",
       "    </tr>\n",
       "    <tr>\n",
       "      <th>5</th>\n",
       "      <td>INDIA v NEW ZEALAND</td>\n",
       "      <td>INDIA V NEW ZEALAND 2021</td>\n",
       "      <td>Wankhede Stadium, Mumbai</td>\n",
       "      <td>03</td>\n",
       "      <td>DECEMBER</td>\n",
       "    </tr>\n",
       "    <tr>\n",
       "      <th>6</th>\n",
       "      <td>INDIA v WEST INDIES</td>\n",
       "      <td>INDIA V WEST INDIES 2022</td>\n",
       "      <td>Narendra Modi Stadium, Ahmedabad</td>\n",
       "      <td>06</td>\n",
       "      <td>FEBRUARY</td>\n",
       "    </tr>\n",
       "    <tr>\n",
       "      <th>7</th>\n",
       "      <td>INDIA v WEST INDIES</td>\n",
       "      <td>INDIA V WEST INDIES 2022</td>\n",
       "      <td>Sawai Mansingh Stadium, Jaipur</td>\n",
       "      <td>09</td>\n",
       "      <td>FEBRUARY</td>\n",
       "    </tr>\n",
       "    <tr>\n",
       "      <th>8</th>\n",
       "      <td>INDIA v WEST INDIES</td>\n",
       "      <td>INDIA V WEST INDIES 2022</td>\n",
       "      <td>Eden Gardens, Kolkata</td>\n",
       "      <td>12</td>\n",
       "      <td>FEBRUARY</td>\n",
       "    </tr>\n",
       "    <tr>\n",
       "      <th>9</th>\n",
       "      <td>INDIA v WEST INDIES</td>\n",
       "      <td>INDIA V WEST INDIES 2022</td>\n",
       "      <td>Barabati Stadium, Cuttack</td>\n",
       "      <td>15</td>\n",
       "      <td>FEBRUARY</td>\n",
       "    </tr>\n",
       "  </tbody>\n",
       "</table>\n",
       "</div>"
      ],
      "text/plain": [
       "           Match_Title                        Series  \\\n",
       "0      INDIA v NAMIBIA  2021 ICC MEN'S T20 WORLD CUP   \n",
       "1  INDIA v NEW ZEALAND      INDIA V NEW ZEALAND 2021   \n",
       "2  INDIA v NEW ZEALAND      INDIA V NEW ZEALAND 2021   \n",
       "3  INDIA v NEW ZEALAND      INDIA V NEW ZEALAND 2021   \n",
       "4  INDIA v NEW ZEALAND      INDIA V NEW ZEALAND 2021   \n",
       "5  INDIA v NEW ZEALAND      INDIA V NEW ZEALAND 2021   \n",
       "6  INDIA v WEST INDIES      INDIA V WEST INDIES 2022   \n",
       "7  INDIA v WEST INDIES      INDIA V WEST INDIES 2022   \n",
       "8  INDIA v WEST INDIES      INDIA V WEST INDIES 2022   \n",
       "9  INDIA v WEST INDIES      INDIA V WEST INDIES 2022   \n",
       "\n",
       "                                        Place Date     Month  \n",
       "0          Dubai International Stadium, Dubai   08  NOVEMBER  \n",
       "1              Sawai Mansingh Stadium, Jaipur   17  NOVEMBER  \n",
       "2  JSCA International Stadium Complex, Ranchi   19  NOVEMBER  \n",
       "3                       Eden Gardens, Kolkata   21  NOVEMBER  \n",
       "4                          Green Park, Kanpur   25  NOVEMBER  \n",
       "5                    Wankhede Stadium, Mumbai   03  DECEMBER  \n",
       "6            Narendra Modi Stadium, Ahmedabad   06  FEBRUARY  \n",
       "7              Sawai Mansingh Stadium, Jaipur   09  FEBRUARY  \n",
       "8                       Eden Gardens, Kolkata   12  FEBRUARY  \n",
       "9                   Barabati Stadium, Cuttack   15  FEBRUARY  "
      ]
     },
     "execution_count": 81,
     "metadata": {},
     "output_type": "execute_result"
    }
   ],
   "source": [
    "Match=pd.DataFrame({})\n",
    "Match[\"Match_Title\"]=Match_Title[0:10]\n",
    "Match[\"Series\"]=Series[0:10]\n",
    "Match[\"Place\"]=Place[0:10]\n",
    "Match[\"Date\"]=Date[0:10]\n",
    "Match[\"Month\"]=Month[0:10]\n",
    "Match"
   ]
  },
  {
   "cell_type": "code",
   "execution_count": null,
   "metadata": {},
   "outputs": [],
   "source": []
  }
 ],
 "metadata": {
  "kernelspec": {
   "display_name": "Python 3",
   "language": "python",
   "name": "python3"
  },
  "language_info": {
   "codemirror_mode": {
    "name": "ipython",
    "version": 3
   },
   "file_extension": ".py",
   "mimetype": "text/x-python",
   "name": "python",
   "nbconvert_exporter": "python",
   "pygments_lexer": "ipython3",
   "version": "3.8.5"
  }
 },
 "nbformat": 4,
 "nbformat_minor": 4
}
