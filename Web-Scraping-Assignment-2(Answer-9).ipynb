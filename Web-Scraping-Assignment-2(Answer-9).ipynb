{
 "cells": [
  {
   "cell_type": "code",
   "execution_count": 1,
   "metadata": {},
   "outputs": [],
   "source": [
    "# lets now import all the required libraries\n",
    "import selenium\n",
    "import pandas as pd\n",
    "from selenium import webdriver\n",
    "import time"
   ]
  },
  {
   "cell_type": "code",
   "execution_count": 2,
   "metadata": {},
   "outputs": [],
   "source": [
    "#Lets first connect to the web driver\n",
    "driver = webdriver.Chrome(r\"C:\\Users\\user\\Downloads\\chromedriver_win32\\chromedriver.exe\")"
   ]
  },
  {
   "cell_type": "code",
   "execution_count": 3,
   "metadata": {},
   "outputs": [],
   "source": [
    "driver.get(\" https://www.myntra.com/shoes\")"
   ]
  },
  {
   "cell_type": "code",
   "execution_count": 4,
   "metadata": {},
   "outputs": [],
   "source": [
    "check_btn1=driver.find_element_by_xpath(\"/html[1]/body[1]/div[2]/div[1]/div[1]/main[1]/div[3]/div[1]/section[1]/div[1]/div[6]/ul[1]/li[1]/label[1]/div[1]\")\n",
    "check_btn1.click()"
   ]
  },
  {
   "cell_type": "code",
   "execution_count": 5,
   "metadata": {},
   "outputs": [],
   "source": [
    "check_btn=driver.find_element_by_xpath(\"/html[1]/body[1]/div[2]/div[1]/div[1]/main[1]/div[3]/div[1]/section[1]/div[1]/div[5]/ul[1]/li[2]/label[1]/div[1]\")\n",
    "check_btn.click()"
   ]
  },
  {
   "cell_type": "code",
   "execution_count": 6,
   "metadata": {},
   "outputs": [],
   "source": [
    "shoe_brand=[]\n",
    "shoe_desc=[]\n",
    "price_shoe=[]"
   ]
  },
  {
   "cell_type": "code",
   "execution_count": 7,
   "metadata": {},
   "outputs": [],
   "source": [
    "#Fetching urls\n",
    "urls1=[]\n",
    "for i in driver.find_elements_by_xpath(\"//a[@target='_blank']\"):\n",
    "    urls1.append(i.get_attribute(\"href\"))"
   ]
  },
  {
   "cell_type": "code",
   "execution_count": 8,
   "metadata": {},
   "outputs": [
    {
     "data": {
      "text/plain": [
       "['https://www.myntra.com/casual-shoes/aldo/aldo-men-black-leather-solid-loafers-/14200534/buy',\n",
       " 'https://www.myntra.com/sports-shoes/puma/puma-men-black-jamming-20-running-shoes/14824822/buy',\n",
       " 'https://www.myntra.com/casual-shoes/aldo/aldo-men-black-leather-driving-shoes/14200542/buy',\n",
       " 'https://www.myntra.com/casual-shoes/puma-motorsport/puma-motorsport-unisex-black-scuderia-ferrari-a3rocat-mid-motorsport-shoes/14825956/buy',\n",
       " 'https://www.myntra.com/casual-shoes/puma/puma-unisex-black-mirage-sport-remix-sneakers/14826094/buy',\n",
       " 'https://www.myntra.com/sports-shoes/puma/puma-men-black-deviate-nitro-running-shoes/13484336/buy',\n",
       " 'https://www.myntra.com/sports-shoes/puma/puma-men-black-mesh-running-shoes/14521968/buy',\n",
       " 'https://www.myntra.com/sports-shoes/forclaz-by-decathlon/forclaz-by-decathlon-men-grey-trekking-100-waterproof-mid-top-trekking-boots/14321736/buy',\n",
       " 'https://www.myntra.com/sports-shoes/puma/puma-men-black--green-magnify-nitro-running-shoes/14824830/buy',\n",
       " 'https://www.myntra.com/sports-shoes/under-armour/under-armour-women-black--purple-hovr-sonic-4-fnrn-running-shoes/14649220/buy',\n",
       " 'https://www.myntra.com/sports-shoes/under-armour/under-armour-women-black-woven-design-hovr-sonic-4-running-shoes-with-bluetooth/14649172/buy',\n",
       " 'https://www.myntra.com/formal-shoes/hush-puppies/hush-puppies-men-black-solid-leather-formal-slip-ons/12452162/buy',\n",
       " 'https://www.myntra.com/casual-shoes/puma-motorsport/puma-motorsport-unisex-black-bmw-rs-connect-textured-sneakers/14825822/buy',\n",
       " 'https://www.myntra.com/sports-shoes/puma/puma-men-black-liberate-nitro-running-shoes/14824816/buy',\n",
       " 'https://www.myntra.com/casual-shoes/hush-puppies/hush-puppies-men-black-leather-slip-on-sneakers/12698534/buy',\n",
       " 'https://www.myntra.com/sports-shoes/asics/asics-women-black--charcoal-grey-glideride-running-shoes/12368740/buy',\n",
       " 'https://www.myntra.com/formal-shoes/hush-puppies/hush-puppies-men-black-solid-leather-formal-slip-ons/12435690/buy',\n",
       " 'https://www.myntra.com/sports-shoes/puma/puma-women-black--red-magnify-nitro-running-shoes/14849978/buy',\n",
       " 'https://www.myntra.com/casual-shoes/puma/puma-x-butter-goods-unisex-black-leather-slipstream-lo-trainers/14825964/buy',\n",
       " 'https://www.myntra.com/sports-shoes/puma/puma-women-black-textile-eternity-nitro-running-shoes/14850134/buy',\n",
       " 'https://www.myntra.com/sports-shoes/under-armour/under-armour-women-black-woven-charged-rogue-25-colorshift-running-shoes/14649130/buy',\n",
       " 'https://www.myntra.com/sports-shoes/under-armour/under-armour-women-black-woven-design-charged-bandit-6-running-shoes/14649110/buy',\n",
       " 'https://www.myntra.com/casual-shoes/nike/nike-men-black--white-blazer-low-77-vintage-leather-sneakers/14528040/buy',\n",
       " 'https://www.myntra.com/sports-shoes/asics/asics-women-black--charcoal-grey-glideride-running-shoes/12368692/buy',\n",
       " 'https://www.myntra.com/sports-shoes/bugatti/bugatti-men-black-textile-walking-non-marking-shoes/15327560/buy',\n",
       " 'https://www.myntra.com/casual-shoes/jfontini/jfontini-men-black-loafers/13343594/buy',\n",
       " 'https://www.myntra.com/heels/geox/geox-women-black-leather-heeled-boots/14532966/buy',\n",
       " 'https://www.myntra.com/formal-shoes/hush-puppies/hush-puppies-men-black-solid-formal-derbys-/13123142/buy',\n",
       " 'https://www.myntra.com/casual-shoes/hush-puppies/hush-puppies-men-black-leather-derbys/13065422/buy',\n",
       " 'https://www.myntra.com/sports-shoes/under-armour/under-armour-women-black-charged-assert-8-running-shoes/14649216/buy',\n",
       " 'https://www.myntra.com/sports-shoes/puma/puma-women-black-velocity-nitro-running-shoes/14850252/buy',\n",
       " 'https://www.myntra.com/sports-shoes/fila/fila-men-black-running-shoes/11984696/buy',\n",
       " 'https://www.myntra.com/sports-shoes/asics/asics-women-black-novablast-road-running-non-marking-shoes/15518804/buy',\n",
       " 'https://www.myntra.com/formal-shoes/davinchi/ustraa-black/13220578/buy',\n",
       " 'https://www.myntra.com/casual-shoes/saint-g/saint-g-men-black-solid-mid-top-chelsea-boots/15592368/buy',\n",
       " 'https://www.myntra.com/formal-shoes/ruosh/ruosh-men-black-formal-leather-brogues/9012765/buy',\n",
       " 'https://www.myntra.com/casual-shoes/jfontini/j-fontini-men-black-solid-leather-loafers/15172434/buy',\n",
       " 'https://www.myntra.com/casual-shoes/cole-haan/cole-haan-men-black-generation-zerogrand-stitchlite-sneakers/11052214/buy',\n",
       " 'https://www.myntra.com/casual-shoes/puma/puma-x-rs-fast-tech-unisex-sneakers/15226522/buy',\n",
       " 'https://www.myntra.com/heels/heel--buckle-london/heel--buckle-london-women-black-embellished-leather-pumps/12942670/buy',\n",
       " 'https://www.myntra.com/formal-shoes/geox/geox-men-black-solid-leather-formal-derbys/14533202/buy',\n",
       " 'https://www.myntra.com/casual-shoes/puma/puma-x-pronounce-unisex-black-mirage-sport-trainers-with-laces/15244664/buy',\n",
       " 'https://www.myntra.com/heels/saint-g/saint-g-women-black-solid-leather-heeled-boots/11464054/buy',\n",
       " 'https://www.myntra.com/formal-shoes/jfontini/jfontini-men-black-solid-leather-formal-loafers/12682166/buy',\n",
       " 'https://www.myntra.com/formal-shoes/ruosh/ruosh-men-black-solid-leather-formal-slip-ons/11714640/buy',\n",
       " 'https://www.myntra.com/sports-shoes/kiprun-by-decathlon/kiprun-by-decathlon-women-black-kiprun-long-2-running-shoes/13982182/buy',\n",
       " 'https://www.myntra.com/sports-shoes/asics/asics-women-black-gel-lyte-iii-og-running-shoes/14389578/buy',\n",
       " 'https://www.myntra.com/casual-shoes/geox/geox-women-black-leather-mid-top-flat-boots/14532942/buy',\n",
       " 'https://www.myntra.com/sports-shoes/under-armour/under-armour-women-black-woven-design-charged-vantage-colorshift-running-shoes/14649018/buy',\n",
       " 'https://www.myntra.com/sports-shoes/puma/puma-men-black-future-51-netfit-fg-ag-football-shoes/12282364/buy']"
      ]
     },
     "execution_count": 8,
     "metadata": {},
     "output_type": "execute_result"
    }
   ],
   "source": [
    "urls1"
   ]
  },
  {
   "cell_type": "code",
   "execution_count": 9,
   "metadata": {},
   "outputs": [
    {
     "data": {
      "text/plain": [
       "50"
      ]
     },
     "execution_count": 9,
     "metadata": {},
     "output_type": "execute_result"
    }
   ],
   "source": [
    "len(urls1)"
   ]
  },
  {
   "cell_type": "code",
   "execution_count": 10,
   "metadata": {},
   "outputs": [],
   "source": [
    "next_btn=driver.find_element_by_xpath(\"//body/div[@id='mountRoot']/div[1]/div[1]/main[1]/div[3]/div[2]/div[1]/div[2]/section[1]/div[2]/ul[1]/li[3]/a[1]\")\n",
    "next_btn.click()"
   ]
  },
  {
   "cell_type": "code",
   "execution_count": 11,
   "metadata": {},
   "outputs": [],
   "source": [
    "#Fetching urls\n",
    "urls2=[]\n",
    "for i in driver.find_elements_by_xpath(\"//a[@target='_blank']\"):\n",
    "    urls2.append(i.get_attribute(\"href\"))"
   ]
  },
  {
   "cell_type": "code",
   "execution_count": 12,
   "metadata": {},
   "outputs": [
    {
     "data": {
      "text/plain": [
       "['https://www.myntra.com/sports-shoes/puma/puma-men-black-future-51-netfit-fg-ag-football-shoes/12282364/buy',\n",
       " 'https://www.myntra.com/sports-shoes/under-armour/under-armour-women-black-woven-design-charged-impulse-shft-running-shoes/14649022/buy',\n",
       " 'https://www.myntra.com/heels/aldo/aldo-women-black-solid-leather-pumps/14243430/buy',\n",
       " 'https://www.myntra.com/heels/heel--buckle-london/heel--buckle-london-women-black-embellished-peep-toe-heels/11818354/buy',\n",
       " 'https://www.myntra.com/heels/heel--buckle-london/heel--buckle-london-women-black-embellished-high-top-leather-ankle-strap-heels/10877672/buy',\n",
       " 'https://www.myntra.com/heels/heel--buckle-london/heel--buckle-london-women-black-textured-mules/12728996/buy',\n",
       " 'https://www.myntra.com/sports-shoes/kalenji-by-decathlon/kalenji-by-decathlon-men-black-long-distance-kd500-running-shoe/14464026/buy',\n",
       " 'https://www.myntra.com/casual-shoes/cole-haan/cole-haan-men-black-originalgrand-stitchlite-wingtip-oxford-sneakers/11052208/buy',\n",
       " 'https://www.myntra.com/casual-shoes/geox/geox-men-black-solid-leather-mid-top-chelsea-flat-boots/11107560/buy',\n",
       " 'https://www.myntra.com/casual-shoes/ruosh/ruosh-men-black-textured-leather-monks/11781016/buy',\n",
       " 'https://www.myntra.com/casual-shoes/vionic/vionic-men-black--grey-textured-sneakers/12459116/buy',\n",
       " 'https://www.myntra.com/sports-shoes/asics/asics-women-black--pink-gt-2000-9-running-shoes/12368872/buy',\n",
       " 'https://www.myntra.com/casual-shoes/jfontini/jfontini-men-black-leather-loafers/12681352/buy',\n",
       " 'https://www.myntra.com/casual-shoes/jfontini/jfontini-men-black-leather-loafers/12681364/buy',\n",
       " 'https://www.myntra.com/formal-shoes/ruosh/ruosh-men-black-leather-semiformal-slip-ons/10516890/buy',\n",
       " 'https://www.myntra.com/sports-shoes/asics/asics-hyper-speed-men-black--white-printed-running-sports-shoes/15053674/buy',\n",
       " 'https://www.myntra.com/sports-shoes/puma/puma-women-black--grey-ultraride-profoam-woven-design-running-shoes/13483634/buy',\n",
       " 'https://www.myntra.com/sports-shoes/bugatti/bugatti-men-black-textile-walking-non-marking-shoes/15327568/buy',\n",
       " 'https://www.myntra.com/formal-shoes/ruosh/ruosh-men-black-paul-01-leather-formal-slip-on-shoes/10892122/buy',\n",
       " 'https://www.myntra.com/sports-shoes/bugatti/bugatti-men-black-textile-running-non-marking-shoes/15327566/buy',\n",
       " 'https://www.myntra.com/casual-shoes/kleat/kleat-men-black-woven-design-loafers/13354262/buy',\n",
       " 'https://www.myntra.com/formal-shoes/ruosh/ruosh-men-black-solid-leather-formal-oxfords/11714642/buy',\n",
       " 'https://www.myntra.com/formal-shoes/ruosh/ruosh-men-black-solid-leather-formal-monks/11714648/buy',\n",
       " 'https://www.myntra.com/formal-shoes/geox/geox-men-black-leather-formal-slip-ons/10029315/buy',\n",
       " 'https://www.myntra.com/casual-shoes/bugatti/bugatti-men-black-sneakers/13782356/buy',\n",
       " 'https://www.myntra.com/casual-shoes/bugatti/bugatti-men-black-casual-sneakers/13782350/buy',\n",
       " 'https://www.myntra.com/sports-shoes/puma/puma-unisex-black-xetic-half-life-textile-running-shoes/15226392/buy',\n",
       " 'https://www.myntra.com/casual-shoes/jfontini/j-fontini-men-black-textured-leather-loafers/14458668/buy',\n",
       " 'https://www.myntra.com/casual-shoes/geox/geox-men-black-solid-sneakers/14533190/buy',\n",
       " 'https://www.myntra.com/formal-shoes/ruosh/ruosh-men-black-solid-leather-formal-monks/11930218/buy',\n",
       " 'https://www.myntra.com/casual-shoes/geox/geox-men-black--yellow-printed-slip-on-sneakers/14533240/buy',\n",
       " 'https://www.myntra.com/casual-shoes/geox/geox-men-black-leather-mid-top-flat-boots/14533166/buy',\n",
       " 'https://www.myntra.com/formal-shoes/geox/geox-men-black-solid-leather-formal-slip-ons/11708718/buy',\n",
       " 'https://www.myntra.com/formal-shoes/hush-puppies/hush-puppies-men-black-solid-leather-formal-derbys/12435696/buy',\n",
       " 'https://www.myntra.com/heels/geox/geox-women-black-solid-leather-pumps/10029305/buy',\n",
       " 'https://www.myntra.com/casual-shoes/kleat/kleat-men-black-woven-design-sneakers/14695124/buy',\n",
       " 'https://www.myntra.com/heels/heel--buckle-london/heel--buckle-london-women-black-suede-embellished-pumps/10877620/buy',\n",
       " 'https://www.myntra.com/heels/heel--buckle-london/heel--buckle-london-women-black-solid-leather-gladiators/10877590/buy',\n",
       " 'https://www.myntra.com/heels/geox/geox-women-black-quilted-leather-pumps/11107570/buy',\n",
       " 'https://www.myntra.com/heels/saint-g/saint-g-women-black-solid-leather-heeled-boots/11216718/buy',\n",
       " 'https://www.myntra.com/heels/saint-g/saint-g-women-black-solid-leather-heeled-boots/11218116/buy',\n",
       " 'https://www.myntra.com/casual-shoes/kleat/kleat-men-black-woven-design-sneakers/14893456/buy',\n",
       " 'https://www.myntra.com/casual-shoes/kleat/kleat-men-black-textured-loafers/14938244/buy',\n",
       " 'https://www.myntra.com/casual-shoes/kleat/kleat-men-black-suede-flat-chelsea-boots/14981078/buy',\n",
       " 'https://www.myntra.com/casual-shoes/kleat/kleat-men-black-printed-sneakers/14938250/buy',\n",
       " 'https://www.myntra.com/casual-shoes/kleat/kleat-men-black-oxfords/15128590/buy',\n",
       " 'https://www.myntra.com/formal-shoes/jfontini/jfontini-men-black-solid-leather-formal-slip-ons/12463850/buy',\n",
       " 'https://www.myntra.com/casual-shoes/kleat/kleat-men-black-solid-brogues/15400810/buy',\n",
       " 'https://www.myntra.com/casual-shoes/kleat/kleat-men-black-mojaris/15400806/buy',\n",
       " 'https://www.myntra.com/casual-shoes/kleat/kleat-men-black-solid-loafers/15400812/buy']"
      ]
     },
     "execution_count": 12,
     "metadata": {},
     "output_type": "execute_result"
    }
   ],
   "source": [
    "urls2"
   ]
  },
  {
   "cell_type": "code",
   "execution_count": 13,
   "metadata": {},
   "outputs": [],
   "source": [
    "urlscomplete=urls1+urls2"
   ]
  },
  {
   "cell_type": "code",
   "execution_count": 14,
   "metadata": {},
   "outputs": [
    {
     "data": {
      "text/plain": [
       "['https://www.myntra.com/casual-shoes/aldo/aldo-men-black-leather-solid-loafers-/14200534/buy',\n",
       " 'https://www.myntra.com/sports-shoes/puma/puma-men-black-jamming-20-running-shoes/14824822/buy',\n",
       " 'https://www.myntra.com/casual-shoes/aldo/aldo-men-black-leather-driving-shoes/14200542/buy',\n",
       " 'https://www.myntra.com/casual-shoes/puma-motorsport/puma-motorsport-unisex-black-scuderia-ferrari-a3rocat-mid-motorsport-shoes/14825956/buy',\n",
       " 'https://www.myntra.com/casual-shoes/puma/puma-unisex-black-mirage-sport-remix-sneakers/14826094/buy',\n",
       " 'https://www.myntra.com/sports-shoes/puma/puma-men-black-deviate-nitro-running-shoes/13484336/buy',\n",
       " 'https://www.myntra.com/sports-shoes/puma/puma-men-black-mesh-running-shoes/14521968/buy',\n",
       " 'https://www.myntra.com/sports-shoes/forclaz-by-decathlon/forclaz-by-decathlon-men-grey-trekking-100-waterproof-mid-top-trekking-boots/14321736/buy',\n",
       " 'https://www.myntra.com/sports-shoes/puma/puma-men-black--green-magnify-nitro-running-shoes/14824830/buy',\n",
       " 'https://www.myntra.com/sports-shoes/under-armour/under-armour-women-black--purple-hovr-sonic-4-fnrn-running-shoes/14649220/buy',\n",
       " 'https://www.myntra.com/sports-shoes/under-armour/under-armour-women-black-woven-design-hovr-sonic-4-running-shoes-with-bluetooth/14649172/buy',\n",
       " 'https://www.myntra.com/formal-shoes/hush-puppies/hush-puppies-men-black-solid-leather-formal-slip-ons/12452162/buy',\n",
       " 'https://www.myntra.com/casual-shoes/puma-motorsport/puma-motorsport-unisex-black-bmw-rs-connect-textured-sneakers/14825822/buy',\n",
       " 'https://www.myntra.com/sports-shoes/puma/puma-men-black-liberate-nitro-running-shoes/14824816/buy',\n",
       " 'https://www.myntra.com/casual-shoes/hush-puppies/hush-puppies-men-black-leather-slip-on-sneakers/12698534/buy',\n",
       " 'https://www.myntra.com/sports-shoes/asics/asics-women-black--charcoal-grey-glideride-running-shoes/12368740/buy',\n",
       " 'https://www.myntra.com/formal-shoes/hush-puppies/hush-puppies-men-black-solid-leather-formal-slip-ons/12435690/buy',\n",
       " 'https://www.myntra.com/sports-shoes/puma/puma-women-black--red-magnify-nitro-running-shoes/14849978/buy',\n",
       " 'https://www.myntra.com/casual-shoes/puma/puma-x-butter-goods-unisex-black-leather-slipstream-lo-trainers/14825964/buy',\n",
       " 'https://www.myntra.com/sports-shoes/puma/puma-women-black-textile-eternity-nitro-running-shoes/14850134/buy',\n",
       " 'https://www.myntra.com/sports-shoes/under-armour/under-armour-women-black-woven-charged-rogue-25-colorshift-running-shoes/14649130/buy',\n",
       " 'https://www.myntra.com/sports-shoes/under-armour/under-armour-women-black-woven-design-charged-bandit-6-running-shoes/14649110/buy',\n",
       " 'https://www.myntra.com/casual-shoes/nike/nike-men-black--white-blazer-low-77-vintage-leather-sneakers/14528040/buy',\n",
       " 'https://www.myntra.com/sports-shoes/asics/asics-women-black--charcoal-grey-glideride-running-shoes/12368692/buy',\n",
       " 'https://www.myntra.com/sports-shoes/bugatti/bugatti-men-black-textile-walking-non-marking-shoes/15327560/buy',\n",
       " 'https://www.myntra.com/casual-shoes/jfontini/jfontini-men-black-loafers/13343594/buy',\n",
       " 'https://www.myntra.com/heels/geox/geox-women-black-leather-heeled-boots/14532966/buy',\n",
       " 'https://www.myntra.com/formal-shoes/hush-puppies/hush-puppies-men-black-solid-formal-derbys-/13123142/buy',\n",
       " 'https://www.myntra.com/casual-shoes/hush-puppies/hush-puppies-men-black-leather-derbys/13065422/buy',\n",
       " 'https://www.myntra.com/sports-shoes/under-armour/under-armour-women-black-charged-assert-8-running-shoes/14649216/buy',\n",
       " 'https://www.myntra.com/sports-shoes/puma/puma-women-black-velocity-nitro-running-shoes/14850252/buy',\n",
       " 'https://www.myntra.com/sports-shoes/fila/fila-men-black-running-shoes/11984696/buy',\n",
       " 'https://www.myntra.com/sports-shoes/asics/asics-women-black-novablast-road-running-non-marking-shoes/15518804/buy',\n",
       " 'https://www.myntra.com/formal-shoes/davinchi/ustraa-black/13220578/buy',\n",
       " 'https://www.myntra.com/casual-shoes/saint-g/saint-g-men-black-solid-mid-top-chelsea-boots/15592368/buy',\n",
       " 'https://www.myntra.com/formal-shoes/ruosh/ruosh-men-black-formal-leather-brogues/9012765/buy',\n",
       " 'https://www.myntra.com/casual-shoes/jfontini/j-fontini-men-black-solid-leather-loafers/15172434/buy',\n",
       " 'https://www.myntra.com/casual-shoes/cole-haan/cole-haan-men-black-generation-zerogrand-stitchlite-sneakers/11052214/buy',\n",
       " 'https://www.myntra.com/casual-shoes/puma/puma-x-rs-fast-tech-unisex-sneakers/15226522/buy',\n",
       " 'https://www.myntra.com/heels/heel--buckle-london/heel--buckle-london-women-black-embellished-leather-pumps/12942670/buy',\n",
       " 'https://www.myntra.com/formal-shoes/geox/geox-men-black-solid-leather-formal-derbys/14533202/buy',\n",
       " 'https://www.myntra.com/casual-shoes/puma/puma-x-pronounce-unisex-black-mirage-sport-trainers-with-laces/15244664/buy',\n",
       " 'https://www.myntra.com/heels/saint-g/saint-g-women-black-solid-leather-heeled-boots/11464054/buy',\n",
       " 'https://www.myntra.com/formal-shoes/jfontini/jfontini-men-black-solid-leather-formal-loafers/12682166/buy',\n",
       " 'https://www.myntra.com/formal-shoes/ruosh/ruosh-men-black-solid-leather-formal-slip-ons/11714640/buy',\n",
       " 'https://www.myntra.com/sports-shoes/kiprun-by-decathlon/kiprun-by-decathlon-women-black-kiprun-long-2-running-shoes/13982182/buy',\n",
       " 'https://www.myntra.com/sports-shoes/asics/asics-women-black-gel-lyte-iii-og-running-shoes/14389578/buy',\n",
       " 'https://www.myntra.com/casual-shoes/geox/geox-women-black-leather-mid-top-flat-boots/14532942/buy',\n",
       " 'https://www.myntra.com/sports-shoes/under-armour/under-armour-women-black-woven-design-charged-vantage-colorshift-running-shoes/14649018/buy',\n",
       " 'https://www.myntra.com/sports-shoes/puma/puma-men-black-future-51-netfit-fg-ag-football-shoes/12282364/buy',\n",
       " 'https://www.myntra.com/sports-shoes/puma/puma-men-black-future-51-netfit-fg-ag-football-shoes/12282364/buy',\n",
       " 'https://www.myntra.com/sports-shoes/under-armour/under-armour-women-black-woven-design-charged-impulse-shft-running-shoes/14649022/buy',\n",
       " 'https://www.myntra.com/heels/aldo/aldo-women-black-solid-leather-pumps/14243430/buy',\n",
       " 'https://www.myntra.com/heels/heel--buckle-london/heel--buckle-london-women-black-embellished-peep-toe-heels/11818354/buy',\n",
       " 'https://www.myntra.com/heels/heel--buckle-london/heel--buckle-london-women-black-embellished-high-top-leather-ankle-strap-heels/10877672/buy',\n",
       " 'https://www.myntra.com/heels/heel--buckle-london/heel--buckle-london-women-black-textured-mules/12728996/buy',\n",
       " 'https://www.myntra.com/sports-shoes/kalenji-by-decathlon/kalenji-by-decathlon-men-black-long-distance-kd500-running-shoe/14464026/buy',\n",
       " 'https://www.myntra.com/casual-shoes/cole-haan/cole-haan-men-black-originalgrand-stitchlite-wingtip-oxford-sneakers/11052208/buy',\n",
       " 'https://www.myntra.com/casual-shoes/geox/geox-men-black-solid-leather-mid-top-chelsea-flat-boots/11107560/buy',\n",
       " 'https://www.myntra.com/casual-shoes/ruosh/ruosh-men-black-textured-leather-monks/11781016/buy',\n",
       " 'https://www.myntra.com/casual-shoes/vionic/vionic-men-black--grey-textured-sneakers/12459116/buy',\n",
       " 'https://www.myntra.com/sports-shoes/asics/asics-women-black--pink-gt-2000-9-running-shoes/12368872/buy',\n",
       " 'https://www.myntra.com/casual-shoes/jfontini/jfontini-men-black-leather-loafers/12681352/buy',\n",
       " 'https://www.myntra.com/casual-shoes/jfontini/jfontini-men-black-leather-loafers/12681364/buy',\n",
       " 'https://www.myntra.com/formal-shoes/ruosh/ruosh-men-black-leather-semiformal-slip-ons/10516890/buy',\n",
       " 'https://www.myntra.com/sports-shoes/asics/asics-hyper-speed-men-black--white-printed-running-sports-shoes/15053674/buy',\n",
       " 'https://www.myntra.com/sports-shoes/puma/puma-women-black--grey-ultraride-profoam-woven-design-running-shoes/13483634/buy',\n",
       " 'https://www.myntra.com/sports-shoes/bugatti/bugatti-men-black-textile-walking-non-marking-shoes/15327568/buy',\n",
       " 'https://www.myntra.com/formal-shoes/ruosh/ruosh-men-black-paul-01-leather-formal-slip-on-shoes/10892122/buy',\n",
       " 'https://www.myntra.com/sports-shoes/bugatti/bugatti-men-black-textile-running-non-marking-shoes/15327566/buy',\n",
       " 'https://www.myntra.com/casual-shoes/kleat/kleat-men-black-woven-design-loafers/13354262/buy',\n",
       " 'https://www.myntra.com/formal-shoes/ruosh/ruosh-men-black-solid-leather-formal-oxfords/11714642/buy',\n",
       " 'https://www.myntra.com/formal-shoes/ruosh/ruosh-men-black-solid-leather-formal-monks/11714648/buy',\n",
       " 'https://www.myntra.com/formal-shoes/geox/geox-men-black-leather-formal-slip-ons/10029315/buy',\n",
       " 'https://www.myntra.com/casual-shoes/bugatti/bugatti-men-black-sneakers/13782356/buy',\n",
       " 'https://www.myntra.com/casual-shoes/bugatti/bugatti-men-black-casual-sneakers/13782350/buy',\n",
       " 'https://www.myntra.com/sports-shoes/puma/puma-unisex-black-xetic-half-life-textile-running-shoes/15226392/buy',\n",
       " 'https://www.myntra.com/casual-shoes/jfontini/j-fontini-men-black-textured-leather-loafers/14458668/buy',\n",
       " 'https://www.myntra.com/casual-shoes/geox/geox-men-black-solid-sneakers/14533190/buy',\n",
       " 'https://www.myntra.com/formal-shoes/ruosh/ruosh-men-black-solid-leather-formal-monks/11930218/buy',\n",
       " 'https://www.myntra.com/casual-shoes/geox/geox-men-black--yellow-printed-slip-on-sneakers/14533240/buy',\n",
       " 'https://www.myntra.com/casual-shoes/geox/geox-men-black-leather-mid-top-flat-boots/14533166/buy',\n",
       " 'https://www.myntra.com/formal-shoes/geox/geox-men-black-solid-leather-formal-slip-ons/11708718/buy',\n",
       " 'https://www.myntra.com/formal-shoes/hush-puppies/hush-puppies-men-black-solid-leather-formal-derbys/12435696/buy',\n",
       " 'https://www.myntra.com/heels/geox/geox-women-black-solid-leather-pumps/10029305/buy',\n",
       " 'https://www.myntra.com/casual-shoes/kleat/kleat-men-black-woven-design-sneakers/14695124/buy',\n",
       " 'https://www.myntra.com/heels/heel--buckle-london/heel--buckle-london-women-black-suede-embellished-pumps/10877620/buy',\n",
       " 'https://www.myntra.com/heels/heel--buckle-london/heel--buckle-london-women-black-solid-leather-gladiators/10877590/buy',\n",
       " 'https://www.myntra.com/heels/geox/geox-women-black-quilted-leather-pumps/11107570/buy',\n",
       " 'https://www.myntra.com/heels/saint-g/saint-g-women-black-solid-leather-heeled-boots/11216718/buy',\n",
       " 'https://www.myntra.com/heels/saint-g/saint-g-women-black-solid-leather-heeled-boots/11218116/buy',\n",
       " 'https://www.myntra.com/casual-shoes/kleat/kleat-men-black-woven-design-sneakers/14893456/buy',\n",
       " 'https://www.myntra.com/casual-shoes/kleat/kleat-men-black-textured-loafers/14938244/buy',\n",
       " 'https://www.myntra.com/casual-shoes/kleat/kleat-men-black-suede-flat-chelsea-boots/14981078/buy',\n",
       " 'https://www.myntra.com/casual-shoes/kleat/kleat-men-black-printed-sneakers/14938250/buy',\n",
       " 'https://www.myntra.com/casual-shoes/kleat/kleat-men-black-oxfords/15128590/buy',\n",
       " 'https://www.myntra.com/formal-shoes/jfontini/jfontini-men-black-solid-leather-formal-slip-ons/12463850/buy',\n",
       " 'https://www.myntra.com/casual-shoes/kleat/kleat-men-black-solid-brogues/15400810/buy',\n",
       " 'https://www.myntra.com/casual-shoes/kleat/kleat-men-black-mojaris/15400806/buy',\n",
       " 'https://www.myntra.com/casual-shoes/kleat/kleat-men-black-solid-loafers/15400812/buy']"
      ]
     },
     "execution_count": 14,
     "metadata": {},
     "output_type": "execute_result"
    }
   ],
   "source": [
    "urlscomplete"
   ]
  },
  {
   "cell_type": "code",
   "execution_count": 15,
   "metadata": {},
   "outputs": [
    {
     "ename": "NoSuchWindowException",
     "evalue": "Message: no such window: target window already closed\nfrom unknown error: web view not found\n  (Session info: chrome=94.0.4606.81)\n",
     "output_type": "error",
     "traceback": [
      "\u001b[1;31m---------------------------------------------------------------------------\u001b[0m",
      "\u001b[1;31mNoSuchWindowException\u001b[0m                     Traceback (most recent call last)",
      "\u001b[1;32m<ipython-input-15-4815f0d23dd7>\u001b[0m in \u001b[0;36m<module>\u001b[1;34m\u001b[0m\n\u001b[0;32m      1\u001b[0m \u001b[1;32mfor\u001b[0m \u001b[0mi\u001b[0m \u001b[1;32min\u001b[0m \u001b[0murlscomplete\u001b[0m\u001b[1;33m:\u001b[0m\u001b[1;33m\u001b[0m\u001b[1;33m\u001b[0m\u001b[0m\n\u001b[1;32m----> 2\u001b[1;33m     \u001b[0mdriver\u001b[0m\u001b[1;33m.\u001b[0m\u001b[0mget\u001b[0m\u001b[1;33m(\u001b[0m\u001b[0mi\u001b[0m\u001b[1;33m)\u001b[0m\u001b[1;33m\u001b[0m\u001b[1;33m\u001b[0m\u001b[0m\n\u001b[0m\u001b[0;32m      3\u001b[0m     \u001b[0mtime\u001b[0m\u001b[1;33m.\u001b[0m\u001b[0msleep\u001b[0m\u001b[1;33m(\u001b[0m\u001b[1;36m3\u001b[0m\u001b[1;33m)\u001b[0m\u001b[1;33m\u001b[0m\u001b[1;33m\u001b[0m\u001b[0m\n\u001b[0;32m      4\u001b[0m     \u001b[1;31m#fetching brand\u001b[0m\u001b[1;33m\u001b[0m\u001b[1;33m\u001b[0m\u001b[1;33m\u001b[0m\u001b[0m\n\u001b[0;32m      5\u001b[0m     \u001b[1;32mtry\u001b[0m\u001b[1;33m:\u001b[0m\u001b[1;33m\u001b[0m\u001b[1;33m\u001b[0m\u001b[0m\n",
      "\u001b[1;32m~\\anaconda3\\lib\\site-packages\\selenium\\webdriver\\remote\\webdriver.py\u001b[0m in \u001b[0;36mget\u001b[1;34m(self, url)\u001b[0m\n\u001b[0;32m    331\u001b[0m         \u001b[0mLoads\u001b[0m \u001b[0ma\u001b[0m \u001b[0mweb\u001b[0m \u001b[0mpage\u001b[0m \u001b[1;32min\u001b[0m \u001b[0mthe\u001b[0m \u001b[0mcurrent\u001b[0m \u001b[0mbrowser\u001b[0m \u001b[0msession\u001b[0m\u001b[1;33m.\u001b[0m\u001b[1;33m\u001b[0m\u001b[1;33m\u001b[0m\u001b[0m\n\u001b[0;32m    332\u001b[0m         \"\"\"\n\u001b[1;32m--> 333\u001b[1;33m         \u001b[0mself\u001b[0m\u001b[1;33m.\u001b[0m\u001b[0mexecute\u001b[0m\u001b[1;33m(\u001b[0m\u001b[0mCommand\u001b[0m\u001b[1;33m.\u001b[0m\u001b[0mGET\u001b[0m\u001b[1;33m,\u001b[0m \u001b[1;33m{\u001b[0m\u001b[1;34m'url'\u001b[0m\u001b[1;33m:\u001b[0m \u001b[0murl\u001b[0m\u001b[1;33m}\u001b[0m\u001b[1;33m)\u001b[0m\u001b[1;33m\u001b[0m\u001b[1;33m\u001b[0m\u001b[0m\n\u001b[0m\u001b[0;32m    334\u001b[0m \u001b[1;33m\u001b[0m\u001b[0m\n\u001b[0;32m    335\u001b[0m     \u001b[1;33m@\u001b[0m\u001b[0mproperty\u001b[0m\u001b[1;33m\u001b[0m\u001b[1;33m\u001b[0m\u001b[0m\n",
      "\u001b[1;32m~\\anaconda3\\lib\\site-packages\\selenium\\webdriver\\remote\\webdriver.py\u001b[0m in \u001b[0;36mexecute\u001b[1;34m(self, driver_command, params)\u001b[0m\n\u001b[0;32m    319\u001b[0m         \u001b[0mresponse\u001b[0m \u001b[1;33m=\u001b[0m \u001b[0mself\u001b[0m\u001b[1;33m.\u001b[0m\u001b[0mcommand_executor\u001b[0m\u001b[1;33m.\u001b[0m\u001b[0mexecute\u001b[0m\u001b[1;33m(\u001b[0m\u001b[0mdriver_command\u001b[0m\u001b[1;33m,\u001b[0m \u001b[0mparams\u001b[0m\u001b[1;33m)\u001b[0m\u001b[1;33m\u001b[0m\u001b[1;33m\u001b[0m\u001b[0m\n\u001b[0;32m    320\u001b[0m         \u001b[1;32mif\u001b[0m \u001b[0mresponse\u001b[0m\u001b[1;33m:\u001b[0m\u001b[1;33m\u001b[0m\u001b[1;33m\u001b[0m\u001b[0m\n\u001b[1;32m--> 321\u001b[1;33m             \u001b[0mself\u001b[0m\u001b[1;33m.\u001b[0m\u001b[0merror_handler\u001b[0m\u001b[1;33m.\u001b[0m\u001b[0mcheck_response\u001b[0m\u001b[1;33m(\u001b[0m\u001b[0mresponse\u001b[0m\u001b[1;33m)\u001b[0m\u001b[1;33m\u001b[0m\u001b[1;33m\u001b[0m\u001b[0m\n\u001b[0m\u001b[0;32m    322\u001b[0m             response['value'] = self._unwrap_value(\n\u001b[0;32m    323\u001b[0m                 response.get('value', None))\n",
      "\u001b[1;32m~\\anaconda3\\lib\\site-packages\\selenium\\webdriver\\remote\\errorhandler.py\u001b[0m in \u001b[0;36mcheck_response\u001b[1;34m(self, response)\u001b[0m\n\u001b[0;32m    240\u001b[0m                 \u001b[0malert_text\u001b[0m \u001b[1;33m=\u001b[0m \u001b[0mvalue\u001b[0m\u001b[1;33m[\u001b[0m\u001b[1;34m'alert'\u001b[0m\u001b[1;33m]\u001b[0m\u001b[1;33m.\u001b[0m\u001b[0mget\u001b[0m\u001b[1;33m(\u001b[0m\u001b[1;34m'text'\u001b[0m\u001b[1;33m)\u001b[0m\u001b[1;33m\u001b[0m\u001b[1;33m\u001b[0m\u001b[0m\n\u001b[0;32m    241\u001b[0m             \u001b[1;32mraise\u001b[0m \u001b[0mexception_class\u001b[0m\u001b[1;33m(\u001b[0m\u001b[0mmessage\u001b[0m\u001b[1;33m,\u001b[0m \u001b[0mscreen\u001b[0m\u001b[1;33m,\u001b[0m \u001b[0mstacktrace\u001b[0m\u001b[1;33m,\u001b[0m \u001b[0malert_text\u001b[0m\u001b[1;33m)\u001b[0m\u001b[1;33m\u001b[0m\u001b[1;33m\u001b[0m\u001b[0m\n\u001b[1;32m--> 242\u001b[1;33m         \u001b[1;32mraise\u001b[0m \u001b[0mexception_class\u001b[0m\u001b[1;33m(\u001b[0m\u001b[0mmessage\u001b[0m\u001b[1;33m,\u001b[0m \u001b[0mscreen\u001b[0m\u001b[1;33m,\u001b[0m \u001b[0mstacktrace\u001b[0m\u001b[1;33m)\u001b[0m\u001b[1;33m\u001b[0m\u001b[1;33m\u001b[0m\u001b[0m\n\u001b[0m\u001b[0;32m    243\u001b[0m \u001b[1;33m\u001b[0m\u001b[0m\n\u001b[0;32m    244\u001b[0m     \u001b[1;32mdef\u001b[0m \u001b[0m_value_or_default\u001b[0m\u001b[1;33m(\u001b[0m\u001b[0mself\u001b[0m\u001b[1;33m,\u001b[0m \u001b[0mobj\u001b[0m\u001b[1;33m,\u001b[0m \u001b[0mkey\u001b[0m\u001b[1;33m,\u001b[0m \u001b[0mdefault\u001b[0m\u001b[1;33m)\u001b[0m\u001b[1;33m:\u001b[0m\u001b[1;33m\u001b[0m\u001b[1;33m\u001b[0m\u001b[0m\n",
      "\u001b[1;31mNoSuchWindowException\u001b[0m: Message: no such window: target window already closed\nfrom unknown error: web view not found\n  (Session info: chrome=94.0.4606.81)\n"
     ]
    }
   ],
   "source": [
    "for i in urlscomplete:\n",
    "    driver.get(i)\n",
    "    time.sleep(3)\n",
    "    #fetching brand\n",
    "    try:\n",
    "        brand=driver.find_element_by_xpath(\"/html[1]/body[1]/div[2]/div[1]/div[1]/div[1]/main[1]/div[2]/div[2]/div[1]/h1[1]\")\n",
    "        shoe_brand.append(brand.text.replace(\"/n\",\"new line\"))\n",
    "    except :\n",
    "        shoe_brand.append('-')\n",
    "        \n",
    "        \n",
    "    #Fetching product description\n",
    "    #prodcutdesc_btn=driver.find_element_by_xpath(\"/html[1]/body[1]/div[1]/div[1]/div[3]/div[1]/div[2]/div[7]/div[3]/div[1]/div[1]/div[1]/div[1]\")\n",
    "    #productdesc_btn.click()\n",
    "    try:\n",
    "        Shoe_desc=driver.find_element_by_xpath(\"/html[1]/body[1]/div[2]/div[1]/div[1]/div[1]/main[1]/div[2]/div[2]/div[1]/h1[2]\")\n",
    "        shoe_desc.append(Shoe_desc.text)\n",
    "    except:\n",
    "        shoe_desc.append('-')\n",
    "        \n",
    "      #Fetching price\n",
    "    try:\n",
    "        price=driver.find_element_by_xpath(\"/html[1]/body[1]/div[2]/div[1]/div[1]/div[1]/main[1]/div[2]/div[2]/div[1]/p[1]/span[1]/strong[1]\")\n",
    "        price_shoe.append(price.text)\n",
    "    except:\n",
    "        price_shoe.append('-')  \n",
    "         "
   ]
  },
  {
   "cell_type": "code",
   "execution_count": null,
   "metadata": {},
   "outputs": [],
   "source": []
  }
 ],
 "metadata": {
  "kernelspec": {
   "display_name": "Python 3",
   "language": "python",
   "name": "python3"
  },
  "language_info": {
   "codemirror_mode": {
    "name": "ipython",
    "version": 3
   },
   "file_extension": ".py",
   "mimetype": "text/x-python",
   "name": "python",
   "nbconvert_exporter": "python",
   "pygments_lexer": "ipython3",
   "version": "3.8.5"
  }
 },
 "nbformat": 4,
 "nbformat_minor": 4
}
