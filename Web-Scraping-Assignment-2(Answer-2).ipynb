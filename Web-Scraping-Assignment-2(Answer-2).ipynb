{
 "cells": [
  {
   "cell_type": "code",
   "execution_count": null,
   "metadata": {},
   "outputs": [],
   "source": [
    "# lets now import all the required libraries\n",
    "import selenium\n",
    "import pandas as pd\n",
    "from selenium import webdriver\n",
    "import time"
   ]
  },
  {
   "cell_type": "code",
   "execution_count": 16,
   "metadata": {},
   "outputs": [],
   "source": [
    "#Lets first connect to the web driver\n",
    "driver = webdriver.Chrome(r\"C:\\Users\\user\\Downloads\\chromedriver_win32\\chromedriver.exe\")"
   ]
  },
  {
   "cell_type": "code",
   "execution_count": 17,
   "metadata": {},
   "outputs": [],
   "source": [
    "driver.get(\"https://www.naukri.com/\")"
   ]
  },
  {
   "cell_type": "code",
   "execution_count": 18,
   "metadata": {},
   "outputs": [],
   "source": [
    "search_job=driver.find_element_by_xpath(\"//input[@id='qsb-keyword-sugg']\")\n",
    "search_job.send_keys(\"Data Scientist\")\n",
    "search_loc=driver.find_element_by_xpath(\"//input[@id='qsb-location-sugg']\")\n",
    "search_loc.send_keys(\"Bangalore\")\n",
    "search_btn=driver.find_element_by_xpath(\"//div[@class='search-btn']/button\")\n",
    "search_btn.click()"
   ]
  },
  {
   "cell_type": "code",
   "execution_count": 19,
   "metadata": {},
   "outputs": [],
   "source": [
    "job_titles=[]\n",
    "job_locations=[]\n",
    "company_names=[]\n",
    "Full_job_desc=[]"
   ]
  },
  {
   "cell_type": "code",
   "execution_count": 20,
   "metadata": {},
   "outputs": [
    {
     "data": {
      "text/plain": [
       "[<selenium.webdriver.remote.webelement.WebElement (session=\"2d6ef634e39961fa6ef66a4a42175b6d\", element=\"dbe33a8c-ac5b-44b5-b87c-8395ce925a88\")>,\n",
       " <selenium.webdriver.remote.webelement.WebElement (session=\"2d6ef634e39961fa6ef66a4a42175b6d\", element=\"fb129008-8f1e-4cf9-acd5-077aec861e4c\")>,\n",
       " <selenium.webdriver.remote.webelement.WebElement (session=\"2d6ef634e39961fa6ef66a4a42175b6d\", element=\"f52c46a3-490f-4a78-b82f-c6b663fcd0d1\")>,\n",
       " <selenium.webdriver.remote.webelement.WebElement (session=\"2d6ef634e39961fa6ef66a4a42175b6d\", element=\"0a413cd9-5efb-46db-a991-1678ad29914f\")>,\n",
       " <selenium.webdriver.remote.webelement.WebElement (session=\"2d6ef634e39961fa6ef66a4a42175b6d\", element=\"53b27ed6-3bad-400c-9f17-0674eb009e72\")>,\n",
       " <selenium.webdriver.remote.webelement.WebElement (session=\"2d6ef634e39961fa6ef66a4a42175b6d\", element=\"e162d383-3acf-4d2d-a4e7-dbe3bd811ba8\")>,\n",
       " <selenium.webdriver.remote.webelement.WebElement (session=\"2d6ef634e39961fa6ef66a4a42175b6d\", element=\"c3c7b7da-8a43-48c7-aae4-4453ff61d9cc\")>,\n",
       " <selenium.webdriver.remote.webelement.WebElement (session=\"2d6ef634e39961fa6ef66a4a42175b6d\", element=\"a494e050-a159-4c44-96ef-2dff1da51531\")>,\n",
       " <selenium.webdriver.remote.webelement.WebElement (session=\"2d6ef634e39961fa6ef66a4a42175b6d\", element=\"2addc5de-a6df-48f7-bf3e-782272a370f4\")>,\n",
       " <selenium.webdriver.remote.webelement.WebElement (session=\"2d6ef634e39961fa6ef66a4a42175b6d\", element=\"31081927-550b-4779-9b60-ae50798ab13d\")>]"
      ]
     },
     "execution_count": 20,
     "metadata": {},
     "output_type": "execute_result"
    }
   ],
   "source": [
    "titles_tags=driver.find_elements_by_xpath(\"//a[@class='title fw500 ellipsis']\")\n",
    "titles_tags[0:10]"
   ]
  },
  {
   "cell_type": "code",
   "execution_count": 21,
   "metadata": {},
   "outputs": [
    {
     "data": {
      "text/plain": [
       "['Lead Data Scientist',\n",
       " 'Senior Data Scientist',\n",
       " 'Data Scientist/Senior Data Scientist - IT Services Firm',\n",
       " 'Data Scientist',\n",
       " 'Data Scientist',\n",
       " 'Data Scientist - AI Flagship',\n",
       " 'Data Scientist',\n",
       " 'Senior/Lead Data Scientist',\n",
       " 'Data Scientist / AI / ML Engineer',\n",
       " 'Data Scientist']"
      ]
     },
     "execution_count": 21,
     "metadata": {},
     "output_type": "execute_result"
    }
   ],
   "source": [
    "for i in titles_tags:\n",
    "    title=i.text\n",
    "    job_titles.append(title)\n",
    "job_titles[0:10]"
   ]
  },
  {
   "cell_type": "code",
   "execution_count": 22,
   "metadata": {},
   "outputs": [
    {
     "data": {
      "text/plain": [
       "[<selenium.webdriver.remote.webelement.WebElement (session=\"2d6ef634e39961fa6ef66a4a42175b6d\", element=\"cb982992-24eb-4e9b-8ae7-88c490195506\")>,\n",
       " <selenium.webdriver.remote.webelement.WebElement (session=\"2d6ef634e39961fa6ef66a4a42175b6d\", element=\"b6654ac7-a45a-4533-818c-e8ef7066cc1e\")>,\n",
       " <selenium.webdriver.remote.webelement.WebElement (session=\"2d6ef634e39961fa6ef66a4a42175b6d\", element=\"56825bd5-7012-40ea-a914-f21fe9b8a5d4\")>,\n",
       " <selenium.webdriver.remote.webelement.WebElement (session=\"2d6ef634e39961fa6ef66a4a42175b6d\", element=\"bea68871-da89-4c26-88e6-15a8cc93225d\")>,\n",
       " <selenium.webdriver.remote.webelement.WebElement (session=\"2d6ef634e39961fa6ef66a4a42175b6d\", element=\"be87c4fc-e837-4ba9-84d9-a089f3b67455\")>,\n",
       " <selenium.webdriver.remote.webelement.WebElement (session=\"2d6ef634e39961fa6ef66a4a42175b6d\", element=\"8bb6e015-55ca-435f-90e1-97c846cfe56d\")>,\n",
       " <selenium.webdriver.remote.webelement.WebElement (session=\"2d6ef634e39961fa6ef66a4a42175b6d\", element=\"cb5ab931-d48d-41f4-8afb-c0e610d34437\")>,\n",
       " <selenium.webdriver.remote.webelement.WebElement (session=\"2d6ef634e39961fa6ef66a4a42175b6d\", element=\"0bd4cf85-8984-48d2-989a-f1af799cbe42\")>,\n",
       " <selenium.webdriver.remote.webelement.WebElement (session=\"2d6ef634e39961fa6ef66a4a42175b6d\", element=\"949e7878-d242-4f7e-acf4-814ebb5d7179\")>,\n",
       " <selenium.webdriver.remote.webelement.WebElement (session=\"2d6ef634e39961fa6ef66a4a42175b6d\", element=\"732441a0-b71a-4a80-935b-6450fc6e3c6b\")>]"
      ]
     },
     "execution_count": 22,
     "metadata": {},
     "output_type": "execute_result"
    }
   ],
   "source": [
    "locations_tags=driver.find_elements_by_xpath(\"//li[@class='fleft grey-text br2 placeHolderLi location']/span[1]\")\n",
    "locations_tags[0:10]"
   ]
  },
  {
   "cell_type": "code",
   "execution_count": 23,
   "metadata": {},
   "outputs": [
    {
     "data": {
      "text/plain": [
       "['Bangalore/Bengaluru',\n",
       " 'Noida, Bangalore/Bengaluru',\n",
       " 'Hyderabad/Secunderabad, Pune, Gurgaon/Gurugram, Bangalore/Bengaluru',\n",
       " 'Bangalore/Bengaluru',\n",
       " 'Bangalore/Bengaluru',\n",
       " 'Bangalore/Bengaluru',\n",
       " 'Bangalore/Bengaluru',\n",
       " 'Bangalore/Bengaluru',\n",
       " 'Bangalore/Bengaluru',\n",
       " 'Bangalore/Bengaluru']"
      ]
     },
     "execution_count": 23,
     "metadata": {},
     "output_type": "execute_result"
    }
   ],
   "source": [
    "for i in locations_tags:\n",
    "    location=i.text\n",
    "    job_locations.append(location)\n",
    "job_locations[0:10]"
   ]
  },
  {
   "cell_type": "code",
   "execution_count": 24,
   "metadata": {},
   "outputs": [
    {
     "data": {
      "text/plain": [
       "[<selenium.webdriver.remote.webelement.WebElement (session=\"2d6ef634e39961fa6ef66a4a42175b6d\", element=\"20d7535a-ba90-4f2a-8a64-d6314fa98557\")>,\n",
       " <selenium.webdriver.remote.webelement.WebElement (session=\"2d6ef634e39961fa6ef66a4a42175b6d\", element=\"1ed1f8d3-96d8-4db8-81a2-28e9d1f5ec2f\")>,\n",
       " <selenium.webdriver.remote.webelement.WebElement (session=\"2d6ef634e39961fa6ef66a4a42175b6d\", element=\"865904bf-d810-446c-a72b-c295f6ed0d95\")>,\n",
       " <selenium.webdriver.remote.webelement.WebElement (session=\"2d6ef634e39961fa6ef66a4a42175b6d\", element=\"f4511253-78eb-4ce6-afb9-ca35c0a4dfca\")>,\n",
       " <selenium.webdriver.remote.webelement.WebElement (session=\"2d6ef634e39961fa6ef66a4a42175b6d\", element=\"cf84643c-8d58-4bbb-8044-7c5c2240e589\")>,\n",
       " <selenium.webdriver.remote.webelement.WebElement (session=\"2d6ef634e39961fa6ef66a4a42175b6d\", element=\"53f2c5ce-9f69-4db7-b7ae-4c6d7b6608ed\")>,\n",
       " <selenium.webdriver.remote.webelement.WebElement (session=\"2d6ef634e39961fa6ef66a4a42175b6d\", element=\"8ee1e237-cfb0-4097-a0fd-1ea1041d1dd8\")>,\n",
       " <selenium.webdriver.remote.webelement.WebElement (session=\"2d6ef634e39961fa6ef66a4a42175b6d\", element=\"13a645d2-9c93-41a1-b304-89923ee0c938\")>,\n",
       " <selenium.webdriver.remote.webelement.WebElement (session=\"2d6ef634e39961fa6ef66a4a42175b6d\", element=\"5949075e-ed5c-4897-8868-58acf4021e14\")>,\n",
       " <selenium.webdriver.remote.webelement.WebElement (session=\"2d6ef634e39961fa6ef66a4a42175b6d\", element=\"287ee882-5711-4622-a38d-4b10ceb3d44b\")>]"
      ]
     },
     "execution_count": 24,
     "metadata": {},
     "output_type": "execute_result"
    }
   ],
   "source": [
    "companies_tags=driver.find_elements_by_xpath(\"//a[@class='subTitle ellipsis fleft']\")\n",
    "companies_tags[0:10]"
   ]
  },
  {
   "cell_type": "code",
   "execution_count": 25,
   "metadata": {},
   "outputs": [
    {
     "data": {
      "text/plain": [
       "['Huawei Technologies',\n",
       " 'InnovAccer',\n",
       " 'Pylon Management Consulting Pvt Ltd',\n",
       " 'Staffio HR',\n",
       " 'Flipkart Internet Private Limited',\n",
       " 'Schneider Electric India Pvt. Ltd.',\n",
       " 'GlaxoSmithKline Pharmaceuticals Limited',\n",
       " 'Scienaptic Systems',\n",
       " 'Hitachi Ltd.',\n",
       " 'Executive Selection India']"
      ]
     },
     "execution_count": 25,
     "metadata": {},
     "output_type": "execute_result"
    }
   ],
   "source": [
    "for i in companies_tags:\n",
    "    title=i.text\n",
    "    company_names.append(title)\n",
    "company_names[0:10]"
   ]
  },
  {
   "cell_type": "code",
   "execution_count": 26,
   "metadata": {},
   "outputs": [],
   "source": [
    "#Fetching urls\n",
    "urls=[]\n",
    "for i in driver.find_elements_by_xpath(\"//a[@class='title fw500 ellipsis']\"):\n",
    "    urls.append(i.get_attribute(\"href\"))\n",
    "    urls"
   ]
  },
  {
   "cell_type": "code",
   "execution_count": 27,
   "metadata": {},
   "outputs": [
    {
     "data": {
      "text/plain": [
       "20"
      ]
     },
     "execution_count": 27,
     "metadata": {},
     "output_type": "execute_result"
    }
   ],
   "source": [
    "len(urls)"
   ]
  },
  {
   "cell_type": "code",
   "execution_count": 28,
   "metadata": {},
   "outputs": [
    {
     "data": {
      "text/plain": [
       "['https://www.naukri.com/job-listings-lead-data-scientist-huawei-technologies-india-pvt-ltd-bangalore-bengaluru-4-to-9-years-121021907623?src=jobsearchDesk&sid=16341911012773448&xp=1&px=1',\n",
       " 'https://www.naukri.com/job-listings-senior-data-scientist-innovaccer-noida-bangalore-bengaluru-5-to-10-years-131021501006?src=jobsearchDesk&sid=16341911012773448&xp=2&px=1',\n",
       " 'https://www.naukri.com/job-listings-data-scientist-senior-data-scientist-it-services-firm-pylon-management-consulting-pvt-ltd-hyderabad-secunderabad-pune-gurgaon-gurugram-bangalore-bengaluru-5-to-6-years-131021906976?src=jobsearchDesk&sid=16341911012773448&xp=3&px=1',\n",
       " 'https://www.naukri.com/job-listings-data-scientist-staffio-hr-bangalore-bengaluru-4-to-6-years-131021501523?src=jobsearchDesk&sid=16341911012773448&xp=4&px=1',\n",
       " 'https://www.naukri.com/job-listings-data-scientist-flipkart-internet-private-limited-bangalore-bengaluru-3-to-6-years-081021906627?src=jobsearchDesk&sid=16341911012773448&xp=5&px=1',\n",
       " 'https://www.naukri.com/job-listings-data-scientist-ai-flagship-schneider-electric-india-pvt-ltd-bangalore-bengaluru-4-to-7-years-081021501357?src=jobsearchDesk&sid=16341911012773448&xp=6&px=1',\n",
       " 'https://www.naukri.com/job-listings-data-scientist-glaxosmithkline-pharmaceuticals-limited-bangalore-bengaluru-4-to-7-years-081021501507?src=jobsearchDesk&sid=16341911012773448&xp=7&px=1',\n",
       " 'https://www.naukri.com/job-listings-senior-lead-data-scientist-scienaptic-systems-bangalore-bengaluru-10-to-12-years-041021500239?src=jobsearchDesk&sid=16341911012773448&xp=8&px=1',\n",
       " 'https://www.naukri.com/job-listings-data-scientist-ai-ml-engineer-hitachi-ltd-bangalore-bengaluru-5-to-10-years-111021500424?src=jobsearchDesk&sid=16341911012773448&xp=9&px=1',\n",
       " 'https://www.naukri.com/job-listings-data-scientist-executive-selection-india-bangalore-bengaluru-5-to-10-years-141021900225?src=jobsearchDesk&sid=16341911012773448&xp=10&px=1',\n",
       " 'https://www.naukri.com/job-listings-data-scientist-successr-hr-tech-pvt-ltd-bangalore-bengaluru-4-to-8-years-131021901011?src=jobsearchDesk&sid=16341911012773448&xp=11&px=1',\n",
       " 'https://www.naukri.com/job-listings-lead-data-scientist-recruise-india-consulting-pvt-ltd-bangalore-bengaluru-7-to-10-years-131021002265?src=jobsearchDesk&sid=16341911012773448&xp=12&px=1',\n",
       " 'https://www.naukri.com/job-listings-sr-data-scientist-bizviz-technologies-private-limited-bangalore-bengaluru-4-to-7-years-081021002595?src=jobsearchDesk&sid=16341911012773448&xp=13&px=1',\n",
       " 'https://www.naukri.com/job-listings-senior-data-scientist-go-jek-india-bangalore-bengaluru-5-to-10-years-111021502002?src=jobsearchDesk&sid=16341911012773448&xp=14&px=1',\n",
       " 'https://www.naukri.com/job-listings-senior-data-scientist-convergence-infotech-ltd-bangalore-bengaluru-8-to-12-years-111021004221?src=jobsearchDesk&sid=16341911012773448&xp=15&px=1',\n",
       " 'https://www.naukri.com/job-listings-senior-data-scientist-nlp-thomson-reuters-international-services-pvt-ltd-bangalore-bengaluru-8-to-10-years-111021001745?src=jobsearchDesk&sid=16341911012773448&xp=16&px=1',\n",
       " 'https://www.naukri.com/job-listings-data-scientist-bd-bangalore-bengaluru-2-to-5-years-091021500390?src=jobsearchDesk&sid=16341911012773448&xp=17&px=1',\n",
       " 'https://www.naukri.com/job-listings-data-scientist-applied-materials-india-private-limited-chennai-bangalore-bengaluru-7-to-10-years-081021909146?src=jobsearchDesk&sid=16341911012773448&xp=18&px=1',\n",
       " 'https://www.naukri.com/job-listings-lead-data-scientist-gadgeon-smart-systems-pvt-ltd-bangalore-bengaluru-2-to-7-years-071021000402?src=jobsearchDesk&sid=16341911012773448&xp=19&px=1',\n",
       " 'https://www.naukri.com/job-listings-lead-data-scientist-siemens-limited-bangalore-bengaluru-6-to-11-years-081021500651?src=jobsearchDesk&sid=16341911012773448&xp=20&px=1']"
      ]
     },
     "execution_count": 28,
     "metadata": {},
     "output_type": "execute_result"
    }
   ],
   "source": [
    "urls"
   ]
  },
  {
   "cell_type": "code",
   "execution_count": 29,
   "metadata": {},
   "outputs": [],
   "source": [
    " for i in urls:\n",
    "    driver.get(i)\n",
    "    time.sleep(3)\n",
    "    try:\n",
    "        job_desc=driver.find_element_by_xpath(\"//section[@class='job-desc']\")\n",
    "        Full_job_desc.append(job_desc.text)\n",
    "    except:\n",
    "        Full_job_desc.append('-')"
   ]
  },
  {
   "cell_type": "code",
   "execution_count": 30,
   "metadata": {},
   "outputs": [
    {
     "data": {
      "text/plain": [
       "['Job description\\nWe are looking for a Lead data scientist who will help us discover the information hidden in vast amounts of Ad Campaign data, and help us to optimize the campaign to improve the advertiser ROI and improve the overall consumer experience. Your primary focus will be in applying data mining techniques, doing statistical analysis, and building high quality prediction systems using Deep learning algorithms integrated with our products. Some the key area you will be working on spend recommendation, floor price prediction, CTR/CVR prediction, market funnel analysis and perdition of lead to conversion, etc.\\n\\nResponsibility:\\nAnalyze the data, develop insights and identify the opportunity to utilize the data to predict various Advertisement key indicators like CTR, CVR, Inventory and Develop prediction and optimization algorithms for campaign, look alike modeling, etc for Huawei Ads.\\nTakeup key challenges in AI-driven Smart Ad Serving Platform and focus on research and developing leading AI algorithms and productionize for Huawei Ads.\\nTakeup initiative in identifying the SOTA and finding key gaps in AI algorithms and develop a world leading AI algorithms for optimizing real-time Ad Serving engine. Identify and optimize the core modules such as Traffic Prediction, Optimization, Ad Targeting/Re-targeting, Ad Performance Optimization, Audience insights, Attribution, Bidding, re-ranking, and Diagnostics. Support hundreds of billions of ad requests per day, with efficiently cache technology.\\nTo build and enhance Ad platform features and Prediction capabilities in Huawei Ads Platform\\nOptimized Cost Per Mille; Optimized Cost Per Action; Optimized Cost Per Click and Cost per Click. OCPM, OCPA, OCPC.\\n\\nRequirements:\\n- Strong hands-on experience in implementing and validating big data algorithms and models including Deep Learning models like Seq2Seq/ GRU/ RNN/LSTM , Knowledge Graph, Massive Graph algorithms, etc.\\n- Programming experience with Python\\n- Able to validate existing models including Deep Learning models with large scale dataset and able to make changes to the models to achieve better performance\\n- AdServing domain Experience is an added advantage.\\nRoleData Scientist\\nIndustry TypeTelecom / ISP\\nFunctional AreaData Science & Analytics\\nEmployment TypeFull Time, Permanent\\nRole CategoryData Science & Machine Learning\\nEducation\\nUG :Any Graduate\\nPG :Any Postgraduate\\nKey Skills\\nData SciencePerformance OptimizationAlgorithmsRNNLSTMArtificial IntelligenceBig DataData MiningStatistical AnalysisDeep LearningPython',\n",
       " 'Job description\\n  A day in the life at Innovaccer:\\nDesign and lead the development of various artificial intelligence initiatives to help improve health and wellness of patients\\nWork with the business leaders and customers to understand their pain-points and build large-scale solutions for them.\\nDefine technical architecture to productize Innovaccer s machine-learning algorithms and take them to market with partnerships with different organizations\\nWork with our data platform and applications team to help them successfully integrate the data science capability or algorithms in their product/workflows.\\nWork with customers and BI experts to build out reports and dashboards that are most useful to customers\\nWork with development teams to build tools for repeatable data tasks that will accelerate and automate development cycle.\\nDefine and execute on the roadmap\\nWhat You Need\\nMasters in Computer Science, Computer Engineering or other relevant fields (PhD Preferred)\\n5 years of experience in Data Science (healthcare experience will be a plus)\\nStrong written and spoken communication skills\\nStrong hands-on experience in Python\\nExperience in Deep Learning Frameworks like Keras, TensorFlow\\nExperience with Sequence Models\\nExperience in NLP libraries like spaCy, NLTK, StanfordNLP\\nExperience in developing and deploying production ready models\\nPossess a customer-focused attitude through conversations and documentation\\nCoordinate management activities with others on the team\\nHands-on ability to set up reporting tools and build reports and ad hoc functionality\\nRoleRegional Sales Manager (B2C)\\nIndustry TypeBPO / Call Centre\\nFunctional AreaSales & Business Development\\nEmployment TypeFull Time, Permanent\\nRole CategoryRetail & B2C Sales\\nEducation\\nUG :Any Graduate\\nPG :Any Postgraduate\\nKey Skills\\nData ScienceTeam ManagementArtificial IntelligenceData ScientistComputer ScienceFull TimeMachine LearningDeep LearningPythonPredictive Analytics',\n",
       " \"Job description\\nResponsibilities :\\n\\n- Analytics lead on client projects responsible for data science application development, Works closely with cross-functional teams.\\n\\n- Takes responsibility for requirements gathering, solution design, development, and developing a production-level data science solution\\n\\n- Develop implementation guidelines, quality control procedures, and documentation for projects. Ensures adherence to the best practices in the project\\n\\n- Guide team members on project work and take responsibility for the analytics deliverables\\n\\n- Take initiatives to drive data science initiatives like training to the team, conduct proof-of-concept work to test new data science algorithms or features with support of data science leadership\\n\\nMust have Skills and Experience: :\\n\\n- At least a year of experience of leading machine learning or forecasting projects to meet the customers- business requirement\\n\\n- 5-6 years of project experience using machine learning techniques (like Decision Trees, Gradient Boosting, Random Forest, and Neural Networks) or forecasting techniques (ESM, ARIMA, ARIMAX, UCM)\\n\\n- Advance level skills in Python and SQL to work on large scale data\\n\\n- Expertise and ability to train team members in Advanced Python for Data Science, Machine Learning / Forecasting, and SQL\\n\\nEducation:\\n\\n- Bachelor /Master's degree in technology or engineering or quantitative field (e.g. MSc in Statistics and Operations Research, M Tech in Industrial Engineering, Applied Math/Statistics, Computer Science)\\n\\n- Experience in retail, manufacturing, and consumer goods industry\\n\\n- Experience of operationalization of the machine learning or forecasting models in the cloud or on-premises platform\\nRoleData Scientist\\nIndustry TypeIT Services & Consulting\\nFunctional AreaData Science & Analytics\\nEmployment TypeFull Time, Permanent\\nRole CategoryData Science & Machine Learning\\nEducation\\nUG :B.Tech/B.E. in Any Specialization\\nPG :M.Tech in Production/Industrial, Computers, MS/M.Sc(Science) in Statistics\\nDoctorate :Doctorate Not Required\\nKey Skills\\nData ScienceNLPData ScientistData ManagementMachine LearningStatisticsAnalyticsSQL\",\n",
       " 'Job description\\n  Prior experience of working with large-scale datasets (10s of millions of documents) is strongly preferred.\\nEnd-to-end ownership of developing the model, writing production quality code and deploying the model is an expectation of the job.\\nExperience in data cleansing and preparation concepts and tools.\\nPrior experience of working with startups is strongly preferred.\\nExpertise in probability and statistics, time-series analysis as well as experience in the use of machine learning methods, for example, linear regression, correlation, statistical significance, and so forth.\\nExperience in data visualization concepts and tools\\nExperience with Data Quality Controls.\\nTech Requirements\\nExperience in NLP is a must.\\nProgramming Languages: Hands-on with Python and Java.\\nStrong background in relational databases, data modeling and SQL.\\nExperience working with statistical libraries (e.g scikit-learn) and frameworks for predictive analytics.\\nKnowledge of Hadoop and UNIX will be a plus.\\nKnowledge of Kibana and/or other reporting tools is preferred.\\nRoleFunctional Consultant\\nIndustry TypeRecruitment / Staffing\\nFunctional AreaConsulting\\nEmployment TypeFull Time, Permanent\\nRole CategoryIT Consulting\\nEducation\\nUG :Any Graduate\\nPG :Any Postgraduate\\nKey Skills\\nJavaSoftware DevelopmentNlpData ScientistLinear RegressionHadoopData VisualizationData ModelingMachine LearningPython',\n",
       " 'Job description\\nAbout the role\\nA Data Scientist in Flipkart is required to develop and implement a mix of ML, statistical and optimization models for the various projects formulated from business and product views. The responsible person should be able to communicate and collaborate with multiple stakeholders representing various teams to better understand the problem at hand. At a fundamental level, the responsible person should be able to dive deep into a problem statement and extract interesting insights as well as solutions. In addition to being a quick learner, a DS is expected to get involved in active research projects with a view to publish them.\\nWhat you ll do\\nUnderstand Business and product needs and use ML, statistical and optimization techniques as appropriate to provide solutions to those in a time bound fashion.\\nCommunicate and collaborate with business and product teams to have a better understanding of the project so as to be able to drive it within the DS team.\\nGet involved in in-depth exploration of solutions that are to be shared with business and product teams; specifically, build models and scalable custom algorithms for problems including decision optimization and predictive modeling.\\nActive participation in working with new methods and learning new technologies, in areas including data science and data engineering.\\nWhat you ll need:\\nB.Tech, M.Tech or PhD in CS, Operations Research or related discipline with professional experience ranging from 3 to 6 years through deployed solutions/projects. Candidate should have taken academic coursework in Operations Research (specifically mathematical optimization)\\nDemonstrated experience in building discrete, linear, nonlinear or stochastic optimization models is required. Experience with optimization models for supply chain optimization is preferred but not required\\nDemonstrated experience in utilizing and tuning commercial optimization solvers (e.g. CPLEX, Gurobi) and in building custom optimization algorithms (e.g. exact algorithms, metaheuristics, large neighborhood search, decomposition algorithms, greedy/randomized search) for industry-scale problems is required.\\nGood grasp on the theory and practise of basic statistical models such as regression or clustering and general ML algorithms such as tree, Random Forests, SVM, Boosting, Neural Networks etc. It is not expected that the candidate has actually worked on all these modules.\\nStrong proficiency in Python or R is necessary.\\nRoleResearch Scientist\\nIndustry TypeInternet\\nFunctional AreaResearch & Development\\nEmployment TypeFull Time, Permanent\\nRole CategoryPharmaceutical & Biotechnology\\nEducation\\nUG :B.Tech/B.E.\\nPG :M.Tech\\nKey Skills\\nSupply chainOperations researchdata scienceNeural networksPredictive modelingPython',\n",
       " 'Job description\\nIdentify and understand business problems : partner with business stakeholders to understand and communicate on business objectives\\nDefine analytical techniques to solve business challenges\\nProvide data science contribution into the assigned projects\\nBe part of the innovation programs (eg. Semtech, chatbots)\\nMaintain high quality code and documentation\\nAssure efficiency, stability and scalability of the solution\\nCreate deliver easily-consumable presentations to large groups of stakeholders and executives that showcase actionable insights and recommendations\\nTeam Interaction\\nData Scientist interacts with all members of service line she is assigned to in order to develop provide best in class solutions for the business.\\nShe interacts as well with key stakeholders of the business domain business process owners/experts, operations etc. in order to identify business opportunities, discuss test solutions\\nShe interacts also with other service lines as well as Analytics Apps Infrastructure team in order to exchange best practices\\nShe interacts also with Analytics Apps Infrastructure team in order to industrialize data products\\nShe interacts with Global IT department (Schneider Digital) to support the work on Intel Data Store\\n\\n\\n  RoleResearch Scientist\\nIndustry TypeElectrical Equipment\\nFunctional AreaResearch & Development\\nEmployment TypeFull Time, Permanent\\nRole CategoryPharmaceutical & Biotechnology\\nEducation\\nUG :Any Graduate\\nPG :Any Postgraduate\\nKey Skills\\nData ScienceHiveData ScientistHadoopSql ServerBig DataSparkMachine LearningPython',\n",
       " 'Job description\\nWorking with multidisciplinary teams to identify, validate, and source required data and tools to develop and mature ML capabilities\\nPerforming data mining to discover nonobvious relationships, building training data, implementing and retraining ML solutions\\nConducting discovery workshops with business partners to identify business problems\\nBuilding visualization dashboards to present metrics, statistical findings, and progress tracking\\nYour Responsibilities\\nCollaborate and work across business units to identify and source the data and technology to build and mature ML capabilities\\nConduct discovery workshops with business partners to identify business problems, obtain and validate training data\\nDesign, Build, implement, and retrain ML models to solve specific business problems\\nPerform data mining and apply findings to increase modeling accuracy\\nCleary and concisely communicate business needs, computational findings and recommendations to all audiences regardless of their background or technical understanding\\nBuild, implement, and maintain visualization dashboards that clearly present both historical and real time operational metrics, research findings, and progress updates\\nBasic Qualifications\\nBachelors degree in Applied Mathematics, Mathematical Engineering, Computer Science, Information Technology, or Related Field\\n10 + years of overall technical experience\\n2+ years of Machine Learning and or Data Mining experience\\n2+ years of experience building visualization dashboards\\n2+ years working with and manipulating large data sets\\n2+ years of hands on development experience using multiple languages\\nPreferred Qualifications\\nMasters degree in Applied Mathematics, Mathematical Engineering, Computer Science, Information Technology, or Related Field\\nExperience with tools such as Tableau and Power BI\\nExperience manipulating large data sets using technologies such as Hadoop, Azure, Hive, Spark, Element, Data Bricks, Mongo, and BigQuery\\nStrong development experience using multiple languages such as Python, R Studio, SQL, C#, Java, Java Script, and Julia\\nSuccessful completion of 2 or more projects (end to end) involving the migration and merging of large data sets from multiple sources, leveraging statistical analysis to identify meaningful and significant data relationships to build, train, and retrain ML models\\nExperience and/or exposure to the cyber security industry and working with a SIEM such as Splunk or Google Chronicle\\nRoleData warehouse Developer / Engineer\\nIndustry TypePharmaceutical & Life Sciences\\nFunctional AreaEngineering - Software\\nEmployment TypeFull Time, Permanent\\nRole CategoryDBA / Data warehousing\\nEducation\\nUG :Any Graduate\\nPG :Any Postgraduate\\nKey Skills\\nProcurementComputer sciencePharmaMachine learningHealthcareData miningOperationsInformation technologySQLPython',\n",
       " 'Job description\\nWe are looking for an energetic and experienced person as Sr/Lead Data Scientist. The chosen candidate will be responsible for interacting with clients and developing all aspects of data mining, predictive analytic, solution development to name a few.\\nRequirements\\nLead and take part in end-to-end ML (Machine Learning) projects deployments that require feasibility analysis, design, development, validation, and application of state-of-the art data science solutions.\\nNeed to deliver solutions to production through the software development lifecycle.\\nYou will have to push the state of the art application in terms of data mining, visualization, predictive modelling, statistics, trend analysis, and other data analysis techniques to solve complex business problems including recommender systems, Customer sentiment modelling, customer life-cycle modelling, Spare parts inventory optimization, spare parts pricing, warranty, After market channel effectiveness.\\nWrite production ready code and deploy real time ML models; expose ML outputs through APIs.\\nHypothesis Testing and Design of experiments to analyze and monitor results\\nPartner with Data/ML engineers and vendor partners for input data pipes development and ML models automation.\\nSkills\\n5 10 years of Applied Machine learning experience in the fields of Machine Learning, Recommender Systems, Statistical Modelling, Predictive Modelling.\\nNote: We are looking for candidates who are presently serving their notice or who can join us within 15-20 days.\\nRoleTechnical Consultant\\nIndustry TypeIT Services & Consulting\\nFunctional AreaConsulting\\nEmployment TypeFull Time, Permanent\\nRole CategoryIT Consulting\\nEducation\\nUG :Any Graduate\\nPG :Any Postgraduate\\nKey Skills\\nAutomationData analysisStatistical modelingSpare partsMachine learningTrend analysisCredit underwritingSoftware development life cyclePredictive modelingData mining',\n",
       " 'Job description\\nDuties and Responsibilities\\nImplement the application solving customer s issue by applying AI/ML technologies\\nApply ML and DL models for various industry problems.\\nSetting-up collaboration environment and framework for AI related research and development projects.\\nDesign and develop different architectural models for scalable data storage, processing, and large-scale analytics.\\nWork with cross-functional teams to understand technical needs.\\nSet-up big data environment that helps establish rapid POCs and prototype developments on both on-premises and cloud-based platforms.\\nMonitor and optimize performance of the big data ecosystem.\\nEnsure data accessibility to researchers via different programming languages.\\nKeep up to date with state of the art in the industry.\\nQualifications\\nMinimum\\nBachelor s degree in Computer Science with substantial industry experience of 5 years or more of Data Engineering/ETL/Administration experience.\\nHands-on experience in Statistical data analysis and Machine learning\\nPossess significant knowledge of Big Data technologies and tools.\\nGood coding skills in at least one scripting language (Shell, Python, R, etc.)\\nExperience with various Hadoop distribution like Hortonworks and Cloudera.\\nKnowledge of cluster monitoring tools like Ambari, Ganglia, or Nagios.\\nDelivered Big Data solutions in the cloud with AWS or Azure or Google Cloud.\\nExperience in Java programming, Scala programming.\\nExperience with RDBMS (MySQL, PostgreSQL, etc.)\\nExperience with NoSQL database administration development like MongoDB.\\nExperience with Hadoop eco-system (MapReduce, Streaming, Pig, HIVE, Spark).\\nExperience using DevOps toolbox such as Jenkins, Chef, Puppet.\\nProven ability to create and manage big data pipeline using Kafka, Flume Spark\\nKnowledge of BI tools such as Tableau, Pentaho, etc.\\nExperience building large-scale distributed applications and services.\\nExperience with agile development methodologies. -\\nKnowledge of industry standards and trends.\\nGood communication, logical thinking, and presentation skills.\\nAdditional qualifications (preferred but not mandatory)\\nMaster s degree in Computer Science or equivalent with at least 5 years industry experience of data engineering/ETL/Administration.\\nExperience applying Deep learning.\\nSubstantial industry experience developing prototypes and demonstrating PoCs\\nRoleFull Stack Developer\\nIndustry TypeConsumer Electronics & Appliances\\nFunctional AreaEngineering - Software\\nEmployment TypeFull Time, Permanent\\nRole CategorySoftware Development\\nEducation\\nUG :Any Graduate\\nPG :Any Postgraduate\\nKey Skills\\nHiveScalaHadoopBig DataSparkAwsMachine LearningPython',\n",
       " 'Job description\\n1. Minimum 4 years of Data Scientist experience.\\n2. Working with large datasets (several Gigs), using Azure ML Studio and proprietary data science modeling platform\\n3. Designing and building scalable data analytics solutions at an enterprise level and high-performance analytical models using Python, ML libraries, Jupyter notebooks\\n4. Building algorithms, statistical models and analytical solutions creatively and efficiently\\n5. Design & architect powerful visualizations of data model performance and results.\\n6. Responsible for setting up the data analytics model design & scripting the algorithm using python\\n7. Solving data-intensive problems using industry standard data analytics frameworks and tools.\\n8. Use multivariate techniques & predictive modeling – cluster analysis, discriminant analysis, CHAID, logistic & multiple regression analysis\\n9. Large scale data extraction/mining, data cleansing, diagnostics, preparation for Modeling\\n10. Intensive use of significance testing, sampling, descriptive statistics & multivariate statistics\\nRoleData Scientist\\nIndustry TypeIT Services & Consulting\\nFunctional AreaData Science & Analytics\\nEmployment TypeFull Time, Permanent\\nRole CategoryData Science & Machine Learning\\nEducation\\nUG :Any Graduate\\nPG :Any Postgraduate\\nDoctorate :Doctorate Not Required\\nKey Skills\\nPredictive ModelingData ScienceRegression AnalysisChaidJupyterData AnalyticsClusteringStatisticsPythonCluster Analysis',\n",
       " 'Job description\\nDescription:\\nWe are looking for a data scientist that will help us discover the information hidden in vast amounts of data, and help us make smarter decisions to deliver even better products. Your primary focus will be in applying data mining techniques, doing statistical analysis, and building high quality prediction systems integrated with our products. {{Depending on your needs, you can write very specific requirements here, like: “automate scoring using machine learning techniques”, “build recommendation systems”, “improve and extend the features used by our existing classifier”, “develop internal A/B testing procedures”, “build system for automated fraud detection”, etc.}}\\nResponsibilities:\\n-Selecting featJob ures, building and optimizing classifiers using machine learning techniques\\n-Data mining using state-of-the-art methods.\\n-Extending company’s data with third party sources of information when needed.\\n-Enhancing data collection procedures to include information that is relevant for building analytic systems.\\n-Processing, cleansing, and verifying the integrity of data used for analysis.\\n-Doing ad-hoc analysis and presenting results in a clear manner.\\n-Creating automated anomaly detection systems and constant tracking of its performance\\n{{Select from the above and add other responsibilities that are relevant}}.\\nSkills and Qualifications:\\n-Excellent understanding of machine learning techniques and algorithms, such as k-NN, Naive Bayes, SVM, Decision Forests, etc.\\n-Experience with common data science toolkits, such as R, Weka, NumPy, MatLab, etc {{depending on specific project requirements}}. Excellence in at least one of these is highly desirable.\\n-Great communication skills.\\n-Experience with data visualisation tools, such as D3.js, GGplot, etc.\\n-Proficiency in using query languages such as SQL, Hive, Pig {{actual list depends on what you are currently using in your company}}\\n-Experience with NoSQL databases, such as MongoDB, Cassandra, HBase {{depending on project needs}}\\n-Good applied statistics skills, such as distributions, statistical testing, regression, etc.\\n-Good scripting and programming skills {{if you expect that the person in this role will integrate the solution within the base application, list any programming languages and core frameworks currently being used}}\\n-Data-oriented personality\\n{{Mention any other technology that such person is going to commonly work with within the organization}}\\n{{List education level or certification you require}}\\nRoleData Scientist\\nIndustry TypeIT Services & Consulting\\nFunctional AreaData Science & Analytics\\nEmployment TypeFull Time, Permanent\\nRole CategoryData Science & Machine Learning\\nEducation\\nUG :B.Tech/B.E. in Any Specialization\\nPG :Any Postgraduate\\nDoctorate :Doctorate Not Required\\nKey Skills\\nData analysisQuery languages such as SQLData miningData science toolkitsProcessingpigScriptingAd-hoc analysisNo SQL DBMachine learning techniquesHiveData integrityVerifying dataData visualizationData collectionCleansing',\n",
       " 'Job description\\nRoles and Responsibilities\\nYour responsibilities\\nLead and participate in end-to-end ML projects deployments that require feasibility analysis, design, development, validation, and application of state-of-the art data science solutions.\\nNeed to deliver solutions to production through the software development lifecycle\\nYou will have to push the state of the art in terms of the application of NLP and Voice AI solution on call center verbatim, chat bot/robo calling data, social media posts, marketing collaterals/assets to solve complex business problems including but NOT limited to understating consumer behaviour, marketing asset performance, lead classification, retail channel effectiveness and recommender systems.\\nLeverage and enhance applications utilizing Natural Language Processing and Deep Learning Neural networks for use cases including text mining, speech, voice to text AI.\\nProvide leadership to establish world-class ML lifecycle management processes.\\nWrite production ready code and deploy real time ML models; expose ML outputs through APIs\\nPartner with data/ML engineers and vendor partners for input data pipes development and ML models automation Your qualifications\\n\\nYour qualifications\\nFor Lead Data Scientist: Over 6 years of Applied Machine learning experience in the fields of machine learning such as Text Mining, Natural Language Processing (NLP), Deep learning and Optimization\\nHands-on experience with open source tools such as Kaldi, Pytorch-Kaldi.\\nExperience in using any of the existing platforms such as LUIS, DialogFlow, Rasa etc\\nSolid understanding of current deep learning (DL) techniques like convolutional neural networks (CNNs), recurrent neural networks (RNNs), long-term short-term memory (LSTM), connectionist temporal classification (CTC), etc used for speech processing is essential.\\nShould be well versed in classical speech processing methodologies like hidden Markov models (HMMs), Gaussian mixture models (GMMs), Artificial neural networks (ANNs), Language modelling, etc.\\nPost grad/ graduate in Math, Computer Science, Statistics or related field with a minimum of 4 years of relevant experience or Masters in Math, Computer Science, Statistics or related field\\nHands on experience in model building, validation, and productionizing.\\nExpert Python Programmer, strong hold on SQL, extremely proficient with the SciPy stack (e.g. numpy, pandas, sci-kit learn, matplotlib);\\nA demonstrated ability to mentor junior data scientists and proven experience in collaborative work environments with external customers\\nProficient in communicating technical findings to non-technical stakeholders\\nExperienced in ML lifecycle mgmt. and ML Ops tools & frameworks\\n\\n\\n\\nRoleComputer Vision\\nIndustry TypeElectronics Manufacturing\\nFunctional AreaData Science & Analytics\\nEmployment TypeFull Time, Permanent\\nRole CategoryData Science & Machine Learning\\nEducation\\nUG :Any Graduate\\nKey Skills\\nNLP',\n",
       " 'Job description\\nAs a data scientist, you need to be exceptionally driven, curious and creative. You will work with data scientists, engineers and product managers to create new ideas, formulate mathematical algorithms, design new machine learning models and develop prototype solutions to enhance capabilities of our products and satisfaction from our customers. You need to be an exceptional problem solver and have great communication skill.\\n\\nResponsibilities:\\n\\nWork on complex and extremely varied data sets\\nBuild algorithms based on telematics data and geographical information\\nBuild products\\nWork with the Data Engineering team to productionise and optimise the models\\nDesign, build, and deploy internal tools and processes to operationalise ML best practices within our productata tasks\\nSharpen our data science capacity by mentoring team members on building predictive models, experimental methodologies, and causal inference approaches\\nDevelop and foster collaborative relationships with product, business and engineering teams to effectively serve our customers needs.\\n\\nSpecifications:\\n\\nDegree or demonstrable experience in a quantitative field like statistics, physics, applied mathematics, operations research or engineering. Advanced degrees are preferred.\\nIndustry experience in data science, with statistics and machine learning responsibilities\\nExperience with a range of techniques from statistical modelling to deep learning, from linear models to neural networks\\nProficiency in Python and SQL\\nExperience developing and productionising models\\nExperience with ML frameworks such as TensorFlow, Keras, Spark, Theano etc\\nStrong background in Linear Algebra, Statistics and Mathematics\\nExperience working with public cloud, preferably AWS or Azure\\nExperience handling large datasets (>billions of rows)\\nExceptional communication skills and the ability to simplify complex engineering notions to non-technical audience\\nNatural problem solver with curiosity as a feature, not a bug\\nAbility to set expectations and confidently talk to AI hype versus reality\\nExperience working cross functionally with engineering and product teams in a collaborative environment\\n\\nBonus points:\\nExperience working with telematics data\\nExperience working on automotive use cases\\nKnowledge and understanding of geographical information systems and related data ecosystem\\nStream processing and real-time analytics\\n\\nRoleData Engineer\\nIndustry TypeSoftware Product\\nFunctional AreaEngineering - Software\\nEmployment TypeFull Time, Permanent\\nRole CategorySoftware Development\\nEducation\\nUG :B.Tech/B.E. in Any Specialization\\nKey Skills\\nData EngineeringMachine Learning\\nProblem SolvingCommunicationPython\\nSkills highlighted with ‘‘ are preferred keyskills',\n",
       " 'Job description\\nWhat You Will Do\\nWork with Data Scientists, Machine Learning Engineers, and Business Users to build, deploy, and scale Data Science solutions on match-making, supply, pricing problems in Gojek that touch the company s baseline\\nUse your experience in Data Science, Machine Learning, Software Engineering, distributed systems to develop these systems, and work with the platform team to take the systems to production\\nWork with Business teams to continuously refine and improve the systems to cater to ever-changing Gojek needs\\nDesign and develop world class Data Science solutions to enhance the current stack of Marketplace algorithms for supply, demand, pricing\\nWhat You Will Need\\nAt least 6 years of experience as a Data Scientist or Machine Learning Engineer, with experience in Python, Golang/Java, and Unix\\nA Bachelors Degree in Computer Science, Statistics, Operations Research, or a relevant quantitative field\\nSolid knowledge of Data Science and Machine Learning fundamentals, with proven experience formulating Data Science solutions to business problems\\nProven ability to recognize business needs and to communicate with multiple stakeholders within the Product Management, Business and Operations teams\\nExperience in taking Data Science models to production\\nPrior academic or industry work experience with forecasting methods like auto-regressive models, Markov models, and Kernel-based methods\\nPrior experience with simulations for modeling the stochastic nature of marketplace supply and demand, and knowledge of the transportation and mobility space\\nRoleTechnical Lead\\nIndustry TypeIT Services & Consulting\\nFunctional AreaEngineering - Software\\nEmployment TypeFull Time, Permanent\\nRole CategorySoftware Development\\nEducation\\nUG :Any Graduate\\nPG :Any Postgraduate\\nKey Skills\\nData ScienceJavaProduct ManagementAlgorithmsCustomer ExperienceSoftware EngineeringData ScientistComputer ScienceMachine LearningPython',\n",
       " 'Job description\\nRoles and Responsibilities\\nPhD in Statistics, Math or Computer Science is preferred. Must have at least a Master degree with 10+ years of experience.\\nExcellent statistical analysis skills to identify patterns in data. This includes having a keen sense of pattern detection and anomaly detection.\\nExcellent understanding of machine learning techniques and algorithms, such as k-NN, Naive Bayes, SVM, Decision Forests, etc.\\nMust be able to implement algorithms and statistical concepts to build predictive models.\\nIn-depth experience with common data science tools such as TensorFlow, PyTorch or equivalent.\\nProficient in programming with python, SQL and No-SQL databases; and data science libraries such as nltk, numpy, scipy and many others\\nGreat communication skills both written and verbal. Must be able to effectively communicate with global English speaking teams.\\nExpertise in collaborating with multi-disciplinary teams of business analysts, data scientists, subject matter experts, and developers\\nDesired Candidate Profile\\n\\n\\nPerks and Benefits\\n\\n\\nRoleTechnical Architect\\nIndustry TypeIT Services & Consulting\\nFunctional AreaEngineering - Software\\nEmployment TypeFull Time, Permanent\\nRole CategorySoftware Development\\nEducation\\nUG :B.Sc in Any Specialization, B.Tech/B.E. in Computers\\nPG :M.Tech in Computers, MS/M.Sc(Science) in Computers\\nDoctorate :Ph.D/Doctorate in Computers, Maths\\nKey Skills\\nTensorflowScipyALGORITHMSVMMachine LearningNumpySQLPytorchNltkAnomaly DetectionData Sciencek-nndecision forestsstatistical conceptsPython',\n",
       " \"Job description\\nSenior Data Scientist, NLP\\nAre you excited about working at the forefront of applied research in an industry setting? Thomson Reuters Labs in Bangalore is seeking experienced data scientists with a passion for solving problems using state-of-the-art Machine Learning and Natural Language Processing.\\nWhat does Thomson Reuters Labs do? We experiment, we build, we deliver. We support the organization and our customers through applied research and the development of new products and technologies. TR Labs innovates collaboratively across our core segments in Legal, Tax & Accounting, Government, and Reuters News.  We undertake a diverse portfolio of projects today while investing in long-term research for the future.\\nAs a data scientist in Labs, you will be part of a global interdisciplinary team of experts. We hire specialists across a variety of AI research areas, as well as Engineering and Design, to drive the company's digital transformation. TR Labs is known for consistently delivering Artificial Intelligence projects that advance the state of the art in support of high growth products and serve Thomson Reuters customers in new and exciting ways.\\n\\nAbout the role\\nIn this opportunity as a Senior Data Scientist, you will:\\nExperiment and Develop: You will drive the entire model development lifecycle, building, testing, and delivering high-quality solutions. You will apply best practices for conducting reproducible research and well-managed software delivery.\\nCollaborate: Working on a collaborative cross-functional team, you will share information, value diverse ideas, and partner effectively with colleagues across the globe. You will elevate and mentor teammates.\\nDeliver: With a strong sense of urgency and the desire to work in a fast-paced, dynamic environment, you will translate complex business problems into projects with a clearly defined scope. Our problems are complex; our solutions are right-sized. You will be accountable for timely, well-managed deliverables.\\nInnovate:  You will be empowered to try new approaches and learn new technologies. You will implement innovative ideas to solve real-world challenges.\\nInspire: You will be a proactive communicator who is excited to share your work. You will be articulate and compelling in describing ideas to both technical and non-technical audiences. You will help lead the way in the adoption of AI across the enterprise.\\n\\nAbout you\\nBasic qualifications\\nPh.D. in a relevant discipline or Masters plus a comparable level of experience\\nAt least five years experience building ML/NLP systems\\nSolid software engineering skills for prototyping\\nExperience as a technical leader, coordinating and guiding the work of others\\nPreferred qualifications\\n8+ years of academic or industry experience building ML or NLP systems with the demonstrated ability to translate cutting edge research into working applications\\nDemonstrated ability to translate customer needs into well-structured research/project plans\\nProficiency in Python, Java, or Scala and experience delivering minimum viable products in a large enterprise environment\\nOutstanding communication, organization, and data-driven decision making\\nPublications at workshops or conferences such as ACL, EMNLP, KDD, ICML, NeurIPS, or similar\\n\\nWhat's in it for you\\nAt Thomson Reuters, our people are our greatest assets. In addition to rewarding and challenging work with exceptional colleagues, we offer the following benefits for your personal and professional growth:\\nLearning & Development: On-the-job coaching & learning, tuition reimbursement, exposure to leading-edge technology\\nOur Scientists and Engineers get to play with big data sets to discover new products, capabilities, and insights for our customers. Thomson Reuters is most well-known for the globally respected Reuters News agency, but our company is also the leading source of information for legal, corporate, and tax professionals. We have over 60,000 TBs worth of legal, regulatory, news, and tax data. \\nBenefits: Flexible work arrangements, comprehensive health coverage effective day one, savings and investment plans\\nPerks: Social events & activities, employee discount programs\\nSocial Impact: Paid time off for volunteering virtually or in your community\\nRoleData Scientist\\nIndustry TypeSoftware Product\\nFunctional AreaData Science & Analytics\\nEmployment TypeFull Time, Permanent\\nRole CategoryData Science & Machine Learning\\nEducation\\nPG :M.Tech in Any Specialization\\nDoctorate :Ph.D/Doctorate in Any Specialization\\nKey Skills\\nJavaNLPAccountingscalaArtificial IntelligenceNatural Language ProcessingBig Datamodel development lifecyclePrototypingMachine LearningPythonModel Development\",\n",
       " 'Job description\\n  Understand business problems and develop end-to-end data science use cases\\nCollaborate across the function to understand data and to find ways to visualize and communicate your work to both technical and non-technical audiences.\\nEvolve best data operational practices and maintain all compliance requirements\\nMonitor data science models in production\\nActively network on a regular basis with SME to better understand the business/technical mechanics that generated the data\\nPromote collaboration and knowledge exchange with other data science teams within and outside the organization\\nDevelop processes and tools to monitor and analyze model performance and data accuracy\\nOne or more scientific programming languages such as R, Python, or Julia,\\nOne or more database query languages such as SQL, or HiveQL,\\nOne or more general-purpose scripting languages such as Bash, PowerShell, or Perlrovide the total years of experience and the relevant experience required in the relevant field for this position\\nSkills\\nTechnical / Functional Skills\\nBehavioural Skills\\nSoft Skills\\nLeadership Skills\\nRoleClinical research Scientist\\nIndustry TypeMedical Services / Hospital\\nFunctional AreaResearch & Development\\nEmployment TypeFull Time, Permanent\\nRole CategoryPharmaceutical & Biotechnology\\nEducation\\nUG :Any Graduate\\nPG :Any Postgraduate\\nKey Skills\\nCloud computingData analysisdata scienceAnalyticalHealthcareProduction ManagerOperationsAnalyticsSQLPython',\n",
       " '-',\n",
       " '-',\n",
       " 'Job description\\nThis is your role. What part will you play\\nYou will be responsible for design and development of AI/ML solutions based on customer requirements within the constraints of architectural / design guidelines\\nInvolved in customer discussions for requirement engineering and developing solution architecture\\nYou will mine and analyze data from multiple data sources to drive optimization, reduce cost and improve other business outcomes.\\nRegular technical coordination / review with customers and ensuring timely reporting and issues if any\\nWe don’t need hard workers, just super minds\\nYou must have BE / B.Tech / MCA / ME / M.Tech qualification with confirmed ability building with 8-11 years of experience in design and development.\\nProficiency with analytics, mathematics, and statistical analysis with significant hands-on experience in AI / Data Science.\\nMust have very strong confirmed knowledge of data science AI technologies and associated frameworks.\\nHands-on working experience in   Time Series Data ,   Machine Learning, Deep learning .\\nShould be involved in any combination of Probabilistic Data analysis or Classification Algorithm/Predictions/ Fault Prediction/Statistical Modeling /Time Series Modeling/Linear Regression Modeling/ Anomaly Detection\\nClass of any domain specific data!, Good understanding in frameworks like shiny, Dplyr, Ggplot2, Esquisse, NumPy, SciPy, Pandas etc.\\nKnowledge in: Linear and logistic regression, K-means, K-medoids, Naive Bayes, Decision tree, Random forest, Clustering, Bayesian model, PCA, LDA, t-SNE, LSTM, CNN, Predictive modelling, Time Series Analysis and Forecasting, Natural Language Processing (NLP) and Tabular Data set\\nMust have good understanding of different Cloud Systems, knowledge of AWS Cloud and AWS services is must to have.\\nExperience in data visualization tools like Tableau, Power BI, working with and creating data architectures.\\nKnowledge of a variety of machine learning techniques (clustering, decision tree learning, artificial neural networks, etc.) and their real-world advantages/drawbacks.\\nGood knowledge of querying SQL No SQL databases.\\nKnowledge and experience in statistical and analytics techniques: GLM/Regression, Random Forest, Boosting, Trees, SVM, text mining, social network analysis, etc.\\nExperience with distributed data/computing tools: Map/Reduce, Hadoop, Hive, Spark, MySQL, etc.\\nConfirmed experience as a Data Scientist or Data Analyst Experience, Understanding of machine-learning and operations research.\\nVisualizing/presenting the data analysis to partners in MS power point using following libraries ggplot, matplotlib, Seaborn.\\nExperience in developing deploying the end-to-end data science pipeline into production.\\nRoleDatabase Architect / Designer\\nIndustry TypeElectronic Components / Semiconductors\\nFunctional AreaEngineering - Software\\nEmployment TypeFull Time, Permanent\\nRole CategoryDBA / Data warehousing\\nEducation\\nUG :B.Tech/B.E. in Production/Industrial\\nPG :M.Tech in Electronics/Telecommunication, MCA in Computers\\nKey Skills\\nSolution architectureData analysisDTSMySQLConsultingMachine learningArchitectural designForecastingAnalyticsSQL']"
      ]
     },
     "execution_count": 30,
     "metadata": {},
     "output_type": "execute_result"
    }
   ],
   "source": [
    "Full_job_desc"
   ]
  },
  {
   "cell_type": "code",
   "execution_count": 31,
   "metadata": {},
   "outputs": [
    {
     "name": "stdout",
     "output_type": "stream",
     "text": [
      "20 20 20 20\n"
     ]
    }
   ],
   "source": [
    "print(len(job_titles),len(company_names), len(Full_job_desc), len(job_locations))"
   ]
  },
  {
   "cell_type": "code",
   "execution_count": 34,
   "metadata": {},
   "outputs": [
    {
     "data": {
      "text/html": [
       "<div>\n",
       "<style scoped>\n",
       "    .dataframe tbody tr th:only-of-type {\n",
       "        vertical-align: middle;\n",
       "    }\n",
       "\n",
       "    .dataframe tbody tr th {\n",
       "        vertical-align: top;\n",
       "    }\n",
       "\n",
       "    .dataframe thead th {\n",
       "        text-align: right;\n",
       "    }\n",
       "</style>\n",
       "<table border=\"1\" class=\"dataframe\">\n",
       "  <thead>\n",
       "    <tr style=\"text-align: right;\">\n",
       "      <th></th>\n",
       "      <th>Job_title</th>\n",
       "      <th>Job_Location</th>\n",
       "      <th>Company_name</th>\n",
       "      <th>Job_description</th>\n",
       "    </tr>\n",
       "  </thead>\n",
       "  <tbody>\n",
       "    <tr>\n",
       "      <th>0</th>\n",
       "      <td>Lead Data Scientist</td>\n",
       "      <td>Bangalore/Bengaluru</td>\n",
       "      <td>Huawei Technologies</td>\n",
       "      <td>Job description\\nWe are looking for a Lead dat...</td>\n",
       "    </tr>\n",
       "    <tr>\n",
       "      <th>1</th>\n",
       "      <td>Senior Data Scientist</td>\n",
       "      <td>Noida, Bangalore/Bengaluru</td>\n",
       "      <td>InnovAccer</td>\n",
       "      <td>Job description\\n  A day in the life at Innova...</td>\n",
       "    </tr>\n",
       "    <tr>\n",
       "      <th>2</th>\n",
       "      <td>Data Scientist/Senior Data Scientist - IT Serv...</td>\n",
       "      <td>Hyderabad/Secunderabad, Pune, Gurgaon/Gurugram...</td>\n",
       "      <td>Pylon Management Consulting Pvt Ltd</td>\n",
       "      <td>Job description\\nResponsibilities :\\n\\n- Analy...</td>\n",
       "    </tr>\n",
       "    <tr>\n",
       "      <th>3</th>\n",
       "      <td>Data Scientist</td>\n",
       "      <td>Bangalore/Bengaluru</td>\n",
       "      <td>Staffio HR</td>\n",
       "      <td>Job description\\n  Prior experience of working...</td>\n",
       "    </tr>\n",
       "    <tr>\n",
       "      <th>4</th>\n",
       "      <td>Data Scientist</td>\n",
       "      <td>Bangalore/Bengaluru</td>\n",
       "      <td>Flipkart Internet Private Limited</td>\n",
       "      <td>Job description\\nAbout the role\\nA Data Scient...</td>\n",
       "    </tr>\n",
       "    <tr>\n",
       "      <th>5</th>\n",
       "      <td>Data Scientist - AI Flagship</td>\n",
       "      <td>Bangalore/Bengaluru</td>\n",
       "      <td>Schneider Electric India Pvt. Ltd.</td>\n",
       "      <td>Job description\\nIdentify and understand busin...</td>\n",
       "    </tr>\n",
       "    <tr>\n",
       "      <th>6</th>\n",
       "      <td>Data Scientist</td>\n",
       "      <td>Bangalore/Bengaluru</td>\n",
       "      <td>GlaxoSmithKline Pharmaceuticals Limited</td>\n",
       "      <td>Job description\\nWorking with multidisciplinar...</td>\n",
       "    </tr>\n",
       "    <tr>\n",
       "      <th>7</th>\n",
       "      <td>Senior/Lead Data Scientist</td>\n",
       "      <td>Bangalore/Bengaluru</td>\n",
       "      <td>Scienaptic Systems</td>\n",
       "      <td>Job description\\nWe are looking for an energet...</td>\n",
       "    </tr>\n",
       "    <tr>\n",
       "      <th>8</th>\n",
       "      <td>Data Scientist / AI / ML Engineer</td>\n",
       "      <td>Bangalore/Bengaluru</td>\n",
       "      <td>Hitachi Ltd.</td>\n",
       "      <td>Job description\\nDuties and Responsibilities\\n...</td>\n",
       "    </tr>\n",
       "    <tr>\n",
       "      <th>9</th>\n",
       "      <td>Data Scientist</td>\n",
       "      <td>Bangalore/Bengaluru</td>\n",
       "      <td>Executive Selection India</td>\n",
       "      <td>Job description\\n1. Minimum 4 years of Data Sc...</td>\n",
       "    </tr>\n",
       "  </tbody>\n",
       "</table>\n",
       "</div>"
      ],
      "text/plain": [
       "                                           Job_title  \\\n",
       "0                                Lead Data Scientist   \n",
       "1                              Senior Data Scientist   \n",
       "2  Data Scientist/Senior Data Scientist - IT Serv...   \n",
       "3                                     Data Scientist   \n",
       "4                                     Data Scientist   \n",
       "5                       Data Scientist - AI Flagship   \n",
       "6                                     Data Scientist   \n",
       "7                         Senior/Lead Data Scientist   \n",
       "8                  Data Scientist / AI / ML Engineer   \n",
       "9                                     Data Scientist   \n",
       "\n",
       "                                        Job_Location  \\\n",
       "0                                Bangalore/Bengaluru   \n",
       "1                         Noida, Bangalore/Bengaluru   \n",
       "2  Hyderabad/Secunderabad, Pune, Gurgaon/Gurugram...   \n",
       "3                                Bangalore/Bengaluru   \n",
       "4                                Bangalore/Bengaluru   \n",
       "5                                Bangalore/Bengaluru   \n",
       "6                                Bangalore/Bengaluru   \n",
       "7                                Bangalore/Bengaluru   \n",
       "8                                Bangalore/Bengaluru   \n",
       "9                                Bangalore/Bengaluru   \n",
       "\n",
       "                              Company_name  \\\n",
       "0                      Huawei Technologies   \n",
       "1                               InnovAccer   \n",
       "2      Pylon Management Consulting Pvt Ltd   \n",
       "3                               Staffio HR   \n",
       "4        Flipkart Internet Private Limited   \n",
       "5       Schneider Electric India Pvt. Ltd.   \n",
       "6  GlaxoSmithKline Pharmaceuticals Limited   \n",
       "7                       Scienaptic Systems   \n",
       "8                             Hitachi Ltd.   \n",
       "9                Executive Selection India   \n",
       "\n",
       "                                     Job_description  \n",
       "0  Job description\\nWe are looking for a Lead dat...  \n",
       "1  Job description\\n  A day in the life at Innova...  \n",
       "2  Job description\\nResponsibilities :\\n\\n- Analy...  \n",
       "3  Job description\\n  Prior experience of working...  \n",
       "4  Job description\\nAbout the role\\nA Data Scient...  \n",
       "5  Job description\\nIdentify and understand busin...  \n",
       "6  Job description\\nWorking with multidisciplinar...  \n",
       "7  Job description\\nWe are looking for an energet...  \n",
       "8  Job description\\nDuties and Responsibilities\\n...  \n",
       "9  Job description\\n1. Minimum 4 years of Data Sc...  "
      ]
     },
     "execution_count": 34,
     "metadata": {},
     "output_type": "execute_result"
    }
   ],
   "source": [
    "# import pandas as pd\n",
    "jobs=pd.DataFrame({})\n",
    "jobs['Job_title']=job_titles[0:10]\n",
    "jobs['Job_Location']=job_locations[0:10]\n",
    "jobs['Company_name']=company_names[0:10]\n",
    "jobs['Job_description']=Full_job_desc[0:10]\n",
    "jobs"
   ]
  },
  {
   "cell_type": "code",
   "execution_count": null,
   "metadata": {},
   "outputs": [],
   "source": []
  }
 ],
 "metadata": {
  "kernelspec": {
   "display_name": "Python 3",
   "language": "python",
   "name": "python3"
  },
  "language_info": {
   "codemirror_mode": {
    "name": "ipython",
    "version": 3
   },
   "file_extension": ".py",
   "mimetype": "text/x-python",
   "name": "python",
   "nbconvert_exporter": "python",
   "pygments_lexer": "ipython3",
   "version": "3.8.5"
  }
 },
 "nbformat": 4,
 "nbformat_minor": 4
}
