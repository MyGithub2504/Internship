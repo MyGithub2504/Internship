{
 "cells": [
  {
   "cell_type": "code",
   "execution_count": 1,
   "metadata": {},
   "outputs": [],
   "source": [
    "# lets now import all the required libraries\n",
    "import selenium\n",
    "import pandas as pd\n",
    "from selenium import webdriver\n",
    "import time"
   ]
  },
  {
   "cell_type": "code",
   "execution_count": 2,
   "metadata": {},
   "outputs": [],
   "source": [
    "#Lets first connect to the web driver\n",
    "driver = webdriver.Chrome(r\"C:\\Users\\user\\Downloads\\chromedriver_win32\\chromedriver.exe\")"
   ]
  },
  {
   "cell_type": "code",
   "execution_count": 3,
   "metadata": {},
   "outputs": [],
   "source": [
    "driver.get(\"https://www.naukri.com/\")"
   ]
  },
  {
   "cell_type": "code",
   "execution_count": 4,
   "metadata": {},
   "outputs": [],
   "source": [
    "search_job=driver.find_element_by_xpath(\"//input[@id='qsb-keyword-sugg']\")\n",
    "search_job.send_keys(\"Data Scientist\")\n",
    "search_btn=driver.find_element_by_xpath(\"//div[@class='search-btn']/button\")\n",
    "search_btn.click()"
   ]
  },
  {
   "cell_type": "code",
   "execution_count": 5,
   "metadata": {},
   "outputs": [],
   "source": [
    "search_btn=driver.find_element_by_xpath(\"/html[1]/body[1]/div[1]/div[3]/div[2]/section[1]/div[2]/div[3]/div[2]/div[3]/label[1]/i[1]\")\n",
    "search_btn.click()"
   ]
  },
  {
   "cell_type": "code",
   "execution_count": 6,
   "metadata": {},
   "outputs": [],
   "source": [
    "search_btn1=driver.find_element_by_xpath(\"/html[1]/body[1]/div[1]/div[3]/div[2]/section[1]/div[2]/div[4]/div[2]/div[2]/label[1]/i[1]\")\n",
    "search_btn1.click()"
   ]
  },
  {
   "cell_type": "code",
   "execution_count": 7,
   "metadata": {},
   "outputs": [],
   "source": [
    "job_titles=[]\n",
    "job_locations=[]\n",
    "company_names=[]\n",
    "experience_required=[]"
   ]
  },
  {
   "cell_type": "code",
   "execution_count": 10,
   "metadata": {},
   "outputs": [
    {
     "data": {
      "text/plain": [
       "[<selenium.webdriver.remote.webelement.WebElement (session=\"b4afb63d7b5764efda0ef91353fde7f6\", element=\"23d06560-630d-4cf7-87ae-d4463b9a058d\")>,\n",
       " <selenium.webdriver.remote.webelement.WebElement (session=\"b4afb63d7b5764efda0ef91353fde7f6\", element=\"0db4fd56-9e37-493c-b0f7-bda199a36d1d\")>,\n",
       " <selenium.webdriver.remote.webelement.WebElement (session=\"b4afb63d7b5764efda0ef91353fde7f6\", element=\"43562783-51b4-4acf-8737-359490de855a\")>,\n",
       " <selenium.webdriver.remote.webelement.WebElement (session=\"b4afb63d7b5764efda0ef91353fde7f6\", element=\"d9849a5d-47b1-4f67-9c6a-652cdba35421\")>,\n",
       " <selenium.webdriver.remote.webelement.WebElement (session=\"b4afb63d7b5764efda0ef91353fde7f6\", element=\"85973012-d80d-49d0-8d5e-92b4f9d868fc\")>,\n",
       " <selenium.webdriver.remote.webelement.WebElement (session=\"b4afb63d7b5764efda0ef91353fde7f6\", element=\"328ff04c-3ea1-49d9-b248-dcf3aeba877b\")>,\n",
       " <selenium.webdriver.remote.webelement.WebElement (session=\"b4afb63d7b5764efda0ef91353fde7f6\", element=\"cd9ef59f-d1c4-4211-af72-05a03eda9286\")>,\n",
       " <selenium.webdriver.remote.webelement.WebElement (session=\"b4afb63d7b5764efda0ef91353fde7f6\", element=\"d6560294-104f-44cc-9e40-9ba2c3e5c88a\")>,\n",
       " <selenium.webdriver.remote.webelement.WebElement (session=\"b4afb63d7b5764efda0ef91353fde7f6\", element=\"44e6e7b5-e95c-4f64-8c0b-480fef1de82a\")>,\n",
       " <selenium.webdriver.remote.webelement.WebElement (session=\"b4afb63d7b5764efda0ef91353fde7f6\", element=\"233e5b84-72f1-4bff-b638-3744024368ef\")>]"
      ]
     },
     "execution_count": 10,
     "metadata": {},
     "output_type": "execute_result"
    }
   ],
   "source": [
    "titles_tags=driver.find_elements_by_xpath(\"//a[@class='title fw500 ellipsis']\")\n",
    "titles_tags[0:10]"
   ]
  },
  {
   "cell_type": "code",
   "execution_count": 11,
   "metadata": {},
   "outputs": [
    {
     "data": {
      "text/plain": [
       "['Data Scientist',\n",
       " 'Job Opportunity || Data Scientist || HCL Technologies',\n",
       " 'Data Scientist',\n",
       " 'Data Scientist',\n",
       " 'Data Scientist I/II/III',\n",
       " 'Academic Counsellor - Data Scientist',\n",
       " 'Associate Data Scientist',\n",
       " 'Data Scientist',\n",
       " 'Data Scientist',\n",
       " 'Data Scientist']"
      ]
     },
     "execution_count": 11,
     "metadata": {},
     "output_type": "execute_result"
    }
   ],
   "source": [
    "for i in titles_tags:\n",
    "    title=i.text\n",
    "    job_titles.append(title)\n",
    "job_titles[0:10]"
   ]
  },
  {
   "cell_type": "code",
   "execution_count": 12,
   "metadata": {},
   "outputs": [
    {
     "data": {
      "text/plain": [
       "[<selenium.webdriver.remote.webelement.WebElement (session=\"b4afb63d7b5764efda0ef91353fde7f6\", element=\"0c684e9d-4e0b-4987-9ece-bdb065613f60\")>,\n",
       " <selenium.webdriver.remote.webelement.WebElement (session=\"b4afb63d7b5764efda0ef91353fde7f6\", element=\"c8b5ef02-2f8e-4c03-a92e-b4dd26b2bfd9\")>,\n",
       " <selenium.webdriver.remote.webelement.WebElement (session=\"b4afb63d7b5764efda0ef91353fde7f6\", element=\"4e412704-4178-4e5c-a228-233bc11670c7\")>,\n",
       " <selenium.webdriver.remote.webelement.WebElement (session=\"b4afb63d7b5764efda0ef91353fde7f6\", element=\"d48c7fc0-f166-4a03-a6a9-7ca23fdf0d14\")>,\n",
       " <selenium.webdriver.remote.webelement.WebElement (session=\"b4afb63d7b5764efda0ef91353fde7f6\", element=\"29704a23-8e24-49df-9e73-3c958cfbf61c\")>,\n",
       " <selenium.webdriver.remote.webelement.WebElement (session=\"b4afb63d7b5764efda0ef91353fde7f6\", element=\"15189164-a42d-4ada-b089-1308d47ee02d\")>,\n",
       " <selenium.webdriver.remote.webelement.WebElement (session=\"b4afb63d7b5764efda0ef91353fde7f6\", element=\"cda94027-e95c-4b21-90b5-eecd1b647217\")>,\n",
       " <selenium.webdriver.remote.webelement.WebElement (session=\"b4afb63d7b5764efda0ef91353fde7f6\", element=\"4d48097a-aab3-4cf0-995d-4bdddfd1af5b\")>,\n",
       " <selenium.webdriver.remote.webelement.WebElement (session=\"b4afb63d7b5764efda0ef91353fde7f6\", element=\"a2efb9d8-05c6-4825-b378-774cb98a5e4c\")>,\n",
       " <selenium.webdriver.remote.webelement.WebElement (session=\"b4afb63d7b5764efda0ef91353fde7f6\", element=\"b9fabc5e-9fda-4f15-bfbf-dc357efb0048\")>]"
      ]
     },
     "execution_count": 12,
     "metadata": {},
     "output_type": "execute_result"
    }
   ],
   "source": [
    "locations_tags=driver.find_elements_by_xpath(\"//li[@class='fleft grey-text br2 placeHolderLi location']/span[1]\")\n",
    "locations_tags[0:10]"
   ]
  },
  {
   "cell_type": "code",
   "execution_count": 13,
   "metadata": {},
   "outputs": [
    {
     "data": {
      "text/plain": [
       "['Gurgaon/Gurugram, Bangalore/Bengaluru',\n",
       " 'Delhi / NCR',\n",
       " 'Noida',\n",
       " 'Gurgaon/Gurugram, Bangalore/Bengaluru',\n",
       " 'Gurgaon/Gurugram',\n",
       " 'Gurgaon/Gurugram, Bangalore/Bengaluru',\n",
       " 'Noida',\n",
       " 'Noida, Gurgaon/Gurugram',\n",
       " 'Gurgaon/Gurugram',\n",
       " 'Mumbai, Delhi / NCR']"
      ]
     },
     "execution_count": 13,
     "metadata": {},
     "output_type": "execute_result"
    }
   ],
   "source": [
    "for i in locations_tags:\n",
    "    location=i.text\n",
    "    job_locations.append(location)\n",
    "job_locations[0:10]"
   ]
  },
  {
   "cell_type": "code",
   "execution_count": 14,
   "metadata": {},
   "outputs": [
    {
     "data": {
      "text/plain": [
       "[<selenium.webdriver.remote.webelement.WebElement (session=\"b4afb63d7b5764efda0ef91353fde7f6\", element=\"565eaefe-4141-4a25-9411-529149765669\")>,\n",
       " <selenium.webdriver.remote.webelement.WebElement (session=\"b4afb63d7b5764efda0ef91353fde7f6\", element=\"efea1876-ed3d-4c8d-adea-ee6d75155b49\")>,\n",
       " <selenium.webdriver.remote.webelement.WebElement (session=\"b4afb63d7b5764efda0ef91353fde7f6\", element=\"1085d512-036a-4977-89ae-d03af9fd32d5\")>,\n",
       " <selenium.webdriver.remote.webelement.WebElement (session=\"b4afb63d7b5764efda0ef91353fde7f6\", element=\"a840fb9a-bdb6-4790-acbe-f428c4411d94\")>,\n",
       " <selenium.webdriver.remote.webelement.WebElement (session=\"b4afb63d7b5764efda0ef91353fde7f6\", element=\"a5d49857-6089-4892-ae69-1bff6d930884\")>,\n",
       " <selenium.webdriver.remote.webelement.WebElement (session=\"b4afb63d7b5764efda0ef91353fde7f6\", element=\"b6d133bf-97de-473d-9901-1e0cf99e5a8c\")>,\n",
       " <selenium.webdriver.remote.webelement.WebElement (session=\"b4afb63d7b5764efda0ef91353fde7f6\", element=\"aea5dcdf-0bb2-40ea-a210-2fe3c44d1122\")>,\n",
       " <selenium.webdriver.remote.webelement.WebElement (session=\"b4afb63d7b5764efda0ef91353fde7f6\", element=\"1c12daf1-115c-4fc9-82fa-3e083d7d9ff9\")>,\n",
       " <selenium.webdriver.remote.webelement.WebElement (session=\"b4afb63d7b5764efda0ef91353fde7f6\", element=\"fa9bb024-de3d-4675-b0b8-2c9a2df1324b\")>,\n",
       " <selenium.webdriver.remote.webelement.WebElement (session=\"b4afb63d7b5764efda0ef91353fde7f6\", element=\"3b07f54b-b76c-415f-b4f1-a231c6ec0890\")>]"
      ]
     },
     "execution_count": 14,
     "metadata": {},
     "output_type": "execute_result"
    }
   ],
   "source": [
    "companies_tags=driver.find_elements_by_xpath(\"//a[@class='subTitle ellipsis fleft']\")\n",
    "companies_tags[0:10]"
   ]
  },
  {
   "cell_type": "code",
   "execution_count": 15,
   "metadata": {},
   "outputs": [
    {
     "data": {
      "text/plain": [
       "['EXL Services.com ( I ) Pvt. Ltd.',\n",
       " 'HCL Technologies',\n",
       " 'Newgen Software Technologies Ltd.',\n",
       " 'Hexagon Geosystems Services India P.Ltd.',\n",
       " 'OLX India Pvt Ltd',\n",
       " 'GreatLearning',\n",
       " 'Optum Global Solutions (India) Private Limited',\n",
       " 'Optum Global Solutions (India) Private Limited',\n",
       " 'Milliman India Pvt Ltd',\n",
       " 'lericon infomatics pvt.ltd']"
      ]
     },
     "execution_count": 15,
     "metadata": {},
     "output_type": "execute_result"
    }
   ],
   "source": [
    "for i in companies_tags:\n",
    "    title=i.text\n",
    "    company_names.append(title)\n",
    "company_names[0:10]"
   ]
  },
  {
   "cell_type": "code",
   "execution_count": 16,
   "metadata": {},
   "outputs": [
    {
     "data": {
      "text/plain": [
       "[<selenium.webdriver.remote.webelement.WebElement (session=\"b4afb63d7b5764efda0ef91353fde7f6\", element=\"9e48014e-e74e-43ba-88c7-c64bf1e359d0\")>,\n",
       " <selenium.webdriver.remote.webelement.WebElement (session=\"b4afb63d7b5764efda0ef91353fde7f6\", element=\"918e9747-e7d1-4bea-89bb-0cdbf24db965\")>,\n",
       " <selenium.webdriver.remote.webelement.WebElement (session=\"b4afb63d7b5764efda0ef91353fde7f6\", element=\"769fb543-9d7a-4f3a-b469-c2f676325d9e\")>,\n",
       " <selenium.webdriver.remote.webelement.WebElement (session=\"b4afb63d7b5764efda0ef91353fde7f6\", element=\"b8765383-6832-4d8f-a928-55d8f2a3da45\")>,\n",
       " <selenium.webdriver.remote.webelement.WebElement (session=\"b4afb63d7b5764efda0ef91353fde7f6\", element=\"bbee7635-c880-45ab-9167-1807509d89a3\")>,\n",
       " <selenium.webdriver.remote.webelement.WebElement (session=\"b4afb63d7b5764efda0ef91353fde7f6\", element=\"819903da-7269-4a7a-a22e-82650bfcc397\")>,\n",
       " <selenium.webdriver.remote.webelement.WebElement (session=\"b4afb63d7b5764efda0ef91353fde7f6\", element=\"a6e38350-3299-4c3b-abcb-ae95b9958f4a\")>,\n",
       " <selenium.webdriver.remote.webelement.WebElement (session=\"b4afb63d7b5764efda0ef91353fde7f6\", element=\"7afe7034-c460-4e9c-bfe0-e01042ba18f0\")>,\n",
       " <selenium.webdriver.remote.webelement.WebElement (session=\"b4afb63d7b5764efda0ef91353fde7f6\", element=\"ab532394-db3f-4df6-9aa6-28ecfde2b9c8\")>,\n",
       " <selenium.webdriver.remote.webelement.WebElement (session=\"b4afb63d7b5764efda0ef91353fde7f6\", element=\"623b07d6-044f-4e75-ad73-197534b9556d\")>]"
      ]
     },
     "execution_count": 16,
     "metadata": {},
     "output_type": "execute_result"
    }
   ],
   "source": [
    "Experience_tags=driver.find_elements_by_xpath(\"//li[@class='fleft grey-text br2 placeHolderLi experience']/span[1]\")\n",
    "Experience_tags[0:10]"
   ]
  },
  {
   "cell_type": "code",
   "execution_count": 17,
   "metadata": {},
   "outputs": [
    {
     "data": {
      "text/plain": [
       "['3-5 Yrs',\n",
       " '4-7 Yrs',\n",
       " '2-5 Yrs',\n",
       " '6-11 Yrs',\n",
       " '3-6 Yrs',\n",
       " '1-4 Yrs',\n",
       " '2-7 Yrs',\n",
       " '2-6 Yrs',\n",
       " '2-5 Yrs',\n",
       " '3-5 Yrs']"
      ]
     },
     "execution_count": 17,
     "metadata": {},
     "output_type": "execute_result"
    }
   ],
   "source": [
    "for i in Experience_tags:\n",
    "    experience=i.text\n",
    "    experience_required.append(experience)\n",
    "experience_required[0:10]"
   ]
  },
  {
   "cell_type": "code",
   "execution_count": 18,
   "metadata": {},
   "outputs": [
    {
     "name": "stdout",
     "output_type": "stream",
     "text": [
      "20 20 20 20\n"
     ]
    }
   ],
   "source": [
    "print(len(job_titles),len(company_names), len(experience_required), len(job_locations))"
   ]
  },
  {
   "cell_type": "code",
   "execution_count": 19,
   "metadata": {},
   "outputs": [
    {
     "data": {
      "text/html": [
       "<div>\n",
       "<style scoped>\n",
       "    .dataframe tbody tr th:only-of-type {\n",
       "        vertical-align: middle;\n",
       "    }\n",
       "\n",
       "    .dataframe tbody tr th {\n",
       "        vertical-align: top;\n",
       "    }\n",
       "\n",
       "    .dataframe thead th {\n",
       "        text-align: right;\n",
       "    }\n",
       "</style>\n",
       "<table border=\"1\" class=\"dataframe\">\n",
       "  <thead>\n",
       "    <tr style=\"text-align: right;\">\n",
       "      <th></th>\n",
       "      <th>Job_title</th>\n",
       "      <th>Job_Location</th>\n",
       "      <th>Company_name</th>\n",
       "      <th>Experience_required</th>\n",
       "    </tr>\n",
       "  </thead>\n",
       "  <tbody>\n",
       "    <tr>\n",
       "      <th>0</th>\n",
       "      <td>Data Scientist</td>\n",
       "      <td>Gurgaon/Gurugram, Bangalore/Bengaluru</td>\n",
       "      <td>EXL Services.com ( I ) Pvt. Ltd.</td>\n",
       "      <td>3-5 Yrs</td>\n",
       "    </tr>\n",
       "    <tr>\n",
       "      <th>1</th>\n",
       "      <td>Job Opportunity || Data Scientist || HCL Techn...</td>\n",
       "      <td>Delhi / NCR</td>\n",
       "      <td>HCL Technologies</td>\n",
       "      <td>4-7 Yrs</td>\n",
       "    </tr>\n",
       "    <tr>\n",
       "      <th>2</th>\n",
       "      <td>Data Scientist</td>\n",
       "      <td>Noida</td>\n",
       "      <td>Newgen Software Technologies Ltd.</td>\n",
       "      <td>2-5 Yrs</td>\n",
       "    </tr>\n",
       "    <tr>\n",
       "      <th>3</th>\n",
       "      <td>Data Scientist</td>\n",
       "      <td>Gurgaon/Gurugram, Bangalore/Bengaluru</td>\n",
       "      <td>Hexagon Geosystems Services India P.Ltd.</td>\n",
       "      <td>6-11 Yrs</td>\n",
       "    </tr>\n",
       "    <tr>\n",
       "      <th>4</th>\n",
       "      <td>Data Scientist I/II/III</td>\n",
       "      <td>Gurgaon/Gurugram</td>\n",
       "      <td>OLX India Pvt Ltd</td>\n",
       "      <td>3-6 Yrs</td>\n",
       "    </tr>\n",
       "    <tr>\n",
       "      <th>5</th>\n",
       "      <td>Academic Counsellor - Data Scientist</td>\n",
       "      <td>Gurgaon/Gurugram, Bangalore/Bengaluru</td>\n",
       "      <td>GreatLearning</td>\n",
       "      <td>1-4 Yrs</td>\n",
       "    </tr>\n",
       "    <tr>\n",
       "      <th>6</th>\n",
       "      <td>Associate Data Scientist</td>\n",
       "      <td>Noida</td>\n",
       "      <td>Optum Global Solutions (India) Private Limited</td>\n",
       "      <td>2-7 Yrs</td>\n",
       "    </tr>\n",
       "    <tr>\n",
       "      <th>7</th>\n",
       "      <td>Data Scientist</td>\n",
       "      <td>Noida, Gurgaon/Gurugram</td>\n",
       "      <td>Optum Global Solutions (India) Private Limited</td>\n",
       "      <td>2-6 Yrs</td>\n",
       "    </tr>\n",
       "    <tr>\n",
       "      <th>8</th>\n",
       "      <td>Data Scientist</td>\n",
       "      <td>Gurgaon/Gurugram</td>\n",
       "      <td>Milliman India Pvt Ltd</td>\n",
       "      <td>2-5 Yrs</td>\n",
       "    </tr>\n",
       "    <tr>\n",
       "      <th>9</th>\n",
       "      <td>Data Scientist</td>\n",
       "      <td>Mumbai, Delhi / NCR</td>\n",
       "      <td>lericon infomatics pvt.ltd</td>\n",
       "      <td>3-5 Yrs</td>\n",
       "    </tr>\n",
       "  </tbody>\n",
       "</table>\n",
       "</div>"
      ],
      "text/plain": [
       "                                           Job_title  \\\n",
       "0                                     Data Scientist   \n",
       "1  Job Opportunity || Data Scientist || HCL Techn...   \n",
       "2                                     Data Scientist   \n",
       "3                                     Data Scientist   \n",
       "4                            Data Scientist I/II/III   \n",
       "5               Academic Counsellor - Data Scientist   \n",
       "6                           Associate Data Scientist   \n",
       "7                                     Data Scientist   \n",
       "8                                     Data Scientist   \n",
       "9                                     Data Scientist   \n",
       "\n",
       "                            Job_Location  \\\n",
       "0  Gurgaon/Gurugram, Bangalore/Bengaluru   \n",
       "1                            Delhi / NCR   \n",
       "2                                  Noida   \n",
       "3  Gurgaon/Gurugram, Bangalore/Bengaluru   \n",
       "4                       Gurgaon/Gurugram   \n",
       "5  Gurgaon/Gurugram, Bangalore/Bengaluru   \n",
       "6                                  Noida   \n",
       "7                Noida, Gurgaon/Gurugram   \n",
       "8                       Gurgaon/Gurugram   \n",
       "9                    Mumbai, Delhi / NCR   \n",
       "\n",
       "                                     Company_name Experience_required  \n",
       "0                EXL Services.com ( I ) Pvt. Ltd.             3-5 Yrs  \n",
       "1                                HCL Technologies             4-7 Yrs  \n",
       "2               Newgen Software Technologies Ltd.             2-5 Yrs  \n",
       "3        Hexagon Geosystems Services India P.Ltd.            6-11 Yrs  \n",
       "4                               OLX India Pvt Ltd             3-6 Yrs  \n",
       "5                                   GreatLearning             1-4 Yrs  \n",
       "6  Optum Global Solutions (India) Private Limited             2-7 Yrs  \n",
       "7  Optum Global Solutions (India) Private Limited             2-6 Yrs  \n",
       "8                          Milliman India Pvt Ltd             2-5 Yrs  \n",
       "9                      lericon infomatics pvt.ltd             3-5 Yrs  "
      ]
     },
     "execution_count": 19,
     "metadata": {},
     "output_type": "execute_result"
    }
   ],
   "source": [
    "# import pandas as pd\n",
    "jobs=pd.DataFrame({})\n",
    "jobs['Job_title']=job_titles[0:10]\n",
    "jobs['Job_Location']=job_locations[0:10]\n",
    "jobs['Company_name']=company_names[0:10]\n",
    "jobs['Experience_required']=experience_required[0:10]\n",
    "jobs"
   ]
  },
  {
   "cell_type": "code",
   "execution_count": null,
   "metadata": {},
   "outputs": [],
   "source": []
  }
 ],
 "metadata": {
  "kernelspec": {
   "display_name": "Python 3",
   "language": "python",
   "name": "python3"
  },
  "language_info": {
   "codemirror_mode": {
    "name": "ipython",
    "version": 3
   },
   "file_extension": ".py",
   "mimetype": "text/x-python",
   "name": "python",
   "nbconvert_exporter": "python",
   "pygments_lexer": "ipython3",
   "version": "3.8.5"
  }
 },
 "nbformat": 4,
 "nbformat_minor": 4
}
