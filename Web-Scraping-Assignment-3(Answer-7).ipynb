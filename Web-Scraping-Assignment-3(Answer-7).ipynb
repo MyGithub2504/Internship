{
 "cells": [
  {
   "cell_type": "code",
   "execution_count": 128,
   "metadata": {},
   "outputs": [],
   "source": [
    "# lets now import all the required libraries\n",
    "import selenium\n",
    "import pandas as pd\n",
    "from selenium import webdriver\n",
    "import time\n",
    "import warnings\n",
    "warnings.filterwarnings(\"ignore\")"
   ]
  },
  {
   "cell_type": "code",
   "execution_count": 129,
   "metadata": {},
   "outputs": [],
   "source": [
    "#Lets first connect to the web driver\n",
    "driver = webdriver.Chrome(r\"C:\\Users\\user\\Downloads\\chromedriver_win32\\chromedriver.exe\")"
   ]
  },
  {
   "cell_type": "code",
   "execution_count": 130,
   "metadata": {},
   "outputs": [],
   "source": [
    "driver.get(\"https://www.digit.in/\")"
   ]
  },
  {
   "cell_type": "code",
   "execution_count": 131,
   "metadata": {},
   "outputs": [],
   "source": [
    "search_btn=driver.find_element_by_xpath(\"//body/div[1]/div[1]/div[4]/ul[1]/li[3]/a[1]\")\n",
    "search_btn.click()"
   ]
  },
  {
   "cell_type": "code",
   "execution_count": 132,
   "metadata": {},
   "outputs": [],
   "source": [
    "search_btn2=driver.find_element_by_xpath(\"//a[contains(text(),'Best Gaming Laptops in India')]\")\n",
    "search_btn2.click()"
   ]
  },
  {
   "cell_type": "code",
   "execution_count": 133,
   "metadata": {},
   "outputs": [],
   "source": [
    "Product_Name=[]\n",
    "Seller=[]\n",
    "Price=[]\n",
    "OS=[]\n",
    "Display=[]\n",
    "Processor=[]\n",
    "Memory=[]\n",
    "Specifications=[]"
   ]
  },
  {
   "cell_type": "code",
   "execution_count": 158,
   "metadata": {},
   "outputs": [
    {
     "data": {
      "text/plain": [
       "[<selenium.webdriver.remote.webelement.WebElement (session=\"4a978f842c303c46242ae5395eea2ecb\", element=\"d445360c-ef5a-477e-b972-380333ed6aa9\")>,\n",
       " <selenium.webdriver.remote.webelement.WebElement (session=\"4a978f842c303c46242ae5395eea2ecb\", element=\"72323b29-686d-43df-97c1-7f63f2e0e893\")>,\n",
       " <selenium.webdriver.remote.webelement.WebElement (session=\"4a978f842c303c46242ae5395eea2ecb\", element=\"1b568841-8305-4fd8-9ce2-fae98eb05c44\")>,\n",
       " <selenium.webdriver.remote.webelement.WebElement (session=\"4a978f842c303c46242ae5395eea2ecb\", element=\"f060c17b-74fb-4c23-a66f-d6809661cd70\")>,\n",
       " <selenium.webdriver.remote.webelement.WebElement (session=\"4a978f842c303c46242ae5395eea2ecb\", element=\"850e77a3-770e-41f7-851f-20163e0c2f16\")>,\n",
       " <selenium.webdriver.remote.webelement.WebElement (session=\"4a978f842c303c46242ae5395eea2ecb\", element=\"af7df7f5-645e-47e6-804c-832488b136c0\")>,\n",
       " <selenium.webdriver.remote.webelement.WebElement (session=\"4a978f842c303c46242ae5395eea2ecb\", element=\"dc08ff22-c0f0-476f-8654-34b85bf6dc21\")>,\n",
       " <selenium.webdriver.remote.webelement.WebElement (session=\"4a978f842c303c46242ae5395eea2ecb\", element=\"098aec58-d6f0-4283-a82e-4d573c59d6a8\")>,\n",
       " <selenium.webdriver.remote.webelement.WebElement (session=\"4a978f842c303c46242ae5395eea2ecb\", element=\"ef94b7e0-be89-4d25-8903-11783881cb65\")>,\n",
       " <selenium.webdriver.remote.webelement.WebElement (session=\"4a978f842c303c46242ae5395eea2ecb\", element=\"d3cdb216-6c24-4cf0-bc35-379a9ee5a4ec\")>]"
      ]
     },
     "execution_count": 158,
     "metadata": {},
     "output_type": "execute_result"
    }
   ],
   "source": [
    "seller=driver.find_elements_by_xpath(\"//td[@class='smmerchant']\")\n",
    "seller[0:10]"
   ]
  },
  {
   "cell_type": "code",
   "execution_count": 159,
   "metadata": {},
   "outputs": [
    {
     "data": {
      "text/plain": [
       "['Flipkart',\n",
       " 'Flipkart',\n",
       " 'Flipkart',\n",
       " 'N/A',\n",
       " 'Amazon',\n",
       " 'Flipkart',\n",
       " 'Amazon',\n",
       " 'Amazon',\n",
       " 'Amazon',\n",
       " 'Amazon']"
      ]
     },
     "execution_count": 159,
     "metadata": {},
     "output_type": "execute_result"
    }
   ],
   "source": [
    "for i in seller:\n",
    "    sellers=i.text\n",
    "    Seller.append(sellers)\n",
    "Seller[0:10]"
   ]
  },
  {
   "cell_type": "code",
   "execution_count": 160,
   "metadata": {},
   "outputs": [
    {
     "data": {
      "text/plain": [
       "[<selenium.webdriver.remote.webelement.WebElement (session=\"4a978f842c303c46242ae5395eea2ecb\", element=\"eaed3702-0e92-4f55-98c6-0718796c6a3e\")>,\n",
       " <selenium.webdriver.remote.webelement.WebElement (session=\"4a978f842c303c46242ae5395eea2ecb\", element=\"52786971-760c-488c-86be-81347b41c095\")>,\n",
       " <selenium.webdriver.remote.webelement.WebElement (session=\"4a978f842c303c46242ae5395eea2ecb\", element=\"91684d1c-3104-4b84-b572-b3c7e3cc3515\")>,\n",
       " <selenium.webdriver.remote.webelement.WebElement (session=\"4a978f842c303c46242ae5395eea2ecb\", element=\"2294c783-2d18-40ad-9a18-5ff2bfe40486\")>,\n",
       " <selenium.webdriver.remote.webelement.WebElement (session=\"4a978f842c303c46242ae5395eea2ecb\", element=\"ffeaf932-8057-4a42-923a-86a1b1d62087\")>,\n",
       " <selenium.webdriver.remote.webelement.WebElement (session=\"4a978f842c303c46242ae5395eea2ecb\", element=\"d8ff7d29-3da7-412d-afcc-dd1ffbb2fc74\")>,\n",
       " <selenium.webdriver.remote.webelement.WebElement (session=\"4a978f842c303c46242ae5395eea2ecb\", element=\"7ae91ae9-c63b-456f-9c49-680ebcb1af6d\")>,\n",
       " <selenium.webdriver.remote.webelement.WebElement (session=\"4a978f842c303c46242ae5395eea2ecb\", element=\"dabddd77-8e79-4945-ae92-c30744a078d5\")>,\n",
       " <selenium.webdriver.remote.webelement.WebElement (session=\"4a978f842c303c46242ae5395eea2ecb\", element=\"1344c75f-724b-4665-9040-8ec9ff71cb02\")>,\n",
       " <selenium.webdriver.remote.webelement.WebElement (session=\"4a978f842c303c46242ae5395eea2ecb\", element=\"29779da1-7674-4c83-8209-53c4e1d845f6\")>]"
      ]
     },
     "execution_count": 160,
     "metadata": {},
     "output_type": "execute_result"
    }
   ],
   "source": [
    "product_price=driver.find_elements_by_xpath(\"//td[@class='smprice']\")\n",
    "product_price[0:10]"
   ]
  },
  {
   "cell_type": "code",
   "execution_count": 161,
   "metadata": {},
   "outputs": [
    {
     "data": {
      "text/plain": [
       "['₹ 129,990',\n",
       " '₹ 134,990',\n",
       " '₹ 268,990',\n",
       " '₹ 342,989',\n",
       " '₹ 319,990',\n",
       " '₹ 215,990',\n",
       " '₹ 164,990',\n",
       " '₹ 76,988',\n",
       " '₹ 185,000',\n",
       " '₹ 62,968']"
      ]
     },
     "execution_count": 161,
     "metadata": {},
     "output_type": "execute_result"
    }
   ],
   "source": [
    "for i in product_price:\n",
    "    price=i.text\n",
    "    Price.append(price)\n",
    "Price[0:10]"
   ]
  },
  {
   "cell_type": "code",
   "execution_count": 151,
   "metadata": {},
   "outputs": [
    {
     "data": {
      "text/plain": [
       "[<selenium.webdriver.remote.webelement.WebElement (session=\"4a978f842c303c46242ae5395eea2ecb\", element=\"2b691bcc-c2c2-4c4c-b909-042db5f1a203\")>,\n",
       " <selenium.webdriver.remote.webelement.WebElement (session=\"4a978f842c303c46242ae5395eea2ecb\", element=\"456dedc7-2fc8-4eb9-adb5-369167b347da\")>,\n",
       " <selenium.webdriver.remote.webelement.WebElement (session=\"4a978f842c303c46242ae5395eea2ecb\", element=\"05e53820-b913-4a2d-8471-3a734b0fb66d\")>,\n",
       " <selenium.webdriver.remote.webelement.WebElement (session=\"4a978f842c303c46242ae5395eea2ecb\", element=\"7b19730b-01d2-4bd5-8278-b9a175a9fed7\")>,\n",
       " <selenium.webdriver.remote.webelement.WebElement (session=\"4a978f842c303c46242ae5395eea2ecb\", element=\"7a5be6cb-89b1-4d4d-b419-48986cd63cb1\")>,\n",
       " <selenium.webdriver.remote.webelement.WebElement (session=\"4a978f842c303c46242ae5395eea2ecb\", element=\"e0754c96-800c-4ad3-b222-a9019317df26\")>,\n",
       " <selenium.webdriver.remote.webelement.WebElement (session=\"4a978f842c303c46242ae5395eea2ecb\", element=\"a12905e9-169a-4002-b7cc-f8fd274dead9\")>,\n",
       " <selenium.webdriver.remote.webelement.WebElement (session=\"4a978f842c303c46242ae5395eea2ecb\", element=\"36736e10-1dd8-44fa-be2a-46b4e5e7c0b3\")>,\n",
       " <selenium.webdriver.remote.webelement.WebElement (session=\"4a978f842c303c46242ae5395eea2ecb\", element=\"cc19c745-d53d-4ae7-bc4a-9ef276000de1\")>,\n",
       " <selenium.webdriver.remote.webelement.WebElement (session=\"4a978f842c303c46242ae5395eea2ecb\", element=\"dea8ffc5-8172-490d-9f6b-71e5e88b9464\")>,\n",
       " <selenium.webdriver.remote.webelement.WebElement (session=\"4a978f842c303c46242ae5395eea2ecb\", element=\"b13603e0-5a19-4030-b7a2-8682dbb87311\")>,\n",
       " <selenium.webdriver.remote.webelement.WebElement (session=\"4a978f842c303c46242ae5395eea2ecb\", element=\"dadf7b99-091f-4048-aba1-09b7bffbb6b2\")>,\n",
       " <selenium.webdriver.remote.webelement.WebElement (session=\"4a978f842c303c46242ae5395eea2ecb\", element=\"e26607a5-e03f-4a9f-b60f-48bf7e0776a0\")>,\n",
       " <selenium.webdriver.remote.webelement.WebElement (session=\"4a978f842c303c46242ae5395eea2ecb\", element=\"dda52d47-66b2-48df-bb47-36cf23f29057\")>,\n",
       " <selenium.webdriver.remote.webelement.WebElement (session=\"4a978f842c303c46242ae5395eea2ecb\", element=\"24a71215-b21f-4c6c-b8e0-28bc237373b0\")>,\n",
       " <selenium.webdriver.remote.webelement.WebElement (session=\"4a978f842c303c46242ae5395eea2ecb\", element=\"f60652d5-0ea4-45f3-aadf-ba4a14251ca9\")>,\n",
       " <selenium.webdriver.remote.webelement.WebElement (session=\"4a978f842c303c46242ae5395eea2ecb\", element=\"b2ed3194-4f9f-42d6-b6c4-db10178e792b\")>,\n",
       " <selenium.webdriver.remote.webelement.WebElement (session=\"4a978f842c303c46242ae5395eea2ecb\", element=\"fb094f53-6970-4c45-864d-2a4d0247002f\")>,\n",
       " <selenium.webdriver.remote.webelement.WebElement (session=\"4a978f842c303c46242ae5395eea2ecb\", element=\"a5aa5692-625e-46b0-9bda-788d68a54798\")>,\n",
       " <selenium.webdriver.remote.webelement.WebElement (session=\"4a978f842c303c46242ae5395eea2ecb\", element=\"940c9b63-b69f-4a14-a71e-996ef67641cb\")>,\n",
       " <selenium.webdriver.remote.webelement.WebElement (session=\"4a978f842c303c46242ae5395eea2ecb\", element=\"4806705c-4307-4fe6-8bad-287d62a036d8\")>,\n",
       " <selenium.webdriver.remote.webelement.WebElement (session=\"4a978f842c303c46242ae5395eea2ecb\", element=\"ba575712-56a9-43ee-80f5-76daeece3208\")>,\n",
       " <selenium.webdriver.remote.webelement.WebElement (session=\"4a978f842c303c46242ae5395eea2ecb\", element=\"06a1c458-8055-4811-85b3-37de91dec19a\")>,\n",
       " <selenium.webdriver.remote.webelement.WebElement (session=\"4a978f842c303c46242ae5395eea2ecb\", element=\"bbf4f386-6374-448a-b9dd-1e49fed0e5c8\")>,\n",
       " <selenium.webdriver.remote.webelement.WebElement (session=\"4a978f842c303c46242ae5395eea2ecb\", element=\"55121715-feb1-4dbe-a721-b69c67adfadd\")>,\n",
       " <selenium.webdriver.remote.webelement.WebElement (session=\"4a978f842c303c46242ae5395eea2ecb\", element=\"97c44fa4-8106-4a66-80ed-0e3ab9fed862\")>,\n",
       " <selenium.webdriver.remote.webelement.WebElement (session=\"4a978f842c303c46242ae5395eea2ecb\", element=\"4a2221a6-60b8-4017-a4b1-790194df76e9\")>,\n",
       " <selenium.webdriver.remote.webelement.WebElement (session=\"4a978f842c303c46242ae5395eea2ecb\", element=\"f82eeb90-381a-48bd-b815-59e780e54901\")>,\n",
       " <selenium.webdriver.remote.webelement.WebElement (session=\"4a978f842c303c46242ae5395eea2ecb\", element=\"36b782f7-2613-4067-8875-dcb13b51240e\")>,\n",
       " <selenium.webdriver.remote.webelement.WebElement (session=\"4a978f842c303c46242ae5395eea2ecb\", element=\"73b159e2-cfdf-41ef-a525-ad1f68348ada\")>,\n",
       " <selenium.webdriver.remote.webelement.WebElement (session=\"4a978f842c303c46242ae5395eea2ecb\", element=\"86896c9d-6236-45cd-9316-9587ec65a613\")>,\n",
       " <selenium.webdriver.remote.webelement.WebElement (session=\"4a978f842c303c46242ae5395eea2ecb\", element=\"a1bdbc6c-23eb-4031-af86-0f823c5aab09\")>,\n",
       " <selenium.webdriver.remote.webelement.WebElement (session=\"4a978f842c303c46242ae5395eea2ecb\", element=\"dc4e8e97-e1e2-4dea-919d-1f6ffea2aafa\")>,\n",
       " <selenium.webdriver.remote.webelement.WebElement (session=\"4a978f842c303c46242ae5395eea2ecb\", element=\"6ba3fe9a-0394-4c3a-ba78-7baf2ee85832\")>,\n",
       " <selenium.webdriver.remote.webelement.WebElement (session=\"4a978f842c303c46242ae5395eea2ecb\", element=\"13f111cd-dcae-45fd-a817-e7e854b24553\")>,\n",
       " <selenium.webdriver.remote.webelement.WebElement (session=\"4a978f842c303c46242ae5395eea2ecb\", element=\"0b1f8065-5307-4c7d-ad4c-c8df81d1a702\")>,\n",
       " <selenium.webdriver.remote.webelement.WebElement (session=\"4a978f842c303c46242ae5395eea2ecb\", element=\"8c848ebb-c76e-4475-a48b-77ac5412dadd\")>,\n",
       " <selenium.webdriver.remote.webelement.WebElement (session=\"4a978f842c303c46242ae5395eea2ecb\", element=\"794a46a6-eb93-469a-a74d-222bdadb9354\")>,\n",
       " <selenium.webdriver.remote.webelement.WebElement (session=\"4a978f842c303c46242ae5395eea2ecb\", element=\"a4666bbd-4094-48ea-9b2b-4f2c379ebc34\")>,\n",
       " <selenium.webdriver.remote.webelement.WebElement (session=\"4a978f842c303c46242ae5395eea2ecb\", element=\"b4e8a2e0-0679-479c-90c7-62251d6a2c4b\")>]"
      ]
     },
     "execution_count": 151,
     "metadata": {},
     "output_type": "execute_result"
    }
   ],
   "source": [
    "specifications=driver.find_elements_by_xpath(\"//div[@class='value']\")\n",
    "specifications[0:50]"
   ]
  },
  {
   "cell_type": "code",
   "execution_count": 152,
   "metadata": {},
   "outputs": [
    {
     "data": {
      "text/plain": [
       "['WINDOWS 10',\n",
       " '15.6\" (1920 X 1080)',\n",
       " 'AMD RYZEN 9 OCTA CORE | 2.4 GHZ',\n",
       " '1 TB HDD/16 GBGB DDR4',\n",
       " 'WINDOWS 10',\n",
       " '15.6\" (1920 X 1080)',\n",
       " 'INTEL CORE I7 11TH GEN - 11375H | NA',\n",
       " '1 TB SSD/16 GBGB DDR4',\n",
       " 'WINDOWS 10',\n",
       " '15.6\" (2560 X 1440)',\n",
       " 'AMD RYZEN 9 OCTA CORE - 5900HX | 3.3 GHZ',\n",
       " '2 TB SSD/32 GBGB DDR4',\n",
       " 'WINDOWS 10 HOME',\n",
       " '17.3\" (1920 X 1080)',\n",
       " '10TH GEN INTEL® CORE™ I7-10700 | 2.90 GHZ',\n",
       " '1 TB SSD/16 GBGB DDR4',\n",
       " 'WINDOWS 10 HOME',\n",
       " '15.6\" (3840 X 2160)',\n",
       " '10TH GEN INTEL® CORE™ I9-10980HK | NA',\n",
       " '1 TB SSD/16 GBGB DDR4',\n",
       " 'WINDOWS 10 HOME',\n",
       " '15.6\" (1920 X 1080)',\n",
       " 'AMD RYZEN™ 9 5900HX | 3.3 GHZ',\n",
       " '1 TB SSD/16 GBGB DDR4',\n",
       " 'WINDOWS 10 HOME',\n",
       " '14\" (1920 X 1080)',\n",
       " 'AMD 3RD GEN RYZEN 9 | 3.3 GHZ',\n",
       " '1 TB SSD/16 GBGB DDR4',\n",
       " 'WINDOWS 10 PRO',\n",
       " '15.6\" (1920 X 1080)',\n",
       " '10TH GEN INTEL® CORE™ I5-10300H | 2.50 GHZ',\n",
       " '1 TB SSD/16 GBGB DDR4',\n",
       " 'WINDOWS 10',\n",
       " '15.6\" (3840 X 1100)',\n",
       " 'INTEL CORE I7 10TH GEN 10875H | NA',\n",
       " '512 GB SSD/4 GBGB DDR4',\n",
       " 'WINDOWS 10 HOME',\n",
       " '15.6\" (1920 X 1080)',\n",
       " 'AMD RYZEN™ 5-5500U HEXA-CORE | NA',\n",
       " '512 GB SSD/8 GBGB DDR4']"
      ]
     },
     "execution_count": 152,
     "metadata": {},
     "output_type": "execute_result"
    }
   ],
   "source": [
    "for i in specifications:\n",
    "    pri=i.text\n",
    "    Specifications.append(pri)\n",
    "Specifications[0:]"
   ]
  },
  {
   "cell_type": "code",
   "execution_count": 153,
   "metadata": {},
   "outputs": [
    {
     "data": {
      "text/plain": [
       "['WINDOWS 10',\n",
       " 'WINDOWS 10',\n",
       " 'WINDOWS 10',\n",
       " 'WINDOWS 10 HOME',\n",
       " 'WINDOWS 10 HOME',\n",
       " 'WINDOWS 10 HOME',\n",
       " 'WINDOWS 10 HOME',\n",
       " 'WINDOWS 10 PRO',\n",
       " 'WINDOWS 10',\n",
       " 'WINDOWS 10 HOME']"
      ]
     },
     "execution_count": 153,
     "metadata": {},
     "output_type": "execute_result"
    }
   ],
   "source": [
    "OS=Specifications[0:50:4]\n",
    "OS"
   ]
  },
  {
   "cell_type": "code",
   "execution_count": 154,
   "metadata": {},
   "outputs": [
    {
     "data": {
      "text/plain": [
       "['15.6\" (1920 X 1080)',\n",
       " '15.6\" (1920 X 1080)',\n",
       " '15.6\" (2560 X 1440)',\n",
       " '17.3\" (1920 X 1080)',\n",
       " '15.6\" (3840 X 2160)',\n",
       " '15.6\" (1920 X 1080)',\n",
       " '14\" (1920 X 1080)',\n",
       " '15.6\" (1920 X 1080)',\n",
       " '15.6\" (3840 X 1100)',\n",
       " '15.6\" (1920 X 1080)']"
      ]
     },
     "execution_count": 154,
     "metadata": {},
     "output_type": "execute_result"
    }
   ],
   "source": [
    "Display=Specifications[1:50:4]\n",
    "Display"
   ]
  },
  {
   "cell_type": "code",
   "execution_count": 155,
   "metadata": {},
   "outputs": [
    {
     "data": {
      "text/plain": [
       "['AMD RYZEN 9 OCTA CORE | 2.4 GHZ',\n",
       " 'INTEL CORE I7 11TH GEN - 11375H | NA',\n",
       " 'AMD RYZEN 9 OCTA CORE - 5900HX | 3.3 GHZ',\n",
       " '10TH GEN INTEL® CORE™ I7-10700 | 2.90 GHZ',\n",
       " '10TH GEN INTEL® CORE™ I9-10980HK | NA',\n",
       " 'AMD RYZEN™ 9 5900HX | 3.3 GHZ',\n",
       " 'AMD 3RD GEN RYZEN 9 | 3.3 GHZ',\n",
       " '10TH GEN INTEL® CORE™ I5-10300H | 2.50 GHZ',\n",
       " 'INTEL CORE I7 10TH GEN 10875H | NA',\n",
       " 'AMD RYZEN™ 5-5500U HEXA-CORE | NA']"
      ]
     },
     "execution_count": 155,
     "metadata": {},
     "output_type": "execute_result"
    }
   ],
   "source": [
    "Processor=Specifications[2:50:4]\n",
    "Processor"
   ]
  },
  {
   "cell_type": "code",
   "execution_count": 156,
   "metadata": {},
   "outputs": [
    {
     "data": {
      "text/plain": [
       "['1 TB HDD/16 GBGB DDR4',\n",
       " '1 TB SSD/16 GBGB DDR4',\n",
       " '2 TB SSD/32 GBGB DDR4',\n",
       " '1 TB SSD/16 GBGB DDR4',\n",
       " '1 TB SSD/16 GBGB DDR4',\n",
       " '1 TB SSD/16 GBGB DDR4',\n",
       " '1 TB SSD/16 GBGB DDR4',\n",
       " '1 TB SSD/16 GBGB DDR4',\n",
       " '512 GB SSD/4 GBGB DDR4',\n",
       " '512 GB SSD/8 GBGB DDR4']"
      ]
     },
     "execution_count": 156,
     "metadata": {},
     "output_type": "execute_result"
    }
   ],
   "source": [
    "Memory=Specifications[3:50:4]\n",
    "Memory"
   ]
  },
  {
   "cell_type": "code",
   "execution_count": 162,
   "metadata": {},
   "outputs": [
    {
     "data": {
      "text/html": [
       "<div>\n",
       "<style scoped>\n",
       "    .dataframe tbody tr th:only-of-type {\n",
       "        vertical-align: middle;\n",
       "    }\n",
       "\n",
       "    .dataframe tbody tr th {\n",
       "        vertical-align: top;\n",
       "    }\n",
       "\n",
       "    .dataframe thead th {\n",
       "        text-align: right;\n",
       "    }\n",
       "</style>\n",
       "<table border=\"1\" class=\"dataframe\">\n",
       "  <thead>\n",
       "    <tr style=\"text-align: right;\">\n",
       "      <th></th>\n",
       "      <th>Seller</th>\n",
       "      <th>Price</th>\n",
       "      <th>Operating_System</th>\n",
       "      <th>Dispaly</th>\n",
       "      <th>Processor</th>\n",
       "      <th>Memory</th>\n",
       "    </tr>\n",
       "  </thead>\n",
       "  <tbody>\n",
       "    <tr>\n",
       "      <th>0</th>\n",
       "      <td>Flipkart</td>\n",
       "      <td>₹ 129,990</td>\n",
       "      <td>WINDOWS 10</td>\n",
       "      <td>15.6\" (1920 X 1080)</td>\n",
       "      <td>AMD RYZEN 9 OCTA CORE | 2.4 GHZ</td>\n",
       "      <td>1 TB HDD/16 GBGB DDR4</td>\n",
       "    </tr>\n",
       "    <tr>\n",
       "      <th>1</th>\n",
       "      <td>Flipkart</td>\n",
       "      <td>₹ 134,990</td>\n",
       "      <td>WINDOWS 10</td>\n",
       "      <td>15.6\" (1920 X 1080)</td>\n",
       "      <td>INTEL CORE I7 11TH GEN - 11375H | NA</td>\n",
       "      <td>1 TB SSD/16 GBGB DDR4</td>\n",
       "    </tr>\n",
       "    <tr>\n",
       "      <th>2</th>\n",
       "      <td>Flipkart</td>\n",
       "      <td>₹ 268,990</td>\n",
       "      <td>WINDOWS 10</td>\n",
       "      <td>15.6\" (2560 X 1440)</td>\n",
       "      <td>AMD RYZEN 9 OCTA CORE - 5900HX | 3.3 GHZ</td>\n",
       "      <td>2 TB SSD/32 GBGB DDR4</td>\n",
       "    </tr>\n",
       "    <tr>\n",
       "      <th>3</th>\n",
       "      <td>N/A</td>\n",
       "      <td>₹ 342,989</td>\n",
       "      <td>WINDOWS 10 HOME</td>\n",
       "      <td>17.3\" (1920 X 1080)</td>\n",
       "      <td>10TH GEN INTEL® CORE™ I7-10700 | 2.90 GHZ</td>\n",
       "      <td>1 TB SSD/16 GBGB DDR4</td>\n",
       "    </tr>\n",
       "    <tr>\n",
       "      <th>4</th>\n",
       "      <td>Amazon</td>\n",
       "      <td>₹ 319,990</td>\n",
       "      <td>WINDOWS 10 HOME</td>\n",
       "      <td>15.6\" (3840 X 2160)</td>\n",
       "      <td>10TH GEN INTEL® CORE™ I9-10980HK | NA</td>\n",
       "      <td>1 TB SSD/16 GBGB DDR4</td>\n",
       "    </tr>\n",
       "    <tr>\n",
       "      <th>5</th>\n",
       "      <td>Flipkart</td>\n",
       "      <td>₹ 215,990</td>\n",
       "      <td>WINDOWS 10 HOME</td>\n",
       "      <td>15.6\" (1920 X 1080)</td>\n",
       "      <td>AMD RYZEN™ 9 5900HX | 3.3 GHZ</td>\n",
       "      <td>1 TB SSD/16 GBGB DDR4</td>\n",
       "    </tr>\n",
       "    <tr>\n",
       "      <th>6</th>\n",
       "      <td>Amazon</td>\n",
       "      <td>₹ 164,990</td>\n",
       "      <td>WINDOWS 10 HOME</td>\n",
       "      <td>14\" (1920 X 1080)</td>\n",
       "      <td>AMD 3RD GEN RYZEN 9 | 3.3 GHZ</td>\n",
       "      <td>1 TB SSD/16 GBGB DDR4</td>\n",
       "    </tr>\n",
       "    <tr>\n",
       "      <th>7</th>\n",
       "      <td>Amazon</td>\n",
       "      <td>₹ 76,988</td>\n",
       "      <td>WINDOWS 10 PRO</td>\n",
       "      <td>15.6\" (1920 X 1080)</td>\n",
       "      <td>10TH GEN INTEL® CORE™ I5-10300H | 2.50 GHZ</td>\n",
       "      <td>1 TB SSD/16 GBGB DDR4</td>\n",
       "    </tr>\n",
       "    <tr>\n",
       "      <th>8</th>\n",
       "      <td>Amazon</td>\n",
       "      <td>₹ 185,000</td>\n",
       "      <td>WINDOWS 10</td>\n",
       "      <td>15.6\" (3840 X 1100)</td>\n",
       "      <td>INTEL CORE I7 10TH GEN 10875H | NA</td>\n",
       "      <td>512 GB SSD/4 GBGB DDR4</td>\n",
       "    </tr>\n",
       "    <tr>\n",
       "      <th>9</th>\n",
       "      <td>Amazon</td>\n",
       "      <td>₹ 62,968</td>\n",
       "      <td>WINDOWS 10 HOME</td>\n",
       "      <td>15.6\" (1920 X 1080)</td>\n",
       "      <td>AMD RYZEN™ 5-5500U HEXA-CORE | NA</td>\n",
       "      <td>512 GB SSD/8 GBGB DDR4</td>\n",
       "    </tr>\n",
       "  </tbody>\n",
       "</table>\n",
       "</div>"
      ],
      "text/plain": [
       "     Seller      Price Operating_System              Dispaly  \\\n",
       "0  Flipkart  ₹ 129,990       WINDOWS 10  15.6\" (1920 X 1080)   \n",
       "1  Flipkart  ₹ 134,990       WINDOWS 10  15.6\" (1920 X 1080)   \n",
       "2  Flipkart  ₹ 268,990       WINDOWS 10  15.6\" (2560 X 1440)   \n",
       "3       N/A  ₹ 342,989  WINDOWS 10 HOME  17.3\" (1920 X 1080)   \n",
       "4    Amazon  ₹ 319,990  WINDOWS 10 HOME  15.6\" (3840 X 2160)   \n",
       "5  Flipkart  ₹ 215,990  WINDOWS 10 HOME  15.6\" (1920 X 1080)   \n",
       "6    Amazon  ₹ 164,990  WINDOWS 10 HOME    14\" (1920 X 1080)   \n",
       "7    Amazon   ₹ 76,988   WINDOWS 10 PRO  15.6\" (1920 X 1080)   \n",
       "8    Amazon  ₹ 185,000       WINDOWS 10  15.6\" (3840 X 1100)   \n",
       "9    Amazon   ₹ 62,968  WINDOWS 10 HOME  15.6\" (1920 X 1080)   \n",
       "\n",
       "                                    Processor                  Memory  \n",
       "0             AMD RYZEN 9 OCTA CORE | 2.4 GHZ   1 TB HDD/16 GBGB DDR4  \n",
       "1        INTEL CORE I7 11TH GEN - 11375H | NA   1 TB SSD/16 GBGB DDR4  \n",
       "2    AMD RYZEN 9 OCTA CORE - 5900HX | 3.3 GHZ   2 TB SSD/32 GBGB DDR4  \n",
       "3   10TH GEN INTEL® CORE™ I7-10700 | 2.90 GHZ   1 TB SSD/16 GBGB DDR4  \n",
       "4       10TH GEN INTEL® CORE™ I9-10980HK | NA   1 TB SSD/16 GBGB DDR4  \n",
       "5               AMD RYZEN™ 9 5900HX | 3.3 GHZ   1 TB SSD/16 GBGB DDR4  \n",
       "6               AMD 3RD GEN RYZEN 9 | 3.3 GHZ   1 TB SSD/16 GBGB DDR4  \n",
       "7  10TH GEN INTEL® CORE™ I5-10300H | 2.50 GHZ   1 TB SSD/16 GBGB DDR4  \n",
       "8          INTEL CORE I7 10TH GEN 10875H | NA  512 GB SSD/4 GBGB DDR4  \n",
       "9           AMD RYZEN™ 5-5500U HEXA-CORE | NA  512 GB SSD/8 GBGB DDR4  "
      ]
     },
     "execution_count": 162,
     "metadata": {},
     "output_type": "execute_result"
    }
   ],
   "source": [
    "Laptop=pd.DataFrame({})\n",
    "Laptop['Seller']=Seller[0:10]\n",
    "Laptop['Price']=Price[0:10]\n",
    "Laptop['Operating_System']=OS[0:10]\n",
    "Laptop['Dispaly']=Display[0:10]\n",
    "Laptop['Processor']=Processor[0:10]\n",
    "Laptop['Memory']=Memory[0:10]\n",
    "Laptop"
   ]
  },
  {
   "cell_type": "code",
   "execution_count": null,
   "metadata": {},
   "outputs": [],
   "source": []
  }
 ],
 "metadata": {
  "kernelspec": {
   "display_name": "Python 3",
   "language": "python",
   "name": "python3"
  },
  "language_info": {
   "codemirror_mode": {
    "name": "ipython",
    "version": 3
   },
   "file_extension": ".py",
   "mimetype": "text/x-python",
   "name": "python",
   "nbconvert_exporter": "python",
   "pygments_lexer": "ipython3",
   "version": "3.8.5"
  }
 },
 "nbformat": 4,
 "nbformat_minor": 4
}
