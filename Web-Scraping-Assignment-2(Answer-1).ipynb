{
 "cells": [
  {
   "cell_type": "code",
   "execution_count": 37,
   "metadata": {},
   "outputs": [],
   "source": [
    "# lets now import all the required libraries\n",
    "import selenium\n",
    "import pandas as pd\n",
    "from selenium import webdriver"
   ]
  },
  {
   "cell_type": "code",
   "execution_count": 38,
   "metadata": {},
   "outputs": [],
   "source": [
    "#Lets first connect to the web driver\n",
    "driver = webdriver.Chrome(r\"C:\\Users\\user\\Downloads\\chromedriver_win32\\chromedriver.exe\")"
   ]
  },
  {
   "cell_type": "code",
   "execution_count": 39,
   "metadata": {},
   "outputs": [],
   "source": [
    "driver.get(\"https://www.naukri.com/\")"
   ]
  },
  {
   "cell_type": "code",
   "execution_count": 40,
   "metadata": {},
   "outputs": [],
   "source": [
    "search_job=driver.find_element_by_xpath(\"//input[@id='qsb-keyword-sugg']\")\n",
    "search_job.send_keys(\"Data Analyst\")\n",
    "search_loc=driver.find_element_by_xpath(\"//input[@id='qsb-location-sugg']\")\n",
    "search_loc.send_keys(\"Bangalore\")\n",
    "search_btn=driver.find_element_by_xpath(\"//div[@class='search-btn']/button\")\n",
    "search_btn.click()"
   ]
  },
  {
   "cell_type": "code",
   "execution_count": 16,
   "metadata": {},
   "outputs": [],
   "source": [
    "job_titles=[]\n",
    "company_names=[]\n",
    "job_locations=[]\n",
    "experience_required=[]"
   ]
  },
  {
   "cell_type": "code",
   "execution_count": 15,
   "metadata": {},
   "outputs": [
    {
     "data": {
      "text/plain": [
       "[<selenium.webdriver.remote.webelement.WebElement (session=\"3c19e288eaf5aebc387386e4002d74ad\", element=\"c90c11b2-b55f-4145-acb6-96de8d8bd77c\")>,\n",
       " <selenium.webdriver.remote.webelement.WebElement (session=\"3c19e288eaf5aebc387386e4002d74ad\", element=\"1a0e557f-166c-4d2c-aa23-ad849eac654d\")>,\n",
       " <selenium.webdriver.remote.webelement.WebElement (session=\"3c19e288eaf5aebc387386e4002d74ad\", element=\"0bb64cc7-b56c-489b-8f14-149ffe477ad9\")>,\n",
       " <selenium.webdriver.remote.webelement.WebElement (session=\"3c19e288eaf5aebc387386e4002d74ad\", element=\"5fb514bc-3fd3-457d-8b2e-b8e609fa6934\")>,\n",
       " <selenium.webdriver.remote.webelement.WebElement (session=\"3c19e288eaf5aebc387386e4002d74ad\", element=\"796ccf0e-2416-4b70-bb2c-188faffc84e4\")>,\n",
       " <selenium.webdriver.remote.webelement.WebElement (session=\"3c19e288eaf5aebc387386e4002d74ad\", element=\"10a34a2a-f996-4e0a-a560-639223da7f08\")>,\n",
       " <selenium.webdriver.remote.webelement.WebElement (session=\"3c19e288eaf5aebc387386e4002d74ad\", element=\"3c0d5871-e036-4d13-a301-7ef2c509ab3e\")>,\n",
       " <selenium.webdriver.remote.webelement.WebElement (session=\"3c19e288eaf5aebc387386e4002d74ad\", element=\"cc90860d-f6c9-4c34-b153-5f67f07a785c\")>,\n",
       " <selenium.webdriver.remote.webelement.WebElement (session=\"3c19e288eaf5aebc387386e4002d74ad\", element=\"9d474103-8319-4816-8069-0fe9316a61a6\")>,\n",
       " <selenium.webdriver.remote.webelement.WebElement (session=\"3c19e288eaf5aebc387386e4002d74ad\", element=\"ceb9aa28-b03b-409f-ad0a-0bb90116c5ce\")>]"
      ]
     },
     "execution_count": 15,
     "metadata": {},
     "output_type": "execute_result"
    }
   ],
   "source": [
    "titles_tags=driver.find_elements_by_xpath(\"//a[@class='title fw500 ellipsis']\")\n",
    "titles_tags[0:10]"
   ]
  },
  {
   "cell_type": "code",
   "execution_count": 17,
   "metadata": {},
   "outputs": [
    {
     "data": {
      "text/plain": [
       "['Data Analyst - Marketing',\n",
       " 'Associate Data Analyst',\n",
       " 'Business Data Analyst',\n",
       " 'Lead Data Analyst / Data Engineer',\n",
       " 'Data Analyst / Business Analyst (Demand Planning)',\n",
       " 'Senior Data Analyst',\n",
       " 'Data Analyst',\n",
       " 'Business Data Analyst',\n",
       " 'Data Analyst - I/II',\n",
       " 'Data Analyst (BI) - I/II']"
      ]
     },
     "execution_count": 17,
     "metadata": {},
     "output_type": "execute_result"
    }
   ],
   "source": [
    "for i in titles_tags:\n",
    "    title=i.text\n",
    "    job_titles.append(title)\n",
    "job_titles[0:10]"
   ]
  },
  {
   "cell_type": "code",
   "execution_count": 18,
   "metadata": {},
   "outputs": [
    {
     "data": {
      "text/plain": [
       "[<selenium.webdriver.remote.webelement.WebElement (session=\"3c19e288eaf5aebc387386e4002d74ad\", element=\"4cf8f969-baac-482b-9fbc-4543b622b76d\")>,\n",
       " <selenium.webdriver.remote.webelement.WebElement (session=\"3c19e288eaf5aebc387386e4002d74ad\", element=\"1db44333-5c33-417b-b01e-e66abc7258ec\")>,\n",
       " <selenium.webdriver.remote.webelement.WebElement (session=\"3c19e288eaf5aebc387386e4002d74ad\", element=\"5f6e6707-aff9-4daa-9b1e-f90e9674c7a2\")>,\n",
       " <selenium.webdriver.remote.webelement.WebElement (session=\"3c19e288eaf5aebc387386e4002d74ad\", element=\"fac7badf-29d4-41d8-9159-93bd8ae859a6\")>,\n",
       " <selenium.webdriver.remote.webelement.WebElement (session=\"3c19e288eaf5aebc387386e4002d74ad\", element=\"ed3f9ef4-c728-4e1b-83cb-8f9940506f77\")>,\n",
       " <selenium.webdriver.remote.webelement.WebElement (session=\"3c19e288eaf5aebc387386e4002d74ad\", element=\"b3f1ebfa-2c5e-4606-aa51-278725e632a5\")>,\n",
       " <selenium.webdriver.remote.webelement.WebElement (session=\"3c19e288eaf5aebc387386e4002d74ad\", element=\"3b2d2c36-2eb2-4866-a067-ac45c00702d5\")>,\n",
       " <selenium.webdriver.remote.webelement.WebElement (session=\"3c19e288eaf5aebc387386e4002d74ad\", element=\"cea6b803-3b7c-4e7b-91d0-667e3857aa24\")>,\n",
       " <selenium.webdriver.remote.webelement.WebElement (session=\"3c19e288eaf5aebc387386e4002d74ad\", element=\"37633fce-ee48-4b0e-900e-45599f76a2b7\")>,\n",
       " <selenium.webdriver.remote.webelement.WebElement (session=\"3c19e288eaf5aebc387386e4002d74ad\", element=\"738c71ff-e3e1-48d5-9ccb-fc5a03f3bf66\")>]"
      ]
     },
     "execution_count": 18,
     "metadata": {},
     "output_type": "execute_result"
    }
   ],
   "source": [
    "companies_tags=driver.find_elements_by_xpath(\"//a[@class='subTitle ellipsis fleft']\")\n",
    "companies_tags[0:10]"
   ]
  },
  {
   "cell_type": "code",
   "execution_count": 19,
   "metadata": {},
   "outputs": [
    {
     "data": {
      "text/plain": [
       "['Byjus - Transforming Education using Technology',\n",
       " 'Integrated Digital Systems',\n",
       " 'INDIAVIDUAL LEARNING LIMITED',\n",
       " 'Huawei Technologies',\n",
       " 'Flipkart',\n",
       " 'Scienaptic Systems',\n",
       " 'Applied Materials',\n",
       " 'RANDSTAD INDIA PVT LTD',\n",
       " 'Philips India Limited',\n",
       " 'Philips India Limited']"
      ]
     },
     "execution_count": 19,
     "metadata": {},
     "output_type": "execute_result"
    }
   ],
   "source": [
    "for i in companies_tags:\n",
    "    title=i.text\n",
    "    company_names.append(title)\n",
    "company_names[0:10]"
   ]
  },
  {
   "cell_type": "code",
   "execution_count": 23,
   "metadata": {},
   "outputs": [
    {
     "data": {
      "text/plain": [
       "[<selenium.webdriver.remote.webelement.WebElement (session=\"3c19e288eaf5aebc387386e4002d74ad\", element=\"c381ddcf-3f75-4e14-8f8c-39cd2cc56e82\")>,\n",
       " <selenium.webdriver.remote.webelement.WebElement (session=\"3c19e288eaf5aebc387386e4002d74ad\", element=\"5306353d-8e82-4853-8ebc-7e9a4621a587\")>,\n",
       " <selenium.webdriver.remote.webelement.WebElement (session=\"3c19e288eaf5aebc387386e4002d74ad\", element=\"14f44158-92a4-4e79-8c19-4ee1ef7877bf\")>,\n",
       " <selenium.webdriver.remote.webelement.WebElement (session=\"3c19e288eaf5aebc387386e4002d74ad\", element=\"472c6a45-4622-48d8-8702-dd8e7c54c221\")>,\n",
       " <selenium.webdriver.remote.webelement.WebElement (session=\"3c19e288eaf5aebc387386e4002d74ad\", element=\"fa52c900-3e85-4299-8e6f-41de818429dd\")>,\n",
       " <selenium.webdriver.remote.webelement.WebElement (session=\"3c19e288eaf5aebc387386e4002d74ad\", element=\"e7748104-a6af-4751-aefb-434109194dbe\")>,\n",
       " <selenium.webdriver.remote.webelement.WebElement (session=\"3c19e288eaf5aebc387386e4002d74ad\", element=\"776f6422-50d3-4c61-b50c-2973ddba07b0\")>,\n",
       " <selenium.webdriver.remote.webelement.WebElement (session=\"3c19e288eaf5aebc387386e4002d74ad\", element=\"b5e7abb3-59ea-4653-901b-7a8e469d1193\")>,\n",
       " <selenium.webdriver.remote.webelement.WebElement (session=\"3c19e288eaf5aebc387386e4002d74ad\", element=\"50041739-8c52-41fc-9cee-99c375aefa55\")>,\n",
       " <selenium.webdriver.remote.webelement.WebElement (session=\"3c19e288eaf5aebc387386e4002d74ad\", element=\"0f881ae5-dd37-4e5d-a99b-81671ac132a1\")>]"
      ]
     },
     "execution_count": 23,
     "metadata": {},
     "output_type": "execute_result"
    }
   ],
   "source": [
    "Experience_tags=driver.find_elements_by_xpath(\"//li[@class='fleft grey-text br2 placeHolderLi experience']/span[1]\")\n",
    "Experience_tags[0:10]"
   ]
  },
  {
   "cell_type": "code",
   "execution_count": 24,
   "metadata": {},
   "outputs": [
    {
     "data": {
      "text/plain": [
       "['0-2 Yrs',\n",
       " '0-2 Yrs',\n",
       " '2-6 Yrs',\n",
       " '5-10 Yrs',\n",
       " '1-4 Yrs',\n",
       " '5-10 Yrs',\n",
       " '0-3 Yrs',\n",
       " '8-12 Yrs',\n",
       " '3-6 Yrs',\n",
       " '3-6 Yrs']"
      ]
     },
     "execution_count": 24,
     "metadata": {},
     "output_type": "execute_result"
    }
   ],
   "source": [
    "for i in Experience_tags:\n",
    "    experience=i.text\n",
    "    experience_required.append(experience)\n",
    "experience_required[0:10]"
   ]
  },
  {
   "cell_type": "code",
   "execution_count": 26,
   "metadata": {},
   "outputs": [
    {
     "data": {
      "text/plain": [
       "[<selenium.webdriver.remote.webelement.WebElement (session=\"3c19e288eaf5aebc387386e4002d74ad\", element=\"9850b8d9-50fa-4564-aca1-96a3f1cfaa7d\")>,\n",
       " <selenium.webdriver.remote.webelement.WebElement (session=\"3c19e288eaf5aebc387386e4002d74ad\", element=\"0c1bc8b9-ed9f-406d-bd76-9b6b5338868f\")>,\n",
       " <selenium.webdriver.remote.webelement.WebElement (session=\"3c19e288eaf5aebc387386e4002d74ad\", element=\"f7412177-c788-4dd8-bd09-fad5d91446cf\")>,\n",
       " <selenium.webdriver.remote.webelement.WebElement (session=\"3c19e288eaf5aebc387386e4002d74ad\", element=\"371dfd57-1194-4988-8aa5-a47414f819e6\")>,\n",
       " <selenium.webdriver.remote.webelement.WebElement (session=\"3c19e288eaf5aebc387386e4002d74ad\", element=\"e28b4ea6-4bc8-43a6-be43-06d1145a4311\")>,\n",
       " <selenium.webdriver.remote.webelement.WebElement (session=\"3c19e288eaf5aebc387386e4002d74ad\", element=\"e0ce5f58-d4c1-4cbf-a051-74dc590c45b9\")>,\n",
       " <selenium.webdriver.remote.webelement.WebElement (session=\"3c19e288eaf5aebc387386e4002d74ad\", element=\"65e729b4-f2c7-45fb-8cbf-67e36c3cfd32\")>,\n",
       " <selenium.webdriver.remote.webelement.WebElement (session=\"3c19e288eaf5aebc387386e4002d74ad\", element=\"26db6fc0-03a6-410c-8e9b-2d75842f7544\")>,\n",
       " <selenium.webdriver.remote.webelement.WebElement (session=\"3c19e288eaf5aebc387386e4002d74ad\", element=\"99a5c5ef-59cb-41d7-b74f-5cf5c1aa932c\")>,\n",
       " <selenium.webdriver.remote.webelement.WebElement (session=\"3c19e288eaf5aebc387386e4002d74ad\", element=\"cd7335e0-05f9-4a1d-98fc-594893503c30\")>]"
      ]
     },
     "execution_count": 26,
     "metadata": {},
     "output_type": "execute_result"
    }
   ],
   "source": [
    "locations_tags=driver.find_elements_by_xpath(\"//li[@class='fleft grey-text br2 placeHolderLi location']/span[1]\")\n",
    "locations_tags[0:10]"
   ]
  },
  {
   "cell_type": "code",
   "execution_count": 27,
   "metadata": {},
   "outputs": [
    {
     "data": {
      "text/plain": [
       "['Bangalore/Bengaluru',\n",
       " 'Bangalore/Bengaluru',\n",
       " 'Bangalore/Bengaluru',\n",
       " 'Bangalore/Bengaluru',\n",
       " 'Bangalore/Bengaluru',\n",
       " 'Bangalore/Bengaluru',\n",
       " 'Bangalore/Bengaluru',\n",
       " 'Bangalore/Bengaluru',\n",
       " 'Bangalore/Bengaluru',\n",
       " 'Bangalore/Bengaluru']"
      ]
     },
     "execution_count": 27,
     "metadata": {},
     "output_type": "execute_result"
    }
   ],
   "source": [
    "for i in locations_tags:\n",
    "    location=i.text\n",
    "    job_locations.append(location)\n",
    "job_locations[0:10]"
   ]
  },
  {
   "cell_type": "code",
   "execution_count": 28,
   "metadata": {},
   "outputs": [
    {
     "name": "stdout",
     "output_type": "stream",
     "text": [
      "20 20 20 20\n"
     ]
    }
   ],
   "source": [
    "print(len(job_titles),len(company_names), len(experience_required), len(job_locations))"
   ]
  },
  {
   "cell_type": "code",
   "execution_count": 29,
   "metadata": {},
   "outputs": [
    {
     "data": {
      "text/html": [
       "<div>\n",
       "<style scoped>\n",
       "    .dataframe tbody tr th:only-of-type {\n",
       "        vertical-align: middle;\n",
       "    }\n",
       "\n",
       "    .dataframe tbody tr th {\n",
       "        vertical-align: top;\n",
       "    }\n",
       "\n",
       "    .dataframe thead th {\n",
       "        text-align: right;\n",
       "    }\n",
       "</style>\n",
       "<table border=\"1\" class=\"dataframe\">\n",
       "  <thead>\n",
       "    <tr style=\"text-align: right;\">\n",
       "      <th></th>\n",
       "      <th>Job_title</th>\n",
       "      <th>Job_Location</th>\n",
       "      <th>Company_name</th>\n",
       "      <th>Experience_required</th>\n",
       "    </tr>\n",
       "  </thead>\n",
       "  <tbody>\n",
       "    <tr>\n",
       "      <th>0</th>\n",
       "      <td>Data Analyst - Marketing</td>\n",
       "      <td>Bangalore/Bengaluru</td>\n",
       "      <td>Byjus - Transforming Education using Technology</td>\n",
       "      <td>0-2 Yrs</td>\n",
       "    </tr>\n",
       "    <tr>\n",
       "      <th>1</th>\n",
       "      <td>Associate Data Analyst</td>\n",
       "      <td>Bangalore/Bengaluru</td>\n",
       "      <td>Integrated Digital Systems</td>\n",
       "      <td>0-2 Yrs</td>\n",
       "    </tr>\n",
       "    <tr>\n",
       "      <th>2</th>\n",
       "      <td>Business Data Analyst</td>\n",
       "      <td>Bangalore/Bengaluru</td>\n",
       "      <td>INDIAVIDUAL LEARNING LIMITED</td>\n",
       "      <td>2-6 Yrs</td>\n",
       "    </tr>\n",
       "    <tr>\n",
       "      <th>3</th>\n",
       "      <td>Lead Data Analyst / Data Engineer</td>\n",
       "      <td>Bangalore/Bengaluru</td>\n",
       "      <td>Huawei Technologies</td>\n",
       "      <td>5-10 Yrs</td>\n",
       "    </tr>\n",
       "    <tr>\n",
       "      <th>4</th>\n",
       "      <td>Data Analyst / Business Analyst (Demand Planning)</td>\n",
       "      <td>Bangalore/Bengaluru</td>\n",
       "      <td>Flipkart</td>\n",
       "      <td>1-4 Yrs</td>\n",
       "    </tr>\n",
       "    <tr>\n",
       "      <th>5</th>\n",
       "      <td>Senior Data Analyst</td>\n",
       "      <td>Bangalore/Bengaluru</td>\n",
       "      <td>Scienaptic Systems</td>\n",
       "      <td>5-10 Yrs</td>\n",
       "    </tr>\n",
       "    <tr>\n",
       "      <th>6</th>\n",
       "      <td>Data Analyst</td>\n",
       "      <td>Bangalore/Bengaluru</td>\n",
       "      <td>Applied Materials</td>\n",
       "      <td>0-3 Yrs</td>\n",
       "    </tr>\n",
       "    <tr>\n",
       "      <th>7</th>\n",
       "      <td>Business Data Analyst</td>\n",
       "      <td>Bangalore/Bengaluru</td>\n",
       "      <td>RANDSTAD INDIA PVT LTD</td>\n",
       "      <td>8-12 Yrs</td>\n",
       "    </tr>\n",
       "    <tr>\n",
       "      <th>8</th>\n",
       "      <td>Data Analyst - I/II</td>\n",
       "      <td>Bangalore/Bengaluru</td>\n",
       "      <td>Philips India Limited</td>\n",
       "      <td>3-6 Yrs</td>\n",
       "    </tr>\n",
       "    <tr>\n",
       "      <th>9</th>\n",
       "      <td>Data Analyst (BI) - I/II</td>\n",
       "      <td>Bangalore/Bengaluru</td>\n",
       "      <td>Philips India Limited</td>\n",
       "      <td>3-6 Yrs</td>\n",
       "    </tr>\n",
       "  </tbody>\n",
       "</table>\n",
       "</div>"
      ],
      "text/plain": [
       "                                           Job_title         Job_Location  \\\n",
       "0                           Data Analyst - Marketing  Bangalore/Bengaluru   \n",
       "1                             Associate Data Analyst  Bangalore/Bengaluru   \n",
       "2                              Business Data Analyst  Bangalore/Bengaluru   \n",
       "3                  Lead Data Analyst / Data Engineer  Bangalore/Bengaluru   \n",
       "4  Data Analyst / Business Analyst (Demand Planning)  Bangalore/Bengaluru   \n",
       "5                                Senior Data Analyst  Bangalore/Bengaluru   \n",
       "6                                       Data Analyst  Bangalore/Bengaluru   \n",
       "7                              Business Data Analyst  Bangalore/Bengaluru   \n",
       "8                                Data Analyst - I/II  Bangalore/Bengaluru   \n",
       "9                           Data Analyst (BI) - I/II  Bangalore/Bengaluru   \n",
       "\n",
       "                                      Company_name Experience_required  \n",
       "0  Byjus - Transforming Education using Technology             0-2 Yrs  \n",
       "1                       Integrated Digital Systems             0-2 Yrs  \n",
       "2                     INDIAVIDUAL LEARNING LIMITED             2-6 Yrs  \n",
       "3                              Huawei Technologies            5-10 Yrs  \n",
       "4                                         Flipkart             1-4 Yrs  \n",
       "5                               Scienaptic Systems            5-10 Yrs  \n",
       "6                                Applied Materials             0-3 Yrs  \n",
       "7                           RANDSTAD INDIA PVT LTD            8-12 Yrs  \n",
       "8                            Philips India Limited             3-6 Yrs  \n",
       "9                            Philips India Limited             3-6 Yrs  "
      ]
     },
     "execution_count": 29,
     "metadata": {},
     "output_type": "execute_result"
    }
   ],
   "source": [
    "# import pandas as pd\n",
    "jobs=pd.DataFrame({})\n",
    "jobs['Job_title']=job_titles[0:10]\n",
    "jobs['Job_Location']=job_locations[0:10]\n",
    "jobs['Company_name']=company_names[0:10]\n",
    "jobs['Experience_required']=experience_required[0:10]\n",
    "jobs\n"
   ]
  },
  {
   "cell_type": "code",
   "execution_count": null,
   "metadata": {},
   "outputs": [],
   "source": []
  }
 ],
 "metadata": {
  "kernelspec": {
   "display_name": "Python 3",
   "language": "python",
   "name": "python3"
  },
  "language_info": {
   "codemirror_mode": {
    "name": "ipython",
    "version": 3
   },
   "file_extension": ".py",
   "mimetype": "text/x-python",
   "name": "python",
   "nbconvert_exporter": "python",
   "pygments_lexer": "ipython3",
   "version": "3.8.5"
  }
 },
 "nbformat": 4,
 "nbformat_minor": 4
}
