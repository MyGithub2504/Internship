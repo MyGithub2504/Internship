{
 "cells": [
  {
   "cell_type": "code",
   "execution_count": 9,
   "metadata": {},
   "outputs": [
    {
     "name": "stdout",
     "output_type": "stream",
     "text": [
      "enter the value of number6\n",
      "Factorial is 720\n"
     ]
    }
   ],
   "source": [
    "n=int(input(\"enter the value of number\"))\n",
    "fact=1\n",
    "while(n>1):\n",
    "    fact=fact*n\n",
    "    n=n-1\n",
    "print('Factorial is %d'%(fact))"
   ]
  },
  {
   "cell_type": "code",
   "execution_count": 10,
   "metadata": {},
   "outputs": [
    {
     "name": "stdout",
     "output_type": "stream",
     "text": [
      "enter the value of number87\n",
      "87 is a composite number\n"
     ]
    }
   ],
   "source": [
    "num=int(input(\"enter the value of number\"))\n",
    "count = 0\n",
    "i = 1\n",
    "\n",
    "while(num >= i):\n",
    "    if(num % i == 0):\n",
    "        count += 1\n",
    "    i += 1\n",
    "\n",
    "if(count > 2):\n",
    "   print(\"%d is a composite number\" % num)\n",
    "else:\n",
    "   print(\"%d is not a composite number\" % num)"
   ]
  },
  {
   "cell_type": "code",
   "execution_count": 11,
   "metadata": {},
   "outputs": [
    {
     "name": "stdout",
     "output_type": "stream",
     "text": [
      "Enter string:76\n",
      "The string isn't a palindrome\n"
     ]
    }
   ],
   "source": [
    "string1=input(\"Enter string:\")\n",
    "if(string1==string1[::-1]):\n",
    "   print(\"The string is a palindrome\")\n",
    "else:\n",
    "   print(\"The string isn't a palindrome\")"
   ]
  },
  {
   "cell_type": "code",
   "execution_count": 12,
   "metadata": {},
   "outputs": [
    {
     "name": "stdout",
     "output_type": "stream",
     "text": [
      "enter first side56\n",
      "enter second side76\n",
      "third side of triangle is 94.40338976964757\n"
     ]
    }
   ],
   "source": [
    "import math\n",
    "side1=int(input(\"enter first side\"))\n",
    "side2=int(input(\"enter second side\"))\n",
    "sum1=(side1*side1)+(side2*side2)\n",
    "hypotenus=math.sqrt(sum1)\n",
    "print(\"third side of triangle is\",hypotenus)\n",
    "\n",
    "\n",
    "\n",
    "\n"
   ]
  },
  {
   "cell_type": "code",
   "execution_count": 17,
   "metadata": {},
   "outputs": [
    {
     "name": "stdout",
     "output_type": "stream",
     "text": [
      "Character frequency table for 'harpalsingh' is :\n",
      " {'h': 2, 'a': 2, 'r': 1, 'p': 1, 'l': 1, 's': 1, 'i': 1, 'n': 1, 'g': 1}\n"
     ]
    }
   ],
   "source": [
    "input_string = \"harpalsingh\"\n",
    "\n",
    "frequency_table = {} \n",
    "  \n",
    "for char in input_string: \n",
    "    frequency_table[char] = frequency_table.get(char, 0) + 1\n",
    "\n",
    "# Show Output\n",
    "print (\"Character frequency table for '{}' is :\\n {}\".format(input_string, str(frequency_table)))"
   ]
  },
  {
   "cell_type": "code",
   "execution_count": null,
   "metadata": {},
   "outputs": [],
   "source": []
  }
 ],
 "metadata": {
  "kernelspec": {
   "display_name": "Python 3",
   "language": "python",
   "name": "python3"
  },
  "language_info": {
   "codemirror_mode": {
    "name": "ipython",
    "version": 3
   },
   "file_extension": ".py",
   "mimetype": "text/x-python",
   "name": "python",
   "nbconvert_exporter": "python",
   "pygments_lexer": "ipython3",
   "version": "3.8.5"
  }
 },
 "nbformat": 4,
 "nbformat_minor": 4
}
